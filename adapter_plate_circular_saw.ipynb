{
 "cells": [
  {
   "cell_type": "code",
   "execution_count": 1,
   "id": "9b001879-977d-4161-831d-7f858ea208c3",
   "metadata": {},
   "outputs": [
    {
     "name": "stdout",
     "output_type": "stream",
     "text": [
      "Overwriting auto display for cadquery Workplane and Shape\n",
      "\n",
      "Enabling jupyter_cadquery replay\n",
      "\n",
      "\n",
      "Versions:\n",
      "- jupyter_cadquery  3.5.2\n",
      "- cad_viewer_widget 1.4.1\n",
      "- open cascade      7.6.3\n",
      "\n",
      "Plugins loaded:\n",
      "- cadquery-massembly\n"
     ]
    }
   ],
   "source": [
    "import cadquery as cq\n",
    "\n",
    "from jupyter_cadquery import (\n",
    "    versions,\n",
    "    show, PartGroup, Part, \n",
    "    get_viewer, close_viewer, get_viewers, close_viewers, open_viewer, set_defaults, get_defaults, open_viewer,\n",
    "    get_pick,\n",
    ")\n",
    "\n",
    "from jupyter_cadquery.replay import replay, enable_replay, reset_replay, disable_replay\n",
    "\n",
    "enable_replay(False)\n",
    "\n",
    "set_defaults(\n",
    "    cad_width=780,\n",
    "    height=540,\n",
    ")\n",
    "\n",
    "print()\n",
    "versions()"
   ]
  },
  {
   "cell_type": "code",
   "execution_count": 2,
   "id": "3b79384a-a0fb-4e7f-ad1f-2533e3375296",
   "metadata": {},
   "outputs": [
    {
     "name": "stdout",
     "output_type": "stream",
     "text": [
      "\n",
      "Enabling jupyter_cadquery replay\n"
     ]
    }
   ],
   "source": [
    "use_replay = True\n",
    "\n",
    "if use_replay:\n",
    "    enable_replay(False, False)\n",
    "    reset_replay()\n",
    "    show_object = replay\n",
    "else:\n",
    "    disable_replay()\n",
    "    show_object = show"
   ]
  },
  {
   "cell_type": "markdown",
   "id": "2e7cd8de-1a5d-4315-9c65-a6b399bdb8cb",
   "metadata": {},
   "source": [
    "# Bar Mount"
   ]
  },
  {
   "cell_type": "markdown",
   "id": "c8ee73ba-2a9f-40e7-b1b9-92e138997632",
   "metadata": {},
   "source": [
    "## Makita Rail Guide"
   ]
  },
  {
   "cell_type": "code",
   "execution_count": 3,
   "id": "21e5af19-2ba2-482a-9ec4-30390f16941f",
   "metadata": {},
   "outputs": [],
   "source": [
    "class makita_rail:\n",
    "    race_track_w = 122.6 # mm\n",
    "    guide_middle_w = 15.95 # mm\n",
    "    guide_down_w = 29.1 - 7 # mm\n",
    "    race_track_h = 5.0 # mm\n",
    "    guide_middle_h = 10.7 + 2.0 # mm\n",
    "    guide_down_h = 5.0 # mm\n",
    "\n",
    "class bosch_track_saw:\n",
    "    race_track_w = 103. # mm\n",
    "    race_track_w_total = 140.5 # mm\n",
    "    race_track_l = 151.25 * 2 # mm\n",
    "\n",
    "class magnet:\n",
    "    height = (1.85 + 0.2) * 2 # mm\n",
    "    diameter = 4.0 + 0.1 # mm\n",
    "    \n",
    "mr = makita_rail\n",
    "bts = bosch_track_saw\n",
    "\n",
    "def add(point_x, point_y):\n",
    "    return tuple(map(lambda x, y: x + y, point_x, point_y))"
   ]
  },
  {
   "cell_type": "code",
   "execution_count": 4,
   "id": "af662b39-c2a4-4cb3-9e49-9ddd5d056b4b",
   "metadata": {},
   "outputs": [
    {
     "name": "stdout",
     "output_type": "stream",
     "text": [
      "Use the multi select box below to select one or more steps you want to examine\n"
     ]
    },
    {
     "data": {
      "application/vnd.jupyter.widget-view+json": {
       "model_id": "109d9e42e6774aefa0d38bb5ab27b000",
       "version_major": 2,
       "version_minor": 0
      },
      "text/plain": [
       "HBox(children=(SelectMultiple(_dom_classes=('monospace',), index=(8,), layout=Layout(width='600px'), options=(…"
      ]
     },
     "metadata": {},
     "output_type": "display_data"
    },
    {
     "data": {
      "text/plain": [
       "<jupyter_cadquery.replay.Replay at 0x7fc06d9c26b0>"
      ]
     },
     "execution_count": 4,
     "metadata": {},
     "output_type": "execute_result"
    }
   ],
   "source": [
    "start = (0., 0.)\n",
    "racetrack = (mr.race_track_w, 0.)\n",
    "guide_up = add(racetrack, (0., mr.guide_middle_h - mr.guide_down_h))\n",
    "guide_back = add(guide_up, (mr.guide_middle_w, 0.))\n",
    "guide_down = add(guide_back, (0., -1 * (mr.guide_middle_h - mr.guide_down_h)))\n",
    "end_down = add(guide_down, (mr.guide_down_w, 0.))\n",
    "end_up = add(end_down, (0., 20.))\n",
    "start_up = (0., 20.)\n",
    "\n",
    "track_guide_sketch = (\n",
    "    cq.Sketch()\n",
    "    .segment(start, racetrack)\n",
    "    .segment(guide_up)\n",
    "    .segment(guide_back)\n",
    "    .segment(guide_down)\n",
    "    .segment(end_down)\n",
    "    .segment(end_up)\n",
    "    .segment(start_up)\n",
    "    .close()\n",
    "    .assemble(tag='track_side_cut')\n",
    ")\n",
    "\n",
    "show_object(track_guide_sketch)"
   ]
  },
  {
   "cell_type": "code",
   "execution_count": 5,
   "id": "08ee6d06-e3c6-4372-8b45-a82f36a7e06c",
   "metadata": {},
   "outputs": [
    {
     "name": "stdout",
     "output_type": "stream",
     "text": [
      "Use the multi select box below to select one or more steps you want to examine\n"
     ]
    },
    {
     "data": {
      "application/vnd.jupyter.widget-view+json": {
       "model_id": "076cc73e4b8d446b9a4449ad45d94e5c",
       "version_major": 2,
       "version_minor": 0
      },
      "text/plain": [
       "HBox(children=(SelectMultiple(_dom_classes=('monospace',), index=(43,), layout=Layout(width='600px'), options=…"
      ]
     },
     "metadata": {},
     "output_type": "display_data"
    },
    {
     "data": {
      "text/plain": [
       "<jupyter_cadquery.replay.Replay at 0x7fc06e7d4c70>"
      ]
     },
     "execution_count": 5,
     "metadata": {},
     "output_type": "execute_result"
    }
   ],
   "source": [
    "adapter_length = bts.race_track_l + 10.0\n",
    "saw_cut_width = bts.race_track_w_total - bts.race_track_w\n",
    "\n",
    "def make_adapter():\n",
    "    race_bed = (\n",
    "        cq.Workplane('XY')\n",
    "        .placeSketch(track_guide_sketch)\n",
    "        .extrude(adapter_length, both = False)\n",
    "        .faces(\">>Y\")\n",
    "        .workplane()\n",
    "        .move(0, adapter_length / 2)\n",
    "        .rect(bts.race_track_w * 2, bts.race_track_l)\n",
    "        .extrude(-15, combine=\"cut\")\n",
    "        .faces(\"<<Z\")\n",
    "        .workplane()\n",
    "        .rect(36, 30)\n",
    "        .extrude(-15, combine=\"cut\")\n",
    "        .faces(\">Y[-3]\")\n",
    "        .workplane(centerOption=\"CenterOfBoundBox\")\n",
    "        .rarray(15, 30, 5, 10)\n",
    "        .hole(magnet.diameter, magnet.height)\n",
    "        .faces(\"<<X\")\n",
    "        .workplane()\n",
    "        .rect(10,10)\n",
    "        .extrude(1, combine=\"cut\")\n",
    "        .faces(\"<<X\")\n",
    "        .wires()\n",
    "        .toPending()\n",
    "        .extrude(saw_cut_width)\n",
    "        .faces(\"<<X\")\n",
    "        .workplane(offset=-20)\n",
    "        .rect(10,260)\n",
    "        .extrude(-saw_cut_width + 20, combine=\"cut\")\n",
    "        .faces(\"<<X\")\n",
    "        .workplane()\n",
    "        .move(-5,2.5)\n",
    "        .rect(20,adapter_length)\n",
    "        .extrude(5)\n",
    "        .edges(\"|Y\")\n",
    "        .fillet(2.)\n",
    "        .faces(\">Y or <Y\")\n",
    "        .fillet(2.)\n",
    "    )\n",
    "    return race_bed\n",
    "\n",
    "adapter = make_adapter()\n",
    "\n",
    "show_object(adapter)"
   ]
  },
  {
   "cell_type": "code",
   "execution_count": 6,
   "id": "1e37487d-2d4b-4a3c-af63-dddacd49198c",
   "metadata": {},
   "outputs": [
    {
     "name": "stdout",
     "output_type": "stream",
     "text": [
      "\u001b[32;1m\n",
      "*******************************************************************\n",
      "******        Statistics on Transfer (Write)                 ******\u001b[0m\n",
      "\u001b[32;1m\n",
      "*******************************************************************\n",
      "******        Transfer Mode = 0  I.E.  As Is       ******\u001b[0m\n",
      "\u001b[32;1m******        Transferring Shape, ShapeType = 0                      ******\u001b[0m\n",
      "\u001b[32;1m** WorkSession : Sending all data\u001b[0m\n",
      "\u001b[32;1m Step File Name : circular_saw_guide_adapter.step(9573 ents)  Write  Done\u001b[0m\n"
     ]
    }
   ],
   "source": [
    "file_name = \"circular_saw_guide_adapter\"\n",
    "cq.exporters.export(adapter, file_name + \".stl\")\n",
    "cq.exporters.export(adapter, file_name + \".step\")"
   ]
  },
  {
   "cell_type": "code",
   "execution_count": 7,
   "id": "5848d19b-8eb4-41f9-9cbc-61a78c1ef305",
   "metadata": {},
   "outputs": [
    {
     "name": "stdout",
     "output_type": "stream",
     "text": [
      "\u001b[32;1m\n",
      "*******************************************************************\n",
      "******        Statistics on Transfer (Write)                 ******\u001b[0m\n",
      "\u001b[32;1m\n",
      "*******************************************************************\n",
      "******        Transfer Mode = 0  I.E.  As Is       ******\u001b[0m\n",
      "\u001b[32;1m******        Transferring Shape, ShapeType = 0                      ******\u001b[0m\n",
      "\u001b[32;1m** WorkSession : Sending all data\u001b[0m\n",
      "\u001b[32;1m Step File Name : test_circular_saw_guide_adapter.step(4476 ents)  Write  Done\u001b[0m\n",
      "Use the multi select box below to select one or more steps you want to examine\n"
     ]
    },
    {
     "data": {
      "application/vnd.jupyter.widget-view+json": {
       "model_id": "c3ef819a1bea4aa2a24f7b8f8a3f6759",
       "version_major": 2,
       "version_minor": 0
      },
      "text/plain": [
       "HBox(children=(SelectMultiple(_dom_classes=('monospace',), index=(46,), layout=Layout(width='600px'), options=…"
      ]
     },
     "metadata": {},
     "output_type": "display_data"
    },
    {
     "data": {
      "text/plain": [
       "<jupyter_cadquery.replay.Replay at 0x7fc06db49a50>"
      ]
     },
     "execution_count": 7,
     "metadata": {},
     "output_type": "execute_result"
    }
   ],
   "source": [
    "test_piece = (\n",
    "    make_adapter()\n",
    "    .faces(\">Z\")\n",
    "    .workplane(-adapter_length/6)\n",
    "    .split(keepTop=True, keepBottom=False)\n",
    ")\n",
    "\n",
    "file_name = \"test_circular_saw_guide_adapter\"\n",
    "cq.exporters.export(test_piece, file_name + \".stl\")\n",
    "cq.exporters.export(test_piece, file_name + \".step\")\n",
    "\n",
    "show_object(test_piece)"
   ]
  },
  {
   "cell_type": "code",
   "execution_count": 8,
   "id": "6a8c16db-5c9c-477e-b537-3afad63a904d",
   "metadata": {},
   "outputs": [
    {
     "name": "stdout",
     "output_type": "stream",
     "text": [
      "Use the multi select box below to select one or more steps you want to examine\n"
     ]
    },
    {
     "data": {
      "application/vnd.jupyter.widget-view+json": {
       "model_id": "19579d207ab44fb1a692b6ab34a0e0f5",
       "version_major": 2,
       "version_minor": 0
      },
      "text/plain": [
       "HBox(children=(SelectMultiple(_dom_classes=('monospace',), index=(14,), layout=Layout(width='600px'), options=…"
      ]
     },
     "metadata": {},
     "output_type": "display_data"
    },
    {
     "data": {
      "text/plain": [
       "<jupyter_cadquery.replay.Replay at 0x7fc06da7d2a0>"
      ]
     },
     "execution_count": 8,
     "metadata": {},
     "output_type": "execute_result"
    }
   ],
   "source": [
    "def make_connector_sketch(scale = 5., length = 2.5):\n",
    "    return (\n",
    "        cq.Sketch()\n",
    "        .segment((0.0, scale * 1.), (scale * length, scale * 1.))\n",
    "        .segment((scale * (length + 1.), scale * 2.))\n",
    "        .segment((scale * (length + 3.), scale * 2.))\n",
    "        .segment((scale * (length + 3.), -scale * 2.))\n",
    "        .segment((scale * (length + 1.), -scale * 2.))\n",
    "        .segment((scale * length, -scale * 1.))\n",
    "        .segment((0.0, -scale * 1.))\n",
    "        .segment((-scale * length, -scale * 1.))\n",
    "        .segment((-scale * (length + 1.), -scale * 2.))\n",
    "        .segment((-scale * (length + 3.), -scale * 2.))\n",
    "        .segment((-scale * (length + 3.), scale * 2.))\n",
    "        .segment((-scale * (length + 1.), scale * 2.))\n",
    "        .segment((-scale * length, scale * 1.))\n",
    "        .close()\n",
    "        .assemble(tag='connector')\n",
    "    )\n",
    "\n",
    "show_object(make_connector_sketch())"
   ]
  },
  {
   "cell_type": "code",
   "execution_count": 9,
   "id": "ff05e75a-8e13-4aa9-aa8c-010a21f0d73f",
   "metadata": {},
   "outputs": [
    {
     "name": "stdout",
     "output_type": "stream",
     "text": [
      "\u001b[32;1m\n",
      "*******************************************************************\n",
      "******        Statistics on Transfer (Write)                 ******\u001b[0m\n",
      "\u001b[32;1m\n",
      "*******************************************************************\n",
      "******        Transfer Mode = 0  I.E.  As Is       ******\u001b[0m\n",
      "\u001b[32;1m******        Transferring Shape, ShapeType = 0                      ******\u001b[0m\n",
      "\u001b[32;1m** WorkSession : Sending all data\u001b[0m\n",
      "\u001b[32;1m Step File Name : circular_saw_guide_connector_4.step(3030 ents)  Write  Done\u001b[0m\n",
      "\u001b[32;1m\n",
      "*******************************************************************\n",
      "******        Statistics on Transfer (Write)                 ******\u001b[0m\n",
      "\u001b[32;1m\n",
      "*******************************************************************\n",
      "******        Transfer Mode = 0  I.E.  As Is       ******\u001b[0m\n",
      "\u001b[32;1m******        Transferring Shape, ShapeType = 0                      ******\u001b[0m\n",
      "\u001b[32;1m** WorkSession : Sending all data\u001b[0m\n",
      "\u001b[32;1m Step File Name : circular_saw_guide_connector_8.step(3030 ents)  Write  Done\u001b[0m\n",
      "Use the multi select box below to select one or more steps you want to examine\n"
     ]
    },
    {
     "data": {
      "application/vnd.jupyter.widget-view+json": {
       "model_id": "3ef93c1ded7b473da68d1389a25ee548",
       "version_major": 2,
       "version_minor": 0
      },
      "text/plain": [
       "HBox(children=(SelectMultiple(_dom_classes=('monospace',), index=(20,), layout=Layout(width='600px'), options=…"
      ]
     },
     "metadata": {},
     "output_type": "display_data"
    },
    {
     "data": {
      "text/plain": [
       "<jupyter_cadquery.replay.Replay at 0x7fc06e7d60b0>"
      ]
     },
     "execution_count": 9,
     "metadata": {},
     "output_type": "execute_result"
    }
   ],
   "source": [
    "connector_scale = 10.\n",
    "connector_length = 2.5\n",
    "connector_shrink = 0.99\n",
    "connector_length_adder = 1.0\n",
    "\n",
    "def make_connector(thickness = 4., scale = 5., length = 2.5):\n",
    "    connector = (\n",
    "        cq.Workplane(\"XY\")\n",
    "        .placeSketch(make_connector_sketch(scale, length))\n",
    "        .extrude(thickness, both = False)\n",
    "        .edges(\"|Z\")\n",
    "        .fillet(1.)\n",
    "        .faces(\"<Z\")\n",
    "        .fillet(1.)\n",
    "    )\n",
    "    return connector\n",
    "\n",
    "file_name = \"circular_saw_guide_connector_4\"\n",
    "connector_4 = make_connector(4., connector_scale * connector_shrink, connector_length + connector_length_adder)\n",
    "cq.exporters.export(connector_4, file_name + \".stl\")\n",
    "cq.exporters.export(connector_4, file_name + \".step\")\n",
    "\n",
    "connector_8 = make_connector(8., connector_scale * connector_shrink, connector_length + connector_length_adder)\n",
    "file_name = \"circular_saw_guide_connector_8\"\n",
    "cq.exporters.export(connector_8, file_name + \".stl\")\n",
    "cq.exporters.export(connector_8, file_name + \".step\")\n",
    "\n",
    "show_object(make_connector())"
   ]
  },
  {
   "cell_type": "code",
   "execution_count": 10,
   "id": "b95e2bdb-d838-46d4-9dec-de94b0b74b23",
   "metadata": {},
   "outputs": [
    {
     "name": "stdout",
     "output_type": "stream",
     "text": [
      "Use the multi select box below to select one or more steps you want to examine\n"
     ]
    },
    {
     "data": {
      "application/vnd.jupyter.widget-view+json": {
       "model_id": "0d9792faa6ef42c19b9d2f1d99d6012e",
       "version_major": 2,
       "version_minor": 0
      },
      "text/plain": [
       "HBox(children=(SelectMultiple(_dom_classes=('monospace',), index=(83,), layout=Layout(width='600px'), options=…"
      ]
     },
     "metadata": {},
     "output_type": "display_data"
    },
    {
     "data": {
      "text/plain": [
       "<jupyter_cadquery.replay.Replay at 0x7fc06cc4c820>"
      ]
     },
     "execution_count": 10,
     "metadata": {},
     "output_type": "execute_result"
    }
   ],
   "source": [
    "def make_connectable_adapter():\n",
    "    adapter = (\n",
    "        make_adapter()\n",
    "        .faces(\">Y[-3]\")\n",
    "        .workplane()\n",
    "        .transformed(offset=cq.Vector(-90., 0, 0), rotate=cq.Vector(0, 0, 90.))\n",
    "        .placeSketch(make_connector_sketch(connector_scale, connector_length))\n",
    "        .extrude(-4.1, combine=\"cut\")\n",
    "        .faces(\">Y\")\n",
    "        .workplane()\n",
    "        .transformed(offset=cq.Vector(-80., 0, 0), rotate=cq.Vector(0, 0, 90.))\n",
    "        .placeSketch(make_connector_sketch(connector_scale, connector_length))\n",
    "        .extrude(-8.1, combine=\"cut\")\n",
    "    )\n",
    "    return adapter\n",
    "\n",
    "show_object(make_connectable_adapter())"
   ]
  },
  {
   "cell_type": "code",
   "execution_count": 11,
   "id": "ddc812d8-ee4d-42bb-811e-562fca6ff522",
   "metadata": {},
   "outputs": [
    {
     "name": "stdout",
     "output_type": "stream",
     "text": [
      "\u001b[32;1m\n",
      "*******************************************************************\n",
      "******        Statistics on Transfer (Write)                 ******\u001b[0m\n",
      "\u001b[32;1m\n",
      "*******************************************************************\n",
      "******        Transfer Mode = 0  I.E.  As Is       ******\u001b[0m\n",
      "\u001b[32;1m******        Transferring Shape, ShapeType = 0                      ******\u001b[0m\n",
      "Use the multi select box below to select one or more steps you want to examine\n",
      "\u001b[32;1m** WorkSession : Sending all data\u001b[0m\n",
      "\u001b[32;1m Step File Name : circular_saw_guide_adapter_bot.step(6897 ents)  Write  Done\u001b[0m\n"
     ]
    },
    {
     "data": {
      "application/vnd.jupyter.widget-view+json": {
       "model_id": "9fd50a5508404c39be93f6cd6b639f88",
       "version_major": 2,
       "version_minor": 0
      },
      "text/plain": [
       "HBox(children=(SelectMultiple(_dom_classes=('monospace',), index=(86,), layout=Layout(width='600px'), options=…"
      ]
     },
     "metadata": {},
     "output_type": "display_data"
    },
    {
     "data": {
      "text/plain": [
       "<jupyter_cadquery.replay.Replay at 0x7fc06ccce920>"
      ]
     },
     "execution_count": 11,
     "metadata": {},
     "output_type": "execute_result"
    }
   ],
   "source": [
    "bot_piece = (\n",
    "    make_connectable_adapter()\n",
    "    .faces(\">Z\")\n",
    "    .workplane(-adapter_length/2)\n",
    "    .split(keepTop=False, keepBottom=True)\n",
    ")\n",
    "\n",
    "file_name = \"circular_saw_guide_adapter_bot\"\n",
    "cq.exporters.export(bot_piece, file_name + \".stl\")\n",
    "cq.exporters.export(bot_piece, file_name + \".step\")\n",
    "\n",
    "show_object(bot_piece)"
   ]
  },
  {
   "cell_type": "code",
   "execution_count": 12,
   "id": "9f895766-e0a9-4a58-80e2-837e7e457316",
   "metadata": {},
   "outputs": [
    {
     "name": "stdout",
     "output_type": "stream",
     "text": [
      "\u001b[32;1m\n",
      "*******************************************************************\n",
      "******        Statistics on Transfer (Write)                 ******\u001b[0m\n",
      "\u001b[32;1m\n",
      "*******************************************************************\n",
      "******        Transfer Mode = 0  I.E.  As Is       ******\u001b[0m\n",
      "\u001b[32;1m******        Transferring Shape, ShapeType = 0                      ******\u001b[0m\n",
      "Use the multi select box below to select one or more steps you want to examine\n",
      "\u001b[32;1m** WorkSession : Sending all data\u001b[0m\n",
      "\u001b[32;1m Step File Name : circular_saw_guide_adapter_top.step(6442 ents)  Write  Done\u001b[0m\n"
     ]
    },
    {
     "data": {
      "application/vnd.jupyter.widget-view+json": {
       "model_id": "fdeec6e919fe4671b8dfbd4885e44d14",
       "version_major": 2,
       "version_minor": 0
      },
      "text/plain": [
       "HBox(children=(SelectMultiple(_dom_classes=('monospace',), index=(86,), layout=Layout(width='600px'), options=…"
      ]
     },
     "metadata": {},
     "output_type": "display_data"
    },
    {
     "data": {
      "text/plain": [
       "<jupyter_cadquery.replay.Replay at 0x7fc06e3c1480>"
      ]
     },
     "execution_count": 12,
     "metadata": {},
     "output_type": "execute_result"
    }
   ],
   "source": [
    "top_piece = (\n",
    "    make_connectable_adapter()\n",
    "    .faces(\">Z\")\n",
    "    .workplane(-adapter_length/2)\n",
    "    .split(keepTop=True, keepBottom=False)\n",
    ")\n",
    "\n",
    "file_name = \"circular_saw_guide_adapter_top\"\n",
    "cq.exporters.export(top_piece, file_name + \".stl\")\n",
    "cq.exporters.export(top_piece, file_name + \".step\")\n",
    "\n",
    "show_object(top_piece)"
   ]
  },
  {
   "cell_type": "code",
   "execution_count": null,
   "id": "a7ca995a-7eb5-497f-b42a-c2d51da25b19",
   "metadata": {},
   "outputs": [],
   "source": []
  }
 ],
 "metadata": {
  "kernelspec": {
   "display_name": "Python 3 (ipykernel)",
   "language": "python",
   "name": "python3"
  },
  "language_info": {
   "codemirror_mode": {
    "name": "ipython",
    "version": 3
   },
   "file_extension": ".py",
   "mimetype": "text/x-python",
   "name": "python",
   "nbconvert_exporter": "python",
   "pygments_lexer": "ipython3",
   "version": "3.10.8"
  }
 },
 "nbformat": 4,
 "nbformat_minor": 5
}

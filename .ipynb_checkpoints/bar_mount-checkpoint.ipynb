{
 "cells": [
  {
   "cell_type": "code",
   "execution_count": 1,
   "id": "9b001879-977d-4161-831d-7f858ea208c3",
   "metadata": {},
   "outputs": [
    {
     "name": "stdout",
     "output_type": "stream",
     "text": [
      "Overwriting auto display for cadquery Workplane and Shape\n",
      "\n",
      "Enabling jupyter_cadquery replay\n",
      "\n",
      "jupyter_cadquery  3.1.0rc4\n",
      "cad_viewer_widget 1.3.2\n",
      "OCP               7.5.3\n"
     ]
    }
   ],
   "source": [
    "import cadquery as cq\n",
    "\n",
    "from jupyter_cadquery import (\n",
    "    versions,\n",
    "    show, PartGroup, Part, \n",
    "    get_viewer, close_viewer, get_viewers, close_viewers, open_viewer, set_defaults, get_defaults, open_viewer,\n",
    "    get_pick,\n",
    ")\n",
    "\n",
    "from jupyter_cadquery.replay import replay, enable_replay, reset_replay, disable_replay\n",
    "\n",
    "enable_replay(False)\n",
    "\n",
    "set_defaults(\n",
    "    cad_width=780, \n",
    "    height=540, \n",
    ")\n",
    "\n",
    "print()\n",
    "versions()"
   ]
  },
  {
   "cell_type": "code",
   "execution_count": 2,
   "id": "3b79384a-a0fb-4e7f-ad1f-2533e3375296",
   "metadata": {},
   "outputs": [
    {
     "name": "stdout",
     "output_type": "stream",
     "text": [
      "\n",
      "Enabling jupyter_cadquery replay\n"
     ]
    }
   ],
   "source": [
    "use_replay = True\n",
    "\n",
    "if use_replay:\n",
    "    enable_replay(False, False)\n",
    "    reset_replay()\n",
    "    show_object = replay\n",
    "else:\n",
    "    disable_replay()\n",
    "    show_object = show"
   ]
  },
  {
   "cell_type": "markdown",
   "id": "2e7cd8de-1a5d-4315-9c65-a6b399bdb8cb",
   "metadata": {},
   "source": [
    "# Bar Mount"
   ]
  },
  {
   "cell_type": "markdown",
   "id": "c8ee73ba-2a9f-40e7-b1b9-92e138997632",
   "metadata": {},
   "source": [
    "## Wall Bar Anchor"
   ]
  },
  {
   "cell_type": "code",
   "execution_count": 3,
   "id": "21e5af19-2ba2-482a-9ec4-30390f16941f",
   "metadata": {},
   "outputs": [],
   "source": [
    "outer_height = 23\n",
    "outer_depth = 20\n",
    "inner_height = 22\n",
    "inner_depth = 15\n",
    "\n",
    "wall_thickness = 2\n",
    "trench_depth = 9\n",
    "trench_gap = 4.5\n",
    "\n",
    "grip_thickness = 1.6\n",
    "grip_mount_height = 6\n",
    "grip_grip = 0.5\n",
    "grip_length = 21\n",
    "\n",
    "l_length = 60 - 2 * grip_length\n",
    "\n",
    "bottom_thickness = 3\n",
    "\n",
    "bottom_bracket_height = 7.2\n",
    "bottom_bracket_indention = 6"
   ]
  },
  {
   "cell_type": "code",
   "execution_count": 4,
   "id": "af662b39-c2a4-4cb3-9e49-9ddd5d056b4b",
   "metadata": {},
   "outputs": [
    {
     "name": "stdout",
     "output_type": "stream",
     "text": [
      "Use the multi select box below to select one or more steps you want to examine\n"
     ]
    },
    {
     "data": {
      "application/vnd.jupyter.widget-view+json": {
       "model_id": "a113cd07b04d4299bc518d6f52903123",
       "version_major": 2,
       "version_minor": 0
      },
      "text/plain": [
       "HBox(children=(SelectMultiple(_dom_classes=('monospace',), index=(18,), layout=Layout(width='600px'), options=…"
      ]
     },
     "metadata": {},
     "output_type": "display_data"
    },
    {
     "data": {
      "text/plain": [
       "<jupyter_cadquery.replay.Replay at 0x7f38dd5878e0>"
      ]
     },
     "execution_count": 4,
     "metadata": {},
     "output_type": "execute_result"
    }
   ],
   "source": [
    "lp00 = (0.,0)\n",
    "lp01 = (inner_height,0.)\n",
    "lp1 = (inner_height,wall_thickness)\n",
    "lp2 = (bottom_thickness,wall_thickness)\n",
    "lp3 = (bottom_thickness,inner_depth)\n",
    "lp4 = (0,inner_depth)\n",
    "\n",
    "grip_sketch = (\n",
    "    cq.Sketch()\n",
    "    .segment(lp00, lp01)\n",
    "    .segment(lp1)\n",
    "    .segment((inner_height - trench_depth,wall_thickness))\n",
    "    .segment((inner_height - trench_depth,wall_thickness + trench_gap + grip_grip))\n",
    "    .segment((inner_height,wall_thickness + trench_gap))\n",
    "    .segment((inner_height,wall_thickness + trench_gap + grip_thickness))\n",
    "    .segment((inner_height - trench_depth,wall_thickness + trench_gap + grip_thickness + grip_grip))\n",
    "    .segment((inner_height - trench_depth - wall_thickness,wall_thickness + trench_gap + grip_thickness))\n",
    "    .segment((grip_mount_height,wall_thickness))\n",
    "    .segment(lp2)\n",
    "    .segment((bottom_thickness,inner_depth - wall_thickness))\n",
    "    .segment((bottom_bracket_height,inner_depth - bottom_bracket_indention))\n",
    "    .segment((bottom_bracket_height,inner_depth - bottom_bracket_indention + wall_thickness))\n",
    "    .segment(lp3)\n",
    "    .segment(lp4)\n",
    "    .close()\n",
    "    .assemble(tag='grip_face')\n",
    "    .edges('%LINE',tag='grip_face')\n",
    "    # .vertices('>X or >Y or <X or <Y')\n",
    "    # .vertices()\n",
    "    # .fillet(0.75)\n",
    "    .reset()\n",
    ")\n",
    "\n",
    "show_object(grip_sketch)"
   ]
  },
  {
   "cell_type": "code",
   "execution_count": 5,
   "id": "0d66809e-6d35-4979-894c-7e5525aa298b",
   "metadata": {},
   "outputs": [
    {
     "name": "stdout",
     "output_type": "stream",
     "text": [
      "Use the multi select box below to select one or more steps you want to examine\n"
     ]
    },
    {
     "data": {
      "application/vnd.jupyter.widget-view+json": {
       "model_id": "b842ee01ee194fc980436100900edcbb",
       "version_major": 2,
       "version_minor": 0
      },
      "text/plain": [
       "HBox(children=(SelectMultiple(_dom_classes=('monospace',), index=(8,), layout=Layout(width='600px'), options=(…"
      ]
     },
     "metadata": {},
     "output_type": "display_data"
    },
    {
     "data": {
      "text/plain": [
       "<jupyter_cadquery.replay.Replay at 0x7f38dd6631c0>"
      ]
     },
     "execution_count": 5,
     "metadata": {},
     "output_type": "execute_result"
    }
   ],
   "source": [
    "l_sketch = (\n",
    "    cq.Sketch()\n",
    "    .segment(lp00, lp01)\n",
    "    .segment(lp1)\n",
    "    .segment(lp2)\n",
    "    .segment(lp3)\n",
    "    .segment(lp4)\n",
    "    .close()\n",
    "    .assemble(tag='l_face')\n",
    "    .edges('%LINE',tag='l_face')\n",
    "    # .vertices()\n",
    "    # .fillet(0.75)\n",
    "    .reset()\n",
    ")\n",
    "\n",
    "show_object(l_sketch)"
   ]
  },
  {
   "cell_type": "code",
   "execution_count": 6,
   "id": "08ee6d06-e3c6-4372-8b45-a82f36a7e06c",
   "metadata": {},
   "outputs": [
    {
     "name": "stdout",
     "output_type": "stream",
     "text": [
      "Use the multi select box below to select one or more steps you want to examine\n"
     ]
    },
    {
     "data": {
      "application/vnd.jupyter.widget-view+json": {
       "model_id": "b9d5354de5e34d0ebe7ad44d0dad095b",
       "version_major": 2,
       "version_minor": 0
      },
      "text/plain": [
       "HBox(children=(SelectMultiple(_dom_classes=('monospace',), index=(20,), layout=Layout(width='600px'), options=…"
      ]
     },
     "metadata": {},
     "output_type": "display_data"
    },
    {
     "data": {
      "text/plain": [
       "<jupyter_cadquery.replay.Replay at 0x7f38dd6c96a0>"
      ]
     },
     "execution_count": 6,
     "metadata": {},
     "output_type": "execute_result"
    }
   ],
   "source": [
    "def make_grip_section():\n",
    "    grip_section = (\n",
    "        cq.Workplane('ZY')\n",
    "        .placeSketch(grip_sketch)\n",
    "        .extrude(grip_length)\n",
    "    )\n",
    "    grip_section.vertices('>X and >Y and <Z').tag('left_point_front')\n",
    "    grip_section.vertices('>X and <Y and <Z').tag('left_point')\n",
    "    grip_section.vertices('>X and <Y and >Z').tag('left_point_up')\n",
    "    grip_section.vertices('<X and >Y and <Z').tag('right_point_front')\n",
    "    grip_section.vertices('<X and <Y and <Z').tag('right_point')\n",
    "    grip_section.vertices('<X and <Y and >Z').tag('right_point_up')\n",
    "    return grip_section\n",
    "    \n",
    "show_object(make_grip_section())"
   ]
  },
  {
   "cell_type": "code",
   "execution_count": 7,
   "id": "2bc657bf-f375-471a-a1a9-69cc2723d9a7",
   "metadata": {},
   "outputs": [
    {
     "name": "stdout",
     "output_type": "stream",
     "text": [
      "Use the multi select box below to select one or more steps you want to examine\n"
     ]
    },
    {
     "data": {
      "application/vnd.jupyter.widget-view+json": {
       "model_id": "babdb71907d5480d9b561f34376b12c2",
       "version_major": 2,
       "version_minor": 0
      },
      "text/plain": [
       "HBox(children=(SelectMultiple(_dom_classes=('monospace',), index=(14,), layout=Layout(width='600px'), options=…"
      ]
     },
     "metadata": {},
     "output_type": "display_data"
    },
    {
     "data": {
      "text/plain": [
       "<jupyter_cadquery.replay.Replay at 0x7f38dd663400>"
      ]
     },
     "execution_count": 7,
     "metadata": {},
     "output_type": "execute_result"
    }
   ],
   "source": [
    "def make_l_section(length):\n",
    "    inner_bore_height = 14\n",
    "\n",
    "    l_section = (\n",
    "        cq.Workplane('ZY')\n",
    "        .placeSketch(l_sketch)\n",
    "        .extrude(length)\n",
    "        .faces(\">Y[-2]\").workplane()\n",
    "        .center(length / 2, inner_bore_height)\n",
    "        .cskHole(4, 8, 100, depth=None)        \n",
    "    )\n",
    "    l_section.vertices('>X and >Y and <Z').tag('left_point_front')\n",
    "    l_section.vertices('>X and <Y and <Z').tag('left_point')\n",
    "    l_section.vertices('>X and <Y and >Z').tag('left_point_up')\n",
    "    l_section.vertices('<X and >Y and <Z').tag('right_point_front')\n",
    "    l_section.vertices('<X and <Y and <Z').tag('right_point')\n",
    "    l_section.vertices('<X and <Y and >Z').tag('right_point_up')\n",
    "    return l_section\n",
    "\n",
    "show_object(make_l_section(l_length))"
   ]
  },
  {
   "cell_type": "markdown",
   "id": "37fdda0b-4c9d-4095-97f9-ed1a746a4d83",
   "metadata": {},
   "source": [
    "## Assamble the parts"
   ]
  },
  {
   "cell_type": "code",
   "execution_count": 8,
   "id": "adf0deb3-cb00-430d-a6d5-7a5623005335",
   "metadata": {},
   "outputs": [
    {
     "name": "stdout",
     "output_type": "stream",
     "text": [
      "Removing replay from cadquery.Workplane (will show a final RuntimeWarning if not suppressed)\n"
     ]
    }
   ],
   "source": [
    "disable_replay()\n",
    "show_object = show"
   ]
  },
  {
   "cell_type": "code",
   "execution_count": 9,
   "id": "35da94af-d206-4446-b3a1-f39dd2c98cd8",
   "metadata": {},
   "outputs": [
    {
     "name": "stdout",
     "output_type": "stream",
     "text": [
      "100% ⋮————————————————————————————————————————————————————————————⋮ (3/3)  0.03s\n"
     ]
    },
    {
     "data": {
      "application/vnd.jupyter.widget-view+json": {
       "model_id": "293cf16021dd44058fc1eadf8e2f76a1",
       "version_major": 2,
       "version_minor": 0
      },
      "text/plain": [
       "CadViewerWidget(anchor=None, cad_width=780, glass=False, height=540, pinning=False, theme='light', title=None,…"
      ]
     },
     "metadata": {},
     "output_type": "display_data"
    },
    {
     "data": {
      "text/html": [
       "<div></div>"
      ],
      "text/plain": [
       "<IPython.core.display.HTML object>"
      ]
     },
     "metadata": {},
     "output_type": "display_data"
    },
    {
     "data": {
      "text/plain": [
       "<cad_viewer_widget.widget.CadViewer at 0x7f38dd624dc0>"
      ]
     },
     "execution_count": 9,
     "metadata": {},
     "output_type": "execute_result"
    }
   ],
   "source": [
    "def make_basic_mount():\n",
    "    basic_mount = (\n",
    "        cq.Assembly()\n",
    "        .add(make_grip_section(), name=\"g0\")\n",
    "        .add(make_l_section(l_length), name=\"l0\")\n",
    "        .add(make_grip_section(), name=\"g1\")\n",
    "    )\n",
    "    (\n",
    "        basic_mount\n",
    "        .constrain(\"g0?left_point\", \"Fixed\")\n",
    "        .constrain(\"g0?right_point_front\", \"l0?left_point_front\", \"Point\")\n",
    "        .constrain(\"g0?right_point\", \"l0?left_point\", \"Point\")\n",
    "        .constrain(\"g0?right_point_up\", \"l0?left_point_up\", \"Point\")\n",
    "        .constrain(\"l0?right_point_front\", \"g1?left_point_front\", \"Point\")\n",
    "        .constrain(\"l0?right_point\", \"g1?left_point\", \"Point\")\n",
    "        .constrain(\"l0?right_point_up\", \"g1?left_point_up\", \"Point\")\n",
    "    )\n",
    "    basic_mount.solve()\n",
    "    return basic_mount\n",
    "\n",
    "show_object(make_basic_mount())"
   ]
  },
  {
   "cell_type": "code",
   "execution_count": 10,
   "id": "be1e21f2-18ab-4829-9cde-d599a5942b2b",
   "metadata": {},
   "outputs": [
    {
     "name": "stdout",
     "output_type": "stream",
     "text": [
      "100% ⋮————————————————————————————————————————————————————————————⋮ (6/6)  0.05s\n"
     ]
    },
    {
     "data": {
      "application/vnd.jupyter.widget-view+json": {
       "model_id": "18ded243c5514e66b28104ad10b35b58",
       "version_major": 2,
       "version_minor": 0
      },
      "text/plain": [
       "CadViewerWidget(anchor=None, cad_width=780, glass=False, height=540, pinning=False, theme='light', title=None,…"
      ]
     },
     "metadata": {},
     "output_type": "display_data"
    },
    {
     "data": {
      "text/html": [
       "<div></div>"
      ],
      "text/plain": [
       "<IPython.core.display.HTML object>"
      ]
     },
     "metadata": {},
     "output_type": "display_data"
    },
    {
     "data": {
      "text/plain": [
       "<cad_viewer_widget.widget.CadViewer at 0x7f38d423a850>"
      ]
     },
     "execution_count": 10,
     "metadata": {},
     "output_type": "execute_result"
    }
   ],
   "source": [
    "def make_mount():\n",
    "    mount = (\n",
    "        cq.Assembly()\n",
    "        .add(make_basic_mount(), name=\"m0\")\n",
    "        .add(make_basic_mount(), name=\"m1\")\n",
    "    )\n",
    "    (\n",
    "        mount\n",
    "        # .constrain(\"m0@g0?left_point\", \"Fixed\")\n",
    "        # .constrain(\"m0@g0?right_plane\", \"m1@l0?left_plane\", \"PointInPlane\")\n",
    "        # .constrain(\"m0@g0?right_point\", \"m1@l0?left_point\", \"Point\")\n",
    "        # .constrain(\"m0@g0?right_point_up\", \"m1@l0?left_point_up\", \"Point\")\n",
    "    )\n",
    "    # mount.solve()\n",
    "    return mount\n",
    "\n",
    "show_object(make_mount())"
   ]
  },
  {
   "cell_type": "code",
   "execution_count": 11,
   "id": "e79baf36-709c-42f4-8929-e9ace36f7c65",
   "metadata": {},
   "outputs": [],
   "source": [
    "class Wallmount_Constraints:\n",
    "    def __init__(self):\n",
    "        self.assembly = cq.Assembly()\n",
    "        self.names = []\n",
    "\n",
    "    def add_section(self, section, name: str):\n",
    "        self.assembly.add(section, name=name)\n",
    "        if len(self.names) == 0:\n",
    "            (\n",
    "                self.assembly\n",
    "                .constrain(name + \"?left_point_front\", \"Fixed\")\n",
    "                .constrain(name + \"?left_point\", \"Fixed\")\n",
    "                .constrain(name + \"?left_point_up\", \"Fixed\")\n",
    "            )\n",
    "        else:\n",
    "            last_name = self.names[-1]\n",
    "            (\n",
    "                self.assembly\n",
    "                .constrain(last_name + \"?right_point_front\", name + \"?left_point_front\", \"Point\")\n",
    "                .constrain(last_name + \"?right_point\", name + \"?left_point\", \"Point\")\n",
    "                .constrain(last_name + \"?right_point_up\", name + \"?left_point_up\", \"Point\")\n",
    "            )\n",
    "            for _ in range(10):\n",
    "                self.assembly = self.assembly.solve()\n",
    "            # show_object(self.assembly)\n",
    "        self.names.append(name)\n",
    "\n",
    "    def add_l_section(self, name: str, length: float):\n",
    "        self.add_section(make_l_section(length), name)\n",
    "        return self\n",
    "\n",
    "    def add_grip_section(self, name: str):\n",
    "        self.add_section(make_grip_section(), name)\n",
    "        return self\n",
    "    \n",
    "    def make(self):\n",
    "        self.assembly.solve()\n",
    "        return self.assembly"
   ]
  },
  {
   "cell_type": "code",
   "execution_count": 12,
   "id": "a6e5edc7-d15f-4309-8d97-8bf8e51b1186",
   "metadata": {},
   "outputs": [
    {
     "name": "stdout",
     "output_type": "stream",
     "text": [
      "100% ⋮————————————————————————————————————————————————————————————⋮ (3/3)  0.03s\n"
     ]
    },
    {
     "data": {
      "application/vnd.jupyter.widget-view+json": {
       "model_id": "26fee30e9a064a87a77d0606b2621d24",
       "version_major": 2,
       "version_minor": 0
      },
      "text/plain": [
       "CadViewerWidget(anchor=None, cad_width=780, glass=False, height=540, pinning=False, theme='light', title=None,…"
      ]
     },
     "metadata": {},
     "output_type": "display_data"
    },
    {
     "data": {
      "text/html": [
       "<div></div>"
      ],
      "text/plain": [
       "<IPython.core.display.HTML object>"
      ]
     },
     "metadata": {},
     "output_type": "display_data"
    }
   ],
   "source": [
    "mount = Wallmount_Constraints()\n",
    "\n",
    "(\n",
    "    mount\n",
    "    .add_grip_section(\"g0\")\n",
    "    .add_l_section(\"l0\", 40)\n",
    "    .add_grip_section(\"g1\")\n",
    "    # .add_l_section(\"l1\", 40)\n",
    "    # .add_grip_section(\"g2\")\n",
    "    # .add_l_section(\"l2\", 40)\n",
    "    # .add_grip_section(\"g3\")\n",
    "    .make()\n",
    ")"
   ]
  },
  {
   "cell_type": "code",
   "execution_count": 52,
   "id": "618e2a68-94a8-4597-96a0-42a5f3fdca06",
   "metadata": {},
   "outputs": [],
   "source": [
    "class Wallmount_Singleton:\n",
    "    def __init__(self):\n",
    "        self.mount = None\n",
    "\n",
    "    def add_tags(self):\n",
    "        self.mount.vertices('>X and >Y and <Z').tag('left_point_front')\n",
    "        self.mount.vertices('>X and <Y and <Z').tag('left_point')\n",
    "        self.mount.vertices('>X and <Y and >Z').tag('left_point_up')\n",
    "        self.mount.vertices('<X and >Y and <Z').tag('right_point_front')\n",
    "        self.mount.vertices('<X and <Y and <Z').tag('right_point')\n",
    "        self.mount.vertices('<X and <Y and >Z').tag('right_point_up')\n",
    "        \n",
    "    def add_section(self, section):\n",
    "\n",
    "        if self.mount == None:\n",
    "            self.mount = section\n",
    "        else:\n",
    "            assembly = cq.Assembly()\n",
    "\n",
    "            name = \"new\"\n",
    "            last_name = \"old\"\n",
    "\n",
    "            assembly.add(self.mount, name=name)\n",
    "            assembly.add(section, name=last_name)\n",
    "\n",
    "            (\n",
    "                assembly\n",
    "                .constrain(name + \"?left_point_front\", \"Fixed\")\n",
    "                .constrain(name + \"?left_point\", \"Fixed\")\n",
    "                .constrain(name + \"?left_point_up\", \"Fixed\")\n",
    "                .constrain(last_name + \"?right_point_front\", name + \"?left_point_front\", \"Point\")\n",
    "                .constrain(last_name + \"?right_point\", name + \"?left_point\", \"Point\")\n",
    "                .constrain(last_name + \"?right_point_up\", name + \"?left_point_up\", \"Point\")\n",
    "            )\n",
    "\n",
    "            for _ in range(2):\n",
    "                assembly = assembly.solve()\n",
    "            self.mount = cq.Workplane(assembly.toCompound())\n",
    "            self.add_tags()\n",
    "            # show_object(self.mount)\n",
    "\n",
    "    def add_l_section(self, length: float):\n",
    "        self.add_section(make_l_section(length))\n",
    "        return self\n",
    "\n",
    "    def add_grip_section(self):\n",
    "        self.add_section(make_grip_section())\n",
    "        return self\n",
    "    \n",
    "    def make(self):\n",
    "        return self.mount"
   ]
  },
  {
   "cell_type": "code",
   "execution_count": 57,
   "id": "1fb82dc0-3f65-4941-9b05-9ec46e4e8bc1",
   "metadata": {},
   "outputs": [
    {
     "data": {
      "application/vnd.jupyter.widget-view+json": {
       "model_id": "203e8681186b4a2fae7668b1e73a3987",
       "version_major": 2,
       "version_minor": 0
      },
      "text/plain": [
       "CadViewerWidget(anchor=None, cad_width=780, glass=False, height=540, pinning=False, theme='light', title=None,…"
      ]
     },
     "metadata": {},
     "output_type": "display_data"
    },
    {
     "data": {
      "text/html": [
       "<div></div>"
      ],
      "text/plain": [
       "<IPython.core.display.HTML object>"
      ]
     },
     "metadata": {},
     "output_type": "display_data"
    },
    {
     "data": {
      "application/vnd.jupyter.widget-view+json": {
       "model_id": "08c48a2a39e44abaafbe8a21b4e4a51b",
       "version_major": 2,
       "version_minor": 0
      },
      "text/plain": [
       "CadViewerWidget(anchor=None, cad_width=780, glass=False, height=540, pinning=False, theme='light', title=None,…"
      ]
     },
     "metadata": {},
     "output_type": "display_data"
    },
    {
     "data": {
      "text/html": [
       "<div></div>"
      ],
      "text/plain": [
       "<IPython.core.display.HTML object>"
      ]
     },
     "metadata": {},
     "output_type": "display_data"
    },
    {
     "data": {
      "application/vnd.jupyter.widget-view+json": {
       "model_id": "158e12ab13924602934ced6e6487cf29",
       "version_major": 2,
       "version_minor": 0
      },
      "text/plain": [
       "CadViewerWidget(anchor=None, cad_width=780, glass=False, height=540, pinning=False, theme='light', title=None,…"
      ]
     },
     "metadata": {},
     "output_type": "display_data"
    },
    {
     "data": {
      "text/html": [
       "<div></div>"
      ],
      "text/plain": [
       "<IPython.core.display.HTML object>"
      ]
     },
     "metadata": {},
     "output_type": "display_data"
    },
    {
     "data": {
      "application/vnd.jupyter.widget-view+json": {
       "model_id": "b14933a775644bed881417e4aa49ab97",
       "version_major": 2,
       "version_minor": 0
      },
      "text/plain": [
       "CadViewerWidget(anchor=None, cad_width=780, glass=False, height=540, pinning=False, theme='light', title=None,…"
      ]
     },
     "metadata": {},
     "output_type": "display_data"
    },
    {
     "data": {
      "text/html": [
       "<div></div>"
      ],
      "text/plain": [
       "<IPython.core.display.HTML object>"
      ]
     },
     "metadata": {},
     "output_type": "display_data"
    },
    {
     "data": {
      "application/vnd.jupyter.widget-view+json": {
       "model_id": "eeddcb4699ca423c94a0142f627aacca",
       "version_major": 2,
       "version_minor": 0
      },
      "text/plain": [
       "CadViewerWidget(anchor=None, cad_width=780, glass=False, height=540, pinning=False, theme='light', title=None,…"
      ]
     },
     "metadata": {},
     "output_type": "display_data"
    },
    {
     "data": {
      "text/html": [
       "<div></div>"
      ],
      "text/plain": [
       "<IPython.core.display.HTML object>"
      ]
     },
     "metadata": {},
     "output_type": "display_data"
    },
    {
     "data": {
      "application/vnd.jupyter.widget-view+json": {
       "model_id": "569ab773efb34911a96cfa8945f4bc80",
       "version_major": 2,
       "version_minor": 0
      },
      "text/plain": [
       "CadViewerWidget(anchor=None, cad_width=780, glass=False, height=540, pinning=False, theme='light', title=None,…"
      ]
     },
     "metadata": {},
     "output_type": "display_data"
    },
    {
     "data": {
      "text/html": [
       "<div></div>"
      ],
      "text/plain": [
       "<IPython.core.display.HTML object>"
      ]
     },
     "metadata": {},
     "output_type": "display_data"
    },
    {
     "data": {
      "application/vnd.jupyter.widget-view+json": {
       "model_id": "288330ae238e4a4d897b892ae80f1c4f",
       "version_major": 2,
       "version_minor": 0
      },
      "text/plain": [
       "CadViewerWidget(anchor=None, cad_width=780, glass=False, height=540, pinning=False, theme='light', title=None,…"
      ]
     },
     "metadata": {},
     "output_type": "display_data"
    },
    {
     "data": {
      "text/html": [
       "<div></div>"
      ],
      "text/plain": [
       "<IPython.core.display.HTML object>"
      ]
     },
     "metadata": {},
     "output_type": "display_data"
    },
    {
     "data": {
      "application/vnd.jupyter.widget-view+json": {
       "model_id": "8d178d3c4c84464f88f7c04b3b074e60",
       "version_major": 2,
       "version_minor": 0
      },
      "text/plain": [
       "CadViewerWidget(anchor=None, cad_width=780, glass=False, height=540, pinning=False, theme='light', title=None,…"
      ]
     },
     "metadata": {},
     "output_type": "display_data"
    },
    {
     "data": {
      "text/html": [
       "<div></div>"
      ],
      "text/plain": [
       "<IPython.core.display.HTML object>"
      ]
     },
     "metadata": {},
     "output_type": "display_data"
    },
    {
     "data": {
      "application/vnd.jupyter.widget-view+json": {
       "model_id": "94dc8497bdde4139acc05ffc6133db87",
       "version_major": 2,
       "version_minor": 0
      },
      "text/plain": [
       "CadViewerWidget(anchor=None, cad_width=780, glass=False, height=540, pinning=False, theme='light', title=None,…"
      ]
     },
     "metadata": {},
     "output_type": "display_data"
    },
    {
     "data": {
      "text/html": [
       "<div></div>"
      ],
      "text/plain": [
       "<IPython.core.display.HTML object>"
      ]
     },
     "metadata": {},
     "output_type": "display_data"
    }
   ],
   "source": [
    "mount = Wallmount_Singleton()\n",
    "\n",
    "(\n",
    "    mount\n",
    "    .add_grip_section()\n",
    "    .add_l_section(40)\n",
    "    .add_grip_section()\n",
    "    .add_l_section(40)\n",
    "    .add_grip_section()\n",
    "    .add_l_section(40)\n",
    "    .add_grip_section()\n",
    "    .add_l_section(40)\n",
    "    .add_grip_section()\n",
    "    .make()\n",
    ")"
   ]
  },
  {
   "cell_type": "code",
   "execution_count": null,
   "id": "61460ff8-3db8-499f-b3d2-67b6811585e9",
   "metadata": {},
   "outputs": [],
   "source": []
  },
  {
   "cell_type": "code",
   "execution_count": null,
   "id": "4b1c8be7-509f-46a9-94bc-f180efda9f96",
   "metadata": {},
   "outputs": [],
   "source": []
  }
 ],
 "metadata": {
  "kernelspec": {
   "display_name": "Python 3 (ipykernel)",
   "language": "python",
   "name": "python3"
  },
  "language_info": {
   "codemirror_mode": {
    "name": "ipython",
    "version": 3
   },
   "file_extension": ".py",
   "mimetype": "text/x-python",
   "name": "python",
   "nbconvert_exporter": "python",
   "pygments_lexer": "ipython3",
   "version": "3.9.12"
  }
 },
 "nbformat": 4,
 "nbformat_minor": 5
}

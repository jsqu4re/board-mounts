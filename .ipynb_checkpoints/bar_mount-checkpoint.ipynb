{
 "cells": [
  {
   "cell_type": "code",
   "execution_count": 1,
   "id": "9b001879-977d-4161-831d-7f858ea208c3",
   "metadata": {},
   "outputs": [
    {
     "name": "stdout",
     "output_type": "stream",
     "text": [
      "Overwriting auto display for cadquery Workplane and Shape\n",
      "\n",
      "Enabling jupyter_cadquery replay\n",
      "\n",
      "jupyter_cadquery  3.1.0rc4\n",
      "cad_viewer_widget 1.3.2\n",
      "OCP               7.5.3\n"
     ]
    }
   ],
   "source": [
    "import cadquery as cq\n",
    "\n",
    "from jupyter_cadquery import (\n",
    "    versions,\n",
    "    show, PartGroup, Part, \n",
    "    get_viewer, close_viewer, get_viewers, close_viewers, open_viewer, set_defaults, get_defaults, open_viewer,\n",
    "    get_pick,\n",
    ")\n",
    "\n",
    "from jupyter_cadquery.replay import replay, enable_replay, reset_replay, disable_replay\n",
    "\n",
    "enable_replay(False)\n",
    "\n",
    "set_defaults(\n",
    "    cad_width=780, \n",
    "    height=540, \n",
    ")\n",
    "\n",
    "print()\n",
    "versions()"
   ]
  },
  {
   "cell_type": "code",
   "execution_count": 2,
   "id": "3b79384a-a0fb-4e7f-ad1f-2533e3375296",
   "metadata": {},
   "outputs": [
    {
     "name": "stdout",
     "output_type": "stream",
     "text": [
      "\n",
      "Enabling jupyter_cadquery replay\n"
     ]
    }
   ],
   "source": [
    "use_replay = True\n",
    "\n",
    "if use_replay:\n",
    "    enable_replay(False, False)\n",
    "    reset_replay()\n",
    "    show_object = replay\n",
    "else:\n",
    "    disable_replay()\n",
    "    show_object = show"
   ]
  },
  {
   "cell_type": "markdown",
   "id": "2e7cd8de-1a5d-4315-9c65-a6b399bdb8cb",
   "metadata": {},
   "source": [
    "# Bar Mount"
   ]
  },
  {
   "cell_type": "markdown",
   "id": "c8ee73ba-2a9f-40e7-b1b9-92e138997632",
   "metadata": {},
   "source": [
    "## Wall Bar Anchor"
   ]
  },
  {
   "cell_type": "code",
   "execution_count": 3,
   "id": "21e5af19-2ba2-482a-9ec4-30390f16941f",
   "metadata": {},
   "outputs": [],
   "source": [
    "outer_height = 23\n",
    "outer_depth = 20\n",
    "inner_height = 22\n",
    "inner_depth = 15\n",
    "\n",
    "back_spacer = outer_depth - inner_depth\n",
    "ground_spacer = outer_height - inner_height\n",
    "\n",
    "wall_thickness = 2\n",
    "trench_depth = 9\n",
    "trench_gap = 4.5\n",
    "\n",
    "grip_thickness = 1.6\n",
    "grip_mount_height = 6\n",
    "grip_grip = 0.5\n",
    "grip_length = 21\n",
    "\n",
    "l_length = 60 - 2 * grip_length\n",
    "\n",
    "bottom_thickness = 3\n",
    "\n",
    "bottom_bracket_height = 7.2\n",
    "bottom_bracket_indention = 6"
   ]
  },
  {
   "cell_type": "code",
   "execution_count": 4,
   "id": "af662b39-c2a4-4cb3-9e49-9ddd5d056b4b",
   "metadata": {},
   "outputs": [
    {
     "name": "stdout",
     "output_type": "stream",
     "text": [
      "Use the multi select box below to select one or more steps you want to examine\n"
     ]
    },
    {
     "data": {
      "application/vnd.jupyter.widget-view+json": {
       "model_id": "8f5d5ee5253f43d5bfb4c9ff5071aa74",
       "version_major": 2,
       "version_minor": 0
      },
      "text/plain": [
       "HBox(children=(SelectMultiple(_dom_classes=('monospace',), index=(18,), layout=Layout(width='600px'), options=…"
      ]
     },
     "metadata": {},
     "output_type": "display_data"
    },
    {
     "data": {
      "text/plain": [
       "<jupyter_cadquery.replay.Replay at 0x7f21c5205c10>"
      ]
     },
     "execution_count": 4,
     "metadata": {},
     "output_type": "execute_result"
    }
   ],
   "source": [
    "lp00 = (0.,0)\n",
    "lp01 = (inner_height,0.)\n",
    "lp1 = (inner_height,wall_thickness)\n",
    "lp2 = (bottom_thickness,wall_thickness)\n",
    "lp3 = (bottom_thickness,inner_depth)\n",
    "lp4 = (0,inner_depth)\n",
    "\n",
    "grip_sketch = (\n",
    "    cq.Sketch()\n",
    "    .segment(lp00, lp01)\n",
    "    .segment(lp1)\n",
    "    .segment((inner_height - trench_depth,wall_thickness))\n",
    "    .segment((inner_height - trench_depth,wall_thickness + trench_gap + grip_grip))\n",
    "    .segment((inner_height,wall_thickness + trench_gap))\n",
    "    .segment((inner_height,wall_thickness + trench_gap + grip_thickness))\n",
    "    .segment((inner_height - trench_depth,wall_thickness + trench_gap + grip_thickness + grip_grip))\n",
    "    .segment((inner_height - trench_depth - wall_thickness,wall_thickness + trench_gap + grip_thickness))\n",
    "    .segment((grip_mount_height,wall_thickness))\n",
    "    .segment(lp2)\n",
    "    .segment((bottom_thickness,inner_depth - wall_thickness))\n",
    "    .segment((bottom_bracket_height,inner_depth - bottom_bracket_indention))\n",
    "    .segment((bottom_bracket_height,inner_depth - bottom_bracket_indention + wall_thickness))\n",
    "    .segment(lp3)\n",
    "    .segment(lp4)\n",
    "    .close()\n",
    "    .assemble(tag='grip_face')\n",
    "    .edges('%LINE',tag='grip_face')\n",
    "    # .vertices('>X or >Y or <X or <Y')\n",
    "    # .vertices()\n",
    "    # .fillet(0.75)\n",
    "    .reset()\n",
    ")\n",
    "\n",
    "show_object(grip_sketch)"
   ]
  },
  {
   "cell_type": "code",
   "execution_count": 5,
   "id": "0d66809e-6d35-4979-894c-7e5525aa298b",
   "metadata": {},
   "outputs": [
    {
     "name": "stdout",
     "output_type": "stream",
     "text": [
      "Use the multi select box below to select one or more steps you want to examine\n"
     ]
    },
    {
     "data": {
      "application/vnd.jupyter.widget-view+json": {
       "model_id": "ea8bea1620fc4d5ebe0343792624462c",
       "version_major": 2,
       "version_minor": 0
      },
      "text/plain": [
       "HBox(children=(SelectMultiple(_dom_classes=('monospace',), index=(8,), layout=Layout(width='600px'), options=(…"
      ]
     },
     "metadata": {},
     "output_type": "display_data"
    },
    {
     "data": {
      "text/plain": [
       "<jupyter_cadquery.replay.Replay at 0x7f21c51a3550>"
      ]
     },
     "execution_count": 5,
     "metadata": {},
     "output_type": "execute_result"
    }
   ],
   "source": [
    "l_sketch = (\n",
    "    cq.Sketch()\n",
    "    .segment(lp00, lp01)\n",
    "    .segment(lp1)\n",
    "    .segment(lp2)\n",
    "    .segment(lp3)\n",
    "    .segment(lp4)\n",
    "    .close()\n",
    "    .assemble(tag='l_face')\n",
    "    .edges('%LINE',tag='l_face')\n",
    "    # .vertices()\n",
    "    # .fillet(0.75)\n",
    "    .reset()\n",
    ")\n",
    "\n",
    "show_object(l_sketch)"
   ]
  },
  {
   "cell_type": "code",
   "execution_count": 6,
   "id": "da4683fc-6a67-443f-9ca0-4bd2fdbcbe2d",
   "metadata": {},
   "outputs": [
    {
     "name": "stdout",
     "output_type": "stream",
     "text": [
      "Use the multi select box below to select one or more steps you want to examine\n"
     ]
    },
    {
     "data": {
      "application/vnd.jupyter.widget-view+json": {
       "model_id": "f0e24ea08e244433992d05acc9f32bbe",
       "version_major": 2,
       "version_minor": 0
      },
      "text/plain": [
       "HBox(children=(SelectMultiple(_dom_classes=('monospace',), index=(11,), layout=Layout(width='600px'), options=…"
      ]
     },
     "metadata": {},
     "output_type": "display_data"
    },
    {
     "data": {
      "text/plain": [
       "<jupyter_cadquery.replay.Replay at 0x7f21c522e430>"
      ]
     },
     "execution_count": 6,
     "metadata": {},
     "output_type": "execute_result"
    }
   ],
   "source": [
    "spacer_sketch = (\n",
    "    cq.Sketch()\n",
    "    .segment(lp00, lp01)\n",
    "    .segment((inner_height, -back_spacer))\n",
    "    .segment((0, -back_spacer))\n",
    "    .segment((-ground_spacer, 0))\n",
    "    .segment((-ground_spacer, inner_depth))\n",
    "    .segment(lp4)\n",
    "    .close()\n",
    "    .assemble(tag='spacer_face')\n",
    "    .edges('%LINE',tag='spacer_face')\n",
    "    .vertices('<Y or <X')\n",
    "    .chamfer(1)\n",
    "    .reset()\n",
    ")\n",
    "\n",
    "show_object(spacer_sketch)"
   ]
  },
  {
   "cell_type": "code",
   "execution_count": 7,
   "id": "08ee6d06-e3c6-4372-8b45-a82f36a7e06c",
   "metadata": {},
   "outputs": [
    {
     "name": "stdout",
     "output_type": "stream",
     "text": [
      "Use the multi select box below to select one or more steps you want to examine\n"
     ]
    },
    {
     "data": {
      "application/vnd.jupyter.widget-view+json": {
       "model_id": "4581f61d1aa54b658edf9f2ecea62994",
       "version_major": 2,
       "version_minor": 0
      },
      "text/plain": [
       "HBox(children=(SelectMultiple(_dom_classes=('monospace',), index=(35,), layout=Layout(width='600px'), options=…"
      ]
     },
     "metadata": {},
     "output_type": "display_data"
    },
    {
     "data": {
      "text/plain": [
       "<jupyter_cadquery.replay.Replay at 0x7f21c6496b50>"
      ]
     },
     "execution_count": 7,
     "metadata": {},
     "output_type": "execute_result"
    }
   ],
   "source": [
    "def make_grip_section():\n",
    "    grip_section = (\n",
    "        cq.Workplane('ZY')\n",
    "        .placeSketch(grip_sketch)\n",
    "        .extrude(grip_length / 2, both=True)\n",
    "        .workplane()\n",
    "        .placeSketch(spacer_sketch)\n",
    "        .extrude(5 / 2, both=True, combine=True)\n",
    "        .consolidateWires()\n",
    "    )\n",
    "\n",
    "    grip_section.vertices('>X').vertices('>Y').vertices('<Z').tag('left_point_front')\n",
    "    grip_section.vertices('>X').vertices('<Y').vertices('<Z').tag('left_point')\n",
    "    grip_section.vertices('>X').vertices('<Y').vertices('>Z').tag('left_point_up')\n",
    "    grip_section.vertices('<X').vertices('>Y').vertices('<Z').tag('right_point_front')\n",
    "    grip_section.vertices('<X').vertices('<Y').vertices('<Z').tag('right_point')\n",
    "    grip_section.vertices('<X').vertices('<Y').vertices('>Z').tag('right_point_up')\n",
    "    return grip_section\n",
    "    \n",
    "show_object(make_grip_section())"
   ]
  },
  {
   "cell_type": "code",
   "execution_count": 8,
   "id": "1e37487d-2d4b-4a3c-af63-dddacd49198c",
   "metadata": {},
   "outputs": [
    {
     "name": "stdout",
     "output_type": "stream",
     "text": [
      "Use the multi select box below to select one or more steps you want to examine\n"
     ]
    },
    {
     "data": {
      "application/vnd.jupyter.widget-view+json": {
       "model_id": "1818a39833604a94963dcf59994c4521",
       "version_major": 2,
       "version_minor": 0
      },
      "text/plain": [
       "HBox(children=(SelectMultiple(_dom_classes=('monospace',), index=(10,), layout=Layout(width='600px'), options=…"
      ]
     },
     "metadata": {},
     "output_type": "display_data"
    },
    {
     "data": {
      "text/plain": [
       "<jupyter_cadquery.replay.Replay at 0x7f221fd53d90>"
      ]
     },
     "execution_count": 8,
     "metadata": {},
     "output_type": "execute_result"
    }
   ],
   "source": [
    "def make_l_section(length):\n",
    "    inner_bore_height = 14\n",
    "\n",
    "    l_section = (\n",
    "        cq.Workplane('ZY')\n",
    "        .placeSketch(l_sketch)\n",
    "        .extrude(length / 2, both=True)\n",
    "    )\n",
    "    l_section.vertices('>X').vertices('>Y').vertices('<Z').tag('left_point_front')\n",
    "    l_section.vertices('>X').vertices('<Y').vertices('<Z').tag('left_point')\n",
    "    l_section.vertices('>X').vertices('<Y').vertices('>Z').tag('left_point_up')\n",
    "    l_section.vertices('<X').vertices('>Y').vertices('<Z').tag('right_point_front')\n",
    "    l_section.vertices('<X').vertices('<Y').vertices('<Z').tag('right_point')\n",
    "    l_section.vertices('<X').vertices('<Y').vertices('>Z').tag('right_point_up')\n",
    "    return l_section\n",
    "\n",
    "show_object(make_l_section(l_length))"
   ]
  },
  {
   "cell_type": "code",
   "execution_count": 9,
   "id": "2bc657bf-f375-471a-a1a9-69cc2723d9a7",
   "metadata": {},
   "outputs": [
    {
     "name": "stdout",
     "output_type": "stream",
     "text": [
      "Use the multi select box below to select one or more steps you want to examine\n"
     ]
    },
    {
     "data": {
      "application/vnd.jupyter.widget-view+json": {
       "model_id": "d13374d8e5fd444db2dbf2c3db586c4d",
       "version_major": 2,
       "version_minor": 0
      },
      "text/plain": [
       "HBox(children=(SelectMultiple(_dom_classes=('monospace',), index=(14,), layout=Layout(width='600px'), options=…"
      ]
     },
     "metadata": {},
     "output_type": "display_data"
    },
    {
     "data": {
      "text/plain": [
       "<jupyter_cadquery.replay.Replay at 0x7f21c51d20a0>"
      ]
     },
     "execution_count": 9,
     "metadata": {},
     "output_type": "execute_result"
    }
   ],
   "source": [
    "def make_l_csk_section(length):\n",
    "    inner_bore_height = 14\n",
    "\n",
    "    l_section = (\n",
    "        cq.Workplane('ZY')\n",
    "        .placeSketch(l_sketch)\n",
    "        .extrude(length / 2, both=True)\n",
    "        .faces(\">Y[-2]\").workplane()\n",
    "        .center(0, inner_bore_height)\n",
    "        .cskHole(4, 8, 100, depth=None)\n",
    "    )\n",
    "    l_section.vertices('>X').vertices('>Y').vertices('<Z').tag('left_point_front')\n",
    "    l_section.vertices('>X').vertices('<Y').vertices('<Z').tag('left_point')\n",
    "    l_section.vertices('>X').vertices('<Y').vertices('>Z').tag('left_point_up')\n",
    "    l_section.vertices('<X').vertices('>Y').vertices('<Z').tag('right_point_front')\n",
    "    l_section.vertices('<X').vertices('<Y').vertices('<Z').tag('right_point')\n",
    "    l_section.vertices('<X').vertices('<Y').vertices('>Z').tag('right_point_up')\n",
    "    return l_section\n",
    "\n",
    "show_object(make_l_csk_section(l_length))"
   ]
  },
  {
   "cell_type": "code",
   "execution_count": 10,
   "id": "68793818-6ef9-45b6-a620-0260e0024e70",
   "metadata": {},
   "outputs": [
    {
     "name": "stdout",
     "output_type": "stream",
     "text": [
      "Use the multi select box below to select one or more steps you want to examine\n"
     ]
    },
    {
     "data": {
      "application/vnd.jupyter.widget-view+json": {
       "model_id": "3f130772e30d4ad3806a710930ae7852",
       "version_major": 2,
       "version_minor": 0
      },
      "text/plain": [
       "HBox(children=(SelectMultiple(_dom_classes=('monospace',), index=(18,), layout=Layout(width='600px'), options=…"
      ]
     },
     "metadata": {},
     "output_type": "display_data"
    },
    {
     "data": {
      "text/plain": [
       "<jupyter_cadquery.replay.Replay at 0x7f21c52c4730>"
      ]
     },
     "execution_count": 10,
     "metadata": {},
     "output_type": "execute_result"
    }
   ],
   "source": [
    "def make_l_slot_section(length, slot):\n",
    "    inner_bore_height = 14\n",
    "\n",
    "    l_section = (\n",
    "        cq.Workplane('ZY')\n",
    "        .placeSketch(l_sketch)\n",
    "        .extrude(length / 2, both=True)\n",
    "        .faces(\">Y[-2]\").workplane()\n",
    "        .center(0, inner_bore_height)\n",
    "        .slot2D(slot, 4).tag('slot')\n",
    "        .cutThruAll()\n",
    "        .faces('<Y[1]')\n",
    "        .edges('not (>X or <X or >Z or <Z)')\n",
    "        .chamfer(1.6)\n",
    "    )\n",
    "    l_section.vertices('>X').vertices('>Y').vertices('<Z').tag('left_point_front')\n",
    "    l_section.vertices('>X').vertices('<Y').vertices('<Z').tag('left_point')\n",
    "    l_section.vertices('>X').vertices('<Y').vertices('>Z').tag('left_point_up')\n",
    "    l_section.vertices('<X').vertices('>Y').vertices('<Z').tag('right_point_front')\n",
    "    l_section.vertices('<X').vertices('<Y').vertices('<Z').tag('right_point')\n",
    "    l_section.vertices('<X').vertices('<Y').vertices('>Z').tag('right_point_up')\n",
    "    return l_section\n",
    "\n",
    "show_object(make_l_slot_section(l_length, 10))"
   ]
  },
  {
   "cell_type": "code",
   "execution_count": 11,
   "id": "da6255ba-a1a7-445b-a5ce-6f81bfcac98f",
   "metadata": {},
   "outputs": [
    {
     "name": "stdout",
     "output_type": "stream",
     "text": [
      "Use the multi select box below to select one or more steps you want to examine\n"
     ]
    },
    {
     "data": {
      "application/vnd.jupyter.widget-view+json": {
       "model_id": "c4dcb9c09e6b4020b4e4e15425cb741b",
       "version_major": 2,
       "version_minor": 0
      },
      "text/plain": [
       "HBox(children=(SelectMultiple(_dom_classes=('monospace',), index=(10,), layout=Layout(width='600px'), options=…"
      ]
     },
     "metadata": {},
     "output_type": "display_data"
    },
    {
     "data": {
      "text/plain": [
       "<jupyter_cadquery.replay.Replay at 0x7f21bc1b2850>"
      ]
     },
     "execution_count": 11,
     "metadata": {},
     "output_type": "execute_result"
    }
   ],
   "source": [
    "def make_l_angle(angle):\n",
    "    inner_bore_height = 14\n",
    "\n",
    "    l_section = (\n",
    "        cq.Workplane('ZY')\n",
    "        .placeSketch(l_sketch)\n",
    "        .revolve(angle, (-1,-5,0),(0,-5,0))\n",
    "    )\n",
    "    # show_object(l_section.faces('#Z').faces('+X'))\n",
    "    # show_object(l_section.faces('#Z').faces('+X').vertices('<Z'))\n",
    "    # show_object(l_section.faces('#Z').faces('+X').vertices('<Z').vertices('>Y'))\n",
    "    l_section.faces('#Z').faces('+X').vertices('<Z').vertices('>Y').tag('left_point_front')# and >Y').tag('left_point'))\n",
    "    # show_object(l_section.faces('#Z').faces('+X').vertices('<Z'))\n",
    "    # show_object(l_section.faces('#Z').faces('+X').vertices('<Z').vertices('<Y'))\n",
    "    l_section.faces('#Z').faces('+X').vertices('<Z').vertices('<Y').tag('left_point')# and <Y').tag('left_point_up'))\n",
    "    # show_object(l_section.faces('#Z').faces('+X').vertices('>Z'))\n",
    "    # show_object(l_section.faces('#Z').faces('+X').vertices('>Z').vertices('<Y'))\n",
    "    l_section.faces('#Z').faces('+X').vertices('>Z').vertices('<Y').tag('left_point_up')# and >Y').tag('left_point_front'))\n",
    "    if angle < 90:\n",
    "        # show_object(l_section.faces('#Z').faces('not +X'))\n",
    "        # show_object(l_section.faces('#Z').faces('not +X').vertices('<Z'))\n",
    "        # show_object(l_section.faces('#Z').faces('not +X').vertices('<Z').vertices('<Y'))\n",
    "        l_section.faces('#Z').faces('not +X').vertices('<Z').vertices('<Y').tag('right_point')\n",
    "        # show_object(l_section.faces('#Z').faces('not +X').vertices('>Z'))\n",
    "        # show_object(l_section.faces('#Z').faces('not +X').vertices('>Z').vertices('<Y'))\n",
    "        l_section.faces('#Z').faces('not +X').vertices('>Z').vertices('<Y').tag('right_point_up')\n",
    "        # show_object(l_section.faces('#Z').faces('not +X').vertices('<Z'))\n",
    "        # show_object(l_section.faces('#Z').faces('not +X').vertices('<Z').vertices('>Y'))\n",
    "        l_section.faces('#Z').faces('not +X').vertices('<Z').vertices('>Y').tag('right_point_front')\n",
    "    if angle >= 90:\n",
    "        # show_object(l_section.faces('#Z').faces('not +X'))\n",
    "        # show_object(l_section.faces('#Z').faces('not +X').vertices('<Z'))\n",
    "        # show_object(l_section.faces('#Z').faces('not +X').vertices('<Z').vertices('>X'))\n",
    "        l_section.faces('#Z').faces('not +X').vertices('<Z').vertices('>X').tag('right_point')\n",
    "        # show_object(l_section.faces('#Z').faces('not +X').vertices('>Z'))\n",
    "        # show_object(l_section.faces('#Z').faces('not +X').vertices('>Z').vertices('>X'))\n",
    "        l_section.faces('#Z').faces('not +X').vertices('>Z').vertices('>X').tag('right_point_up')\n",
    "        # show_object(l_section.faces('#Z').faces('not +X').vertices('<Z'))\n",
    "        # show_object(l_section.faces('#Z').faces('not +X').vertices('<Z').vertices('<X'))\n",
    "        l_section.faces('#Z').faces('not +X').vertices('<Z').vertices('<X').tag('right_point_front')\n",
    "    return l_section\n",
    "\n",
    "# for angle in range(1, 90, 10):\n",
    "#     make_l_angle(angle)\n",
    "\n",
    "show_object(make_l_angle(80))"
   ]
  },
  {
   "cell_type": "markdown",
   "id": "37fdda0b-4c9d-4095-97f9-ed1a746a4d83",
   "metadata": {},
   "source": [
    "## Assamble the parts"
   ]
  },
  {
   "cell_type": "code",
   "execution_count": 12,
   "id": "adf0deb3-cb00-430d-a6d5-7a5623005335",
   "metadata": {},
   "outputs": [
    {
     "name": "stdout",
     "output_type": "stream",
     "text": [
      "Removing replay from cadquery.Workplane (will show a final RuntimeWarning if not suppressed)\n"
     ]
    }
   ],
   "source": [
    "disable_replay()\n",
    "show_object = show"
   ]
  },
  {
   "cell_type": "code",
   "execution_count": 13,
   "id": "35da94af-d206-4446-b3a1-f39dd2c98cd8",
   "metadata": {},
   "outputs": [
    {
     "name": "stdout",
     "output_type": "stream",
     "text": [
      "100% ⋮————————————————————————————————————————————————————————————⋮ (3/3)  0.03s\n"
     ]
    },
    {
     "data": {
      "application/vnd.jupyter.widget-view+json": {
       "model_id": "f77c62db7c70410aa639f72a463baf85",
       "version_major": 2,
       "version_minor": 0
      },
      "text/plain": [
       "CadViewerWidget(anchor=None, cad_width=780, glass=False, height=540, pinning=False, theme='light', title=None,…"
      ]
     },
     "metadata": {},
     "output_type": "display_data"
    },
    {
     "data": {
      "text/html": [
       "<div></div>"
      ],
      "text/plain": [
       "<IPython.core.display.HTML object>"
      ]
     },
     "metadata": {},
     "output_type": "display_data"
    },
    {
     "data": {
      "text/plain": [
       "<cad_viewer_widget.widget.CadViewer at 0x7f21bc11e970>"
      ]
     },
     "execution_count": 13,
     "metadata": {},
     "output_type": "execute_result"
    }
   ],
   "source": [
    "def make_basic_mount():\n",
    "    basic_mount = (\n",
    "        cq.Assembly()\n",
    "        .add(make_grip_section(), name=\"g0\")\n",
    "        .add(make_l_section(l_length), name=\"l0\")\n",
    "        .add(make_grip_section(), name=\"g1\")\n",
    "    )\n",
    "    (\n",
    "        basic_mount\n",
    "        .constrain(\"g0?left_point\", \"Fixed\")\n",
    "        .constrain(\"g0?right_point_front\", \"l0?left_point_front\", \"Point\")\n",
    "        .constrain(\"g0?right_point\", \"l0?left_point\", \"Point\")\n",
    "        .constrain(\"g0?right_point_up\", \"l0?left_point_up\", \"Point\")\n",
    "        .constrain(\"l0?right_point_front\", \"g1?left_point_front\", \"Point\")\n",
    "        .constrain(\"l0?right_point\", \"g1?left_point\", \"Point\")\n",
    "        .constrain(\"l0?right_point_up\", \"g1?left_point_up\", \"Point\")\n",
    "    )\n",
    "    basic_mount.solve()\n",
    "    return basic_mount\n",
    "\n",
    "show_object(make_basic_mount())"
   ]
  },
  {
   "cell_type": "code",
   "execution_count": 14,
   "id": "be1e21f2-18ab-4829-9cde-d599a5942b2b",
   "metadata": {},
   "outputs": [
    {
     "name": "stdout",
     "output_type": "stream",
     "text": [
      "100% ⋮————————————————————————————————————————————————————————————⋮ (6/6)  0.06s\n"
     ]
    },
    {
     "data": {
      "application/vnd.jupyter.widget-view+json": {
       "model_id": "fa273216b3de4798a38e8f9266f0ec0b",
       "version_major": 2,
       "version_minor": 0
      },
      "text/plain": [
       "CadViewerWidget(anchor=None, cad_width=780, glass=False, height=540, pinning=False, theme='light', title=None,…"
      ]
     },
     "metadata": {},
     "output_type": "display_data"
    },
    {
     "data": {
      "text/html": [
       "<div></div>"
      ],
      "text/plain": [
       "<IPython.core.display.HTML object>"
      ]
     },
     "metadata": {},
     "output_type": "display_data"
    },
    {
     "data": {
      "text/plain": [
       "<cad_viewer_widget.widget.CadViewer at 0x7f21bc0b2850>"
      ]
     },
     "execution_count": 14,
     "metadata": {},
     "output_type": "execute_result"
    }
   ],
   "source": [
    "def make_mount():\n",
    "    mount = (\n",
    "        cq.Assembly()\n",
    "        .add(make_basic_mount(), name=\"m0\")\n",
    "        .add(make_basic_mount(), name=\"m1\")\n",
    "    )\n",
    "    (\n",
    "        mount\n",
    "        # .constrain(\"m0@g0?left_point\", \"Fixed\")\n",
    "        # .constrain(\"m0@g0?right_plane\", \"m1@l0?left_plane\", \"PointInPlane\")\n",
    "        # .constrain(\"m0@g0?right_point\", \"m1@l0?left_point\", \"Point\")\n",
    "        # .constrain(\"m0@g0?right_point_up\", \"m1@l0?left_point_up\", \"Point\")\n",
    "    )\n",
    "    # mount.solve()\n",
    "    return mount\n",
    "show_object(make_mount())"
   ]
  },
  {
   "cell_type": "code",
   "execution_count": 15,
   "id": "e79baf36-709c-42f4-8929-e9ace36f7c65",
   "metadata": {},
   "outputs": [],
   "source": [
    "class Wallmount_Constraints:\n",
    "    def __init__(self):\n",
    "        self.assembly = cq.Assembly()\n",
    "        self.names = []\n",
    "\n",
    "    def _add_text_section(self, section, name: str, text: str):\n",
    "        # show_object(section.faces(\"<Z[-2]\").workplane(centerOption=\"CenterOfBoundBox\").text(text, 8, -4, combine='cut'))\n",
    "        if text != \"\":\n",
    "            section = section.faces(\"<Z[-2]\").workplane(centerOption=\"CenterOfBoundBox\").text(text, 8, -4, combine='cut')\n",
    "        self._add_section(section, name)\n",
    "        \n",
    "    def _add_section(self, section, name: str):\n",
    "        self.assembly.add(section, name=name)\n",
    "        if len(self.names) == 0:\n",
    "            (\n",
    "                self.assembly\n",
    "                .constrain(name + \"?left_point_front\", \"Fixed\")\n",
    "                .constrain(name + \"?left_point\", \"Fixed\")\n",
    "                .constrain(name + \"?left_point_up\", \"Fixed\")\n",
    "            )\n",
    "        else:\n",
    "            last_name = self.names[-1]\n",
    "            (\n",
    "                self.assembly\n",
    "                .constrain(last_name + \"?right_point_front\", name + \"?left_point_front\", \"Point\")\n",
    "                .constrain(last_name + \"?right_point\", name + \"?left_point\", \"Point\")\n",
    "                .constrain(last_name + \"?right_point_up\", name + \"?left_point_up\", \"Point\")\n",
    "            )\n",
    "            for _ in range(10):\n",
    "                self.assembly = self.assembly.solve()\n",
    "            # show_object(self.assembly)\n",
    "        self.names.append(name)\n",
    "\n",
    "    def add_l_section(self, name: str, length: float, text: str=\"\"):\n",
    "        self._add_text_section(make_l_section(length), name, text)\n",
    "        return self\n",
    "    \n",
    "    def add_l_csk_section(self, name: str, length: float, text: str=\"\"):\n",
    "        self._add_text_section(make_l_csk_section(length), name, text)\n",
    "        return self\n",
    "    \n",
    "    def add_l_slot_section(self, name: str, length: float, slot_length: float, text: str=\"\"):\n",
    "        self._add_text_section(make_l_slot_section(length, slot_length), name, text)\n",
    "        return self\n",
    "\n",
    "    def add_grip_section(self, name: str):\n",
    "        self._add_section(make_grip_section(), name)\n",
    "        return self\n",
    "    \n",
    "    def add_l_angle(self, name: str, angle):\n",
    "        self._add_section(make_l_angle(angle), name)\n",
    "        return self\n",
    "    \n",
    "    def make(self):\n",
    "        self.assembly.solve()\n",
    "        return self.assembly"
   ]
  },
  {
   "cell_type": "code",
   "execution_count": 16,
   "id": "a6e5edc7-d15f-4309-8d97-8bf8e51b1186",
   "metadata": {},
   "outputs": [
    {
     "name": "stdout",
     "output_type": "stream",
     "text": [
      "\u001b[32;1m\n",
      "*******************************************************************\n",
      "******        Statistics on Transfer (Write)                 ******\u001b[0m\n",
      "\u001b[32;1m\n",
      "*******************************************************************\n",
      "******        Transfer Mode = 0  I.E.  As Is       ******\u001b[0m\n",
      "\u001b[32;1m******        Transferring Shape, ShapeType = 0                      ******\u001b[0m\n",
      "\u001b[32;1m** WorkSession : Sending all data\u001b[0m\n",
      "\u001b[32;1m Step File Name : mount.step(6732 ents)  Write  Done\u001b[0m\n"
     ]
    }
   ],
   "source": [
    "mount = Wallmount_Constraints()\n",
    "\n",
    "angle = 132\n",
    "\n",
    "(\n",
    "    mount\n",
    "    # .add_grip_section(\"g0\")\n",
    "    # .add_l_slot_section(\"l1\", 18, 10, str(angle) + \"°\")\n",
    "    # .add_grip_section(\"g1\")\n",
    "    # .add_l_angle(\"l0\", 180 - angle)\n",
    "    .add_grip_section(\"g2\")\n",
    "    .add_l_slot_section(\"l2\", 18, 10)\n",
    "    .add_grip_section(\"g3\")\n",
    "    # .add_l_section(\"l1\", 40)\n",
    "    # .add_grip_section(\"g2\")\n",
    "    # .add_l_section(\"l2\", 40)\n",
    "    # .add_grip_section(\"g3\")\n",
    "    .make()\n",
    ").save('mount.step')\n",
    "\n",
    "def create_straight_mount():\n",
    "    return (\n",
    "        Wallmount_Constraints()\n",
    "        .add_grip_section(\"g0\")\n",
    "        .add_l_slot_section(\"l1\", 18, 10, \"JJ\")\n",
    "        .add_grip_section(\"g1\")\n",
    "        .make()\n",
    "    )\n",
    "\n",
    "def create_angle_mount(angle: float):\n",
    "    return (\n",
    "        Wallmount_Constraints()\n",
    "        .add_grip_section(\"g0\")\n",
    "        .add_l_slot_section(\"l1\", 18, 10, str(angle) + \"°\")\n",
    "        .add_grip_section(\"g1\")\n",
    "        .add_l_angle(\"l0\", 180 - angle)\n",
    "        .add_grip_section(\"g2\")\n",
    "        .add_l_slot_section(\"l2\", 18, 10, \"JJ\")\n",
    "        .add_grip_section(\"g3\")\n",
    "        .make()\n",
    "    )\n",
    "    "
   ]
  },
  {
   "cell_type": "code",
   "execution_count": 19,
   "id": "567b7e62-7632-4c4a-bc76-f772bc286cba",
   "metadata": {},
   "outputs": [
    {
     "name": "stdout",
     "output_type": "stream",
     "text": [
      "angle_mount_090\n",
      "\u001b[32;1m\n",
      "*******************************************************************\n",
      "******        Statistics on Transfer (Write)                 ******\u001b[0m\n",
      "\u001b[32;1m\n",
      "*******************************************************************\n",
      "******        Transfer Mode = 0  I.E.  As Is       ******\u001b[0m\n",
      "\u001b[32;1m******        Transferring Shape, ShapeType = 0                      ******\u001b[0m\n",
      "\u001b[32;1m** WorkSession : Sending all data\u001b[0m\n",
      "\u001b[32;1m Step File Name : angle_mount_090.step(22477 ents)  Write  Done\u001b[0m\n",
      "angle_mount_092\n",
      "\u001b[32;1m\n",
      "*******************************************************************\n",
      "******        Statistics on Transfer (Write)                 ******\u001b[0m\n",
      "\u001b[32;1m\n",
      "*******************************************************************\n",
      "******        Transfer Mode = 0  I.E.  As Is       ******\u001b[0m\n",
      "\u001b[32;1m******        Transferring Shape, ShapeType = 0                      ******\u001b[0m\n",
      "\u001b[32;1m** WorkSession : Sending all data\u001b[0m\n",
      "\u001b[32;1m Step File Name : angle_mount_092.step(22479 ents)  Write  Done\u001b[0m\n",
      "angle_mount_094\n",
      "\u001b[32;1m\n",
      "*******************************************************************\n",
      "******        Statistics on Transfer (Write)                 ******\u001b[0m\n",
      "\u001b[32;1m\n",
      "*******************************************************************\n",
      "******        Transfer Mode = 0  I.E.  As Is       ******\u001b[0m\n",
      "\u001b[32;1m******        Transferring Shape, ShapeType = 0                      ******\u001b[0m\n",
      "\u001b[32;1m** WorkSession : Sending all data\u001b[0m\n",
      "\u001b[32;1m Step File Name : angle_mount_094.step(21511 ents)  Write  Done\u001b[0m\n",
      "angle_mount_096\n",
      "\u001b[32;1m\n",
      "*******************************************************************\n",
      "******        Statistics on Transfer (Write)                 ******\u001b[0m\n",
      "\u001b[32;1m\n",
      "*******************************************************************\n",
      "******        Transfer Mode = 0  I.E.  As Is       ******\u001b[0m\n",
      "\u001b[32;1m******        Transferring Shape, ShapeType = 0                      ******\u001b[0m\n",
      "\u001b[32;1m** WorkSession : Sending all data\u001b[0m\n",
      "\u001b[32;1m Step File Name : angle_mount_096.step(23172 ents)  Write  Done\u001b[0m\n",
      "angle_mount_098\n",
      "\u001b[32;1m\n",
      "*******************************************************************\n",
      "******        Statistics on Transfer (Write)                 ******\u001b[0m\n",
      "\u001b[32;1m\n",
      "*******************************************************************\n",
      "******        Transfer Mode = 0  I.E.  As Is       ******\u001b[0m\n",
      "\u001b[32;1m******        Transferring Shape, ShapeType = 0                      ******\u001b[0m\n",
      "\u001b[32;1m** WorkSession : Sending all data\u001b[0m\n",
      "\u001b[32;1m Step File Name : angle_mount_098.step(24048 ents)  Write  Done\u001b[0m\n",
      "angle_mount_100\n",
      "\u001b[32;1m\n",
      "*******************************************************************\n",
      "******        Statistics on Transfer (Write)                 ******\u001b[0m\n",
      "\u001b[32;1m\n",
      "*******************************************************************\n",
      "******        Transfer Mode = 0  I.E.  As Is       ******\u001b[0m\n",
      "\u001b[32;1m******        Transferring Shape, ShapeType = 0                      ******\u001b[0m\n",
      "\u001b[32;1m** WorkSession : Sending all data\u001b[0m\n",
      "\u001b[32;1m Step File Name : angle_mount_100.step(22402 ents)  Write  Done\u001b[0m\n",
      "angle_mount_102\n",
      "\u001b[32;1m\n",
      "*******************************************************************\n",
      "******        Statistics on Transfer (Write)                 ******\u001b[0m\n",
      "\u001b[32;1m\n",
      "*******************************************************************\n",
      "******        Transfer Mode = 0  I.E.  As Is       ******\u001b[0m\n",
      "\u001b[32;1m******        Transferring Shape, ShapeType = 0                      ******\u001b[0m\n",
      "\u001b[32;1m** WorkSession : Sending all data\u001b[0m\n",
      "\u001b[32;1m Step File Name : angle_mount_102.step(22404 ents)  Write  Done\u001b[0m\n",
      "angle_mount_104\n",
      "\u001b[32;1m\n",
      "*******************************************************************\n",
      "******        Statistics on Transfer (Write)                 ******\u001b[0m\n",
      "\u001b[32;1m\n",
      "*******************************************************************\n",
      "******        Transfer Mode = 0  I.E.  As Is       ******\u001b[0m\n",
      "\u001b[32;1m******        Transferring Shape, ShapeType = 0                      ******\u001b[0m\n",
      "\u001b[32;1m** WorkSession : Sending all data\u001b[0m\n",
      "\u001b[32;1m Step File Name : angle_mount_104.step(21436 ents)  Write  Done\u001b[0m\n",
      "angle_mount_106\n",
      "\u001b[32;1m\n",
      "*******************************************************************\n",
      "******        Statistics on Transfer (Write)                 ******\u001b[0m\n",
      "\u001b[32;1m\n",
      "*******************************************************************\n",
      "******        Transfer Mode = 0  I.E.  As Is       ******\u001b[0m\n",
      "\u001b[32;1m******        Transferring Shape, ShapeType = 0                      ******\u001b[0m\n",
      "\u001b[32;1m** WorkSession : Sending all data\u001b[0m\n",
      "\u001b[32;1m Step File Name : angle_mount_106.step(23097 ents)  Write  Done\u001b[0m\n",
      "angle_mount_108\n",
      "\u001b[32;1m\n",
      "*******************************************************************\n",
      "******        Statistics on Transfer (Write)                 ******\u001b[0m\n",
      "\u001b[32;1m\n",
      "*******************************************************************\n",
      "******        Transfer Mode = 0  I.E.  As Is       ******\u001b[0m\n",
      "\u001b[32;1m******        Transferring Shape, ShapeType = 0                      ******\u001b[0m\n",
      "\u001b[32;1m** WorkSession : Sending all data\u001b[0m\n",
      "\u001b[32;1m Step File Name : angle_mount_108.step(23973 ents)  Write  Done\u001b[0m\n",
      "angle_mount_110\n",
      "\u001b[32;1m\n",
      "*******************************************************************\n",
      "******        Statistics on Transfer (Write)                 ******\u001b[0m\n",
      "\u001b[32;1m\n",
      "*******************************************************************\n",
      "******        Transfer Mode = 0  I.E.  As Is       ******\u001b[0m\n",
      "\u001b[32;1m******        Transferring Shape, ShapeType = 0                      ******\u001b[0m\n",
      "\u001b[32;1m** WorkSession : Sending all data\u001b[0m\n",
      "\u001b[32;1m Step File Name : angle_mount_110.step(21190 ents)  Write  Done\u001b[0m\n",
      "angle_mount_112\n",
      "\u001b[32;1m\n",
      "*******************************************************************\n",
      "******        Statistics on Transfer (Write)                 ******\u001b[0m\n",
      "\u001b[32;1m\n",
      "*******************************************************************\n",
      "******        Transfer Mode = 0  I.E.  As Is       ******\u001b[0m\n",
      "\u001b[32;1m******        Transferring Shape, ShapeType = 0                      ******\u001b[0m\n",
      "\u001b[32;1m** WorkSession : Sending all data\u001b[0m\n",
      "\u001b[32;1m Step File Name : angle_mount_112.step(21192 ents)  Write  Done\u001b[0m\n",
      "angle_mount_114\n",
      "\u001b[32;1m\n",
      "*******************************************************************\n",
      "******        Statistics on Transfer (Write)                 ******\u001b[0m\n",
      "\u001b[32;1m\n",
      "*******************************************************************\n",
      "******        Transfer Mode = 0  I.E.  As Is       ******\u001b[0m\n",
      "\u001b[32;1m******        Transferring Shape, ShapeType = 0                      ******\u001b[0m\n",
      "\u001b[32;1m** WorkSession : Sending all data\u001b[0m\n",
      "\u001b[32;1m Step File Name : angle_mount_114.step(20224 ents)  Write  Done\u001b[0m\n",
      "angle_mount_116\n",
      "\u001b[32;1m\n",
      "*******************************************************************\n",
      "******        Statistics on Transfer (Write)                 ******\u001b[0m\n",
      "\u001b[32;1m\n",
      "*******************************************************************\n",
      "******        Transfer Mode = 0  I.E.  As Is       ******\u001b[0m\n",
      "\u001b[32;1m******        Transferring Shape, ShapeType = 0                      ******\u001b[0m\n",
      "\u001b[32;1m** WorkSession : Sending all data\u001b[0m\n",
      "\u001b[32;1m Step File Name : angle_mount_116.step(21885 ents)  Write  Done\u001b[0m\n",
      "angle_mount_118\n",
      "\u001b[32;1m\n",
      "*******************************************************************\n",
      "******        Statistics on Transfer (Write)                 ******\u001b[0m\n",
      "\u001b[32;1m\n",
      "*******************************************************************\n",
      "******        Transfer Mode = 0  I.E.  As Is       ******\u001b[0m\n",
      "\u001b[32;1m******        Transferring Shape, ShapeType = 0                      ******\u001b[0m\n",
      "\u001b[32;1m** WorkSession : Sending all data\u001b[0m\n",
      "\u001b[32;1m Step File Name : angle_mount_118.step(22761 ents)  Write  Done\u001b[0m\n",
      "angle_mount_120\n",
      "\u001b[32;1m\n",
      "*******************************************************************\n",
      "******        Statistics on Transfer (Write)                 ******\u001b[0m\n",
      "\u001b[32;1m\n",
      "*******************************************************************\n",
      "******        Transfer Mode = 0  I.E.  As Is       ******\u001b[0m\n",
      "\u001b[32;1m******        Transferring Shape, ShapeType = 0                      ******\u001b[0m\n",
      "\u001b[32;1m** WorkSession : Sending all data\u001b[0m\n",
      "\u001b[32;1m Step File Name : angle_mount_120.step(22404 ents)  Write  Done\u001b[0m\n",
      "angle_mount_122\n",
      "\u001b[32;1m\n",
      "*******************************************************************\n",
      "******        Statistics on Transfer (Write)                 ******\u001b[0m\n",
      "\u001b[32;1m\n",
      "*******************************************************************\n",
      "******        Transfer Mode = 0  I.E.  As Is       ******\u001b[0m\n",
      "\u001b[32;1m******        Transferring Shape, ShapeType = 0                      ******\u001b[0m\n",
      "\u001b[32;1m** WorkSession : Sending all data\u001b[0m\n",
      "\u001b[32;1m Step File Name : angle_mount_122.step(22406 ents)  Write  Done\u001b[0m\n",
      "angle_mount_124\n",
      "\u001b[32;1m\n",
      "*******************************************************************\n",
      "******        Statistics on Transfer (Write)                 ******\u001b[0m\n",
      "\u001b[32;1m\n",
      "*******************************************************************\n",
      "******        Transfer Mode = 0  I.E.  As Is       ******\u001b[0m\n",
      "\u001b[32;1m******        Transferring Shape, ShapeType = 0                      ******\u001b[0m\n",
      "\u001b[32;1m** WorkSession : Sending all data\u001b[0m\n",
      "\u001b[32;1m Step File Name : angle_mount_124.step(21438 ents)  Write  Done\u001b[0m\n",
      "angle_mount_126\n",
      "\u001b[32;1m\n",
      "*******************************************************************\n",
      "******        Statistics on Transfer (Write)                 ******\u001b[0m\n",
      "\u001b[32;1m\n",
      "*******************************************************************\n",
      "******        Transfer Mode = 0  I.E.  As Is       ******\u001b[0m\n",
      "\u001b[32;1m******        Transferring Shape, ShapeType = 0                      ******\u001b[0m\n",
      "\u001b[32;1m** WorkSession : Sending all data\u001b[0m\n",
      "\u001b[32;1m Step File Name : angle_mount_126.step(23099 ents)  Write  Done\u001b[0m\n",
      "angle_mount_128\n",
      "\u001b[32;1m\n",
      "*******************************************************************\n",
      "******        Statistics on Transfer (Write)                 ******\u001b[0m\n",
      "\u001b[32;1m\n",
      "*******************************************************************\n",
      "******        Transfer Mode = 0  I.E.  As Is       ******\u001b[0m\n",
      "\u001b[32;1m******        Transferring Shape, ShapeType = 0                      ******\u001b[0m\n",
      "\u001b[32;1m** WorkSession : Sending all data\u001b[0m\n",
      "\u001b[32;1m Step File Name : angle_mount_128.step(23975 ents)  Write  Done\u001b[0m\n",
      "angle_mount_130\n",
      "\u001b[32;1m\n",
      "*******************************************************************\n",
      "******        Statistics on Transfer (Write)                 ******\u001b[0m\n",
      "\u001b[32;1m\n",
      "*******************************************************************\n",
      "******        Transfer Mode = 0  I.E.  As Is       ******\u001b[0m\n",
      "\u001b[32;1m******        Transferring Shape, ShapeType = 0                      ******\u001b[0m\n",
      "\u001b[32;1m** WorkSession : Sending all data\u001b[0m\n",
      "\u001b[32;1m Step File Name : angle_mount_130.step(23215 ents)  Write  Done\u001b[0m\n",
      "angle_mount_132\n",
      "\u001b[32;1m\n",
      "*******************************************************************\n",
      "******        Statistics on Transfer (Write)                 ******\u001b[0m\n",
      "\u001b[32;1m\n",
      "*******************************************************************\n",
      "******        Transfer Mode = 0  I.E.  As Is       ******\u001b[0m\n",
      "\u001b[32;1m******        Transferring Shape, ShapeType = 0                      ******\u001b[0m\n",
      "\u001b[32;1m** WorkSession : Sending all data\u001b[0m\n",
      "\u001b[32;1m Step File Name : angle_mount_132.step(23217 ents)  Write  Done\u001b[0m\n",
      "angle_mount_134\n",
      "\u001b[32;1m\n",
      "*******************************************************************\n",
      "******        Statistics on Transfer (Write)                 ******\u001b[0m\n",
      "\u001b[32;1m\n",
      "*******************************************************************\n",
      "******        Transfer Mode = 0  I.E.  As Is       ******\u001b[0m\n",
      "\u001b[32;1m******        Transferring Shape, ShapeType = 0                      ******\u001b[0m\n",
      "\u001b[32;1m** WorkSession : Sending all data\u001b[0m\n",
      "\u001b[32;1m Step File Name : angle_mount_134.step(22249 ents)  Write  Done\u001b[0m\n",
      "angle_mount_136\n",
      "\u001b[32;1m\n",
      "*******************************************************************\n",
      "******        Statistics on Transfer (Write)                 ******\u001b[0m\n",
      "\u001b[32;1m\n",
      "*******************************************************************\n",
      "******        Transfer Mode = 0  I.E.  As Is       ******\u001b[0m\n",
      "\u001b[32;1m******        Transferring Shape, ShapeType = 0                      ******\u001b[0m\n",
      "\u001b[32;1m** WorkSession : Sending all data\u001b[0m\n",
      "\u001b[32;1m Step File Name : angle_mount_136.step(23910 ents)  Write  Done\u001b[0m\n",
      "angle_mount_138\n",
      "\u001b[32;1m\n",
      "*******************************************************************\n",
      "******        Statistics on Transfer (Write)                 ******\u001b[0m\n",
      "\u001b[32;1m\n",
      "*******************************************************************\n",
      "******        Transfer Mode = 0  I.E.  As Is       ******\u001b[0m\n",
      "\u001b[32;1m******        Transferring Shape, ShapeType = 0                      ******\u001b[0m\n",
      "\u001b[32;1m** WorkSession : Sending all data\u001b[0m\n",
      "\u001b[32;1m Step File Name : angle_mount_138.step(24786 ents)  Write  Done\u001b[0m\n",
      "angle_mount_140\n",
      "\u001b[32;1m\n",
      "*******************************************************************\n",
      "******        Statistics on Transfer (Write)                 ******\u001b[0m\n",
      "\u001b[32;1m\n",
      "*******************************************************************\n",
      "******        Transfer Mode = 0  I.E.  As Is       ******\u001b[0m\n",
      "\u001b[32;1m******        Transferring Shape, ShapeType = 0                      ******\u001b[0m\n",
      "\u001b[32;1m** WorkSession : Sending all data\u001b[0m\n",
      "\u001b[32;1m Step File Name : angle_mount_140.step(21436 ents)  Write  Done\u001b[0m\n",
      "angle_mount_142\n",
      "\u001b[32;1m\n",
      "*******************************************************************\n",
      "******        Statistics on Transfer (Write)                 ******\u001b[0m\n",
      "\u001b[32;1m\n",
      "*******************************************************************\n",
      "******        Transfer Mode = 0  I.E.  As Is       ******\u001b[0m\n",
      "\u001b[32;1m******        Transferring Shape, ShapeType = 0                      ******\u001b[0m\n",
      "\u001b[32;1m** WorkSession : Sending all data\u001b[0m\n",
      "\u001b[32;1m Step File Name : angle_mount_142.step(21438 ents)  Write  Done\u001b[0m\n",
      "angle_mount_144\n",
      "\u001b[32;1m\n",
      "*******************************************************************\n",
      "******        Statistics on Transfer (Write)                 ******\u001b[0m\n",
      "\u001b[32;1m\n",
      "*******************************************************************\n",
      "******        Transfer Mode = 0  I.E.  As Is       ******\u001b[0m\n",
      "\u001b[32;1m******        Transferring Shape, ShapeType = 0                      ******\u001b[0m\n",
      "\u001b[32;1m** WorkSession : Sending all data\u001b[0m\n",
      "\u001b[32;1m Step File Name : angle_mount_144.step(20470 ents)  Write  Done\u001b[0m\n",
      "angle_mount_146\n",
      "\u001b[32;1m\n",
      "*******************************************************************\n",
      "******        Statistics on Transfer (Write)                 ******\u001b[0m\n",
      "\u001b[32;1m\n",
      "*******************************************************************\n",
      "******        Transfer Mode = 0  I.E.  As Is       ******\u001b[0m\n",
      "\u001b[32;1m******        Transferring Shape, ShapeType = 0                      ******\u001b[0m\n",
      "\u001b[32;1m** WorkSession : Sending all data\u001b[0m\n",
      "\u001b[32;1m Step File Name : angle_mount_146.step(22131 ents)  Write  Done\u001b[0m\n",
      "angle_mount_148\n",
      "\u001b[32;1m\n",
      "*******************************************************************\n",
      "******        Statistics on Transfer (Write)                 ******\u001b[0m\n",
      "\u001b[32;1m\n",
      "*******************************************************************\n",
      "******        Transfer Mode = 0  I.E.  As Is       ******\u001b[0m\n",
      "\u001b[32;1m******        Transferring Shape, ShapeType = 0                      ******\u001b[0m\n",
      "\u001b[32;1m** WorkSession : Sending all data\u001b[0m\n",
      "\u001b[32;1m Step File Name : angle_mount_148.step(23007 ents)  Write  Done\u001b[0m\n",
      "angle_mount_150\n",
      "\u001b[32;1m\n",
      "*******************************************************************\n",
      "******        Statistics on Transfer (Write)                 ******\u001b[0m\n",
      "\u001b[32;1m\n",
      "*******************************************************************\n",
      "******        Transfer Mode = 0  I.E.  As Is       ******\u001b[0m\n",
      "\u001b[32;1m******        Transferring Shape, ShapeType = 0                      ******\u001b[0m\n",
      "\u001b[32;1m** WorkSession : Sending all data\u001b[0m\n",
      "\u001b[32;1m Step File Name : angle_mount_150.step(22489 ents)  Write  Done\u001b[0m\n",
      "angle_mount_152\n",
      "\u001b[32;1m\n",
      "*******************************************************************\n",
      "******        Statistics on Transfer (Write)                 ******\u001b[0m\n",
      "\u001b[32;1m\n",
      "*******************************************************************\n",
      "******        Transfer Mode = 0  I.E.  As Is       ******\u001b[0m\n",
      "\u001b[32;1m******        Transferring Shape, ShapeType = 0                      ******\u001b[0m\n",
      "\u001b[32;1m** WorkSession : Sending all data\u001b[0m\n",
      "\u001b[32;1m Step File Name : angle_mount_152.step(22491 ents)  Write  Done\u001b[0m\n",
      "angle_mount_154\n",
      "\u001b[32;1m\n",
      "*******************************************************************\n",
      "******        Statistics on Transfer (Write)                 ******\u001b[0m\n",
      "\u001b[32;1m\n",
      "*******************************************************************\n",
      "******        Transfer Mode = 0  I.E.  As Is       ******\u001b[0m\n",
      "\u001b[32;1m******        Transferring Shape, ShapeType = 0                      ******\u001b[0m\n",
      "\u001b[32;1m** WorkSession : Sending all data\u001b[0m\n",
      "\u001b[32;1m Step File Name : angle_mount_154.step(21523 ents)  Write  Done\u001b[0m\n",
      "angle_mount_156\n",
      "\u001b[32;1m\n",
      "*******************************************************************\n",
      "******        Statistics on Transfer (Write)                 ******\u001b[0m\n",
      "\u001b[32;1m\n",
      "*******************************************************************\n",
      "******        Transfer Mode = 0  I.E.  As Is       ******\u001b[0m\n",
      "\u001b[32;1m******        Transferring Shape, ShapeType = 0                      ******\u001b[0m\n",
      "\u001b[32;1m** WorkSession : Sending all data\u001b[0m\n",
      "\u001b[32;1m Step File Name : angle_mount_156.step(23184 ents)  Write  Done\u001b[0m\n",
      "angle_mount_158\n",
      "\u001b[32;1m\n",
      "*******************************************************************\n",
      "******        Statistics on Transfer (Write)                 ******\u001b[0m\n",
      "\u001b[32;1m\n",
      "*******************************************************************\n",
      "******        Transfer Mode = 0  I.E.  As Is       ******\u001b[0m\n",
      "\u001b[32;1m******        Transferring Shape, ShapeType = 0                      ******\u001b[0m\n",
      "\u001b[32;1m** WorkSession : Sending all data\u001b[0m\n",
      "\u001b[32;1m Step File Name : angle_mount_158.step(24060 ents)  Write  Done\u001b[0m\n",
      "angle_mount_160\n",
      "\u001b[32;1m\n",
      "*******************************************************************\n",
      "******        Statistics on Transfer (Write)                 ******\u001b[0m\n",
      "\u001b[32;1m\n",
      "*******************************************************************\n",
      "******        Transfer Mode = 0  I.E.  As Is       ******\u001b[0m\n",
      "\u001b[32;1m******        Transferring Shape, ShapeType = 0                      ******\u001b[0m\n",
      "\u001b[32;1m** WorkSession : Sending all data\u001b[0m\n",
      "\u001b[32;1m Step File Name : angle_mount_160.step(23097 ents)  Write  Done\u001b[0m\n",
      "angle_mount_162\n",
      "\u001b[32;1m\n",
      "*******************************************************************\n",
      "******        Statistics on Transfer (Write)                 ******\u001b[0m\n",
      "\u001b[32;1m\n",
      "*******************************************************************\n",
      "******        Transfer Mode = 0  I.E.  As Is       ******\u001b[0m\n",
      "\u001b[32;1m******        Transferring Shape, ShapeType = 0                      ******\u001b[0m\n",
      "\u001b[32;1m** WorkSession : Sending all data\u001b[0m\n",
      "\u001b[32;1m Step File Name : angle_mount_162.step(23099 ents)  Write  Done\u001b[0m\n",
      "angle_mount_164\n",
      "\u001b[32;1m\n",
      "*******************************************************************\n",
      "******        Statistics on Transfer (Write)                 ******\u001b[0m\n",
      "\u001b[32;1m\n",
      "*******************************************************************\n",
      "******        Transfer Mode = 0  I.E.  As Is       ******\u001b[0m\n",
      "\u001b[32;1m******        Transferring Shape, ShapeType = 0                      ******\u001b[0m\n",
      "\u001b[32;1m** WorkSession : Sending all data\u001b[0m\n",
      "\u001b[32;1m Step File Name : angle_mount_164.step(22131 ents)  Write  Done\u001b[0m\n",
      "angle_mount_166\n",
      "\u001b[32;1m\n",
      "*******************************************************************\n",
      "******        Statistics on Transfer (Write)                 ******\u001b[0m\n",
      "\u001b[32;1m\n",
      "*******************************************************************\n",
      "******        Transfer Mode = 0  I.E.  As Is       ******\u001b[0m\n",
      "\u001b[32;1m******        Transferring Shape, ShapeType = 0                      ******\u001b[0m\n",
      "\u001b[32;1m** WorkSession : Sending all data\u001b[0m\n",
      "\u001b[32;1m Step File Name : angle_mount_166.step(23792 ents)  Write  Done\u001b[0m\n",
      "angle_mount_168\n",
      "\u001b[32;1m\n",
      "*******************************************************************\n",
      "******        Statistics on Transfer (Write)                 ******\u001b[0m\n",
      "\u001b[32;1m\n",
      "*******************************************************************\n",
      "******        Transfer Mode = 0  I.E.  As Is       ******\u001b[0m\n",
      "\u001b[32;1m******        Transferring Shape, ShapeType = 0                      ******\u001b[0m\n",
      "\u001b[32;1m** WorkSession : Sending all data\u001b[0m\n",
      "\u001b[32;1m Step File Name : angle_mount_168.step(24668 ents)  Write  Done\u001b[0m\n",
      "angle_mount_170\n",
      "\u001b[32;1m\n",
      "*******************************************************************\n",
      "******        Statistics on Transfer (Write)                 ******\u001b[0m\n",
      "\u001b[32;1m\n",
      "*******************************************************************\n",
      "******        Transfer Mode = 0  I.E.  As Is       ******\u001b[0m\n",
      "\u001b[32;1m******        Transferring Shape, ShapeType = 0                      ******\u001b[0m\n",
      "\u001b[32;1m** WorkSession : Sending all data\u001b[0m\n",
      "\u001b[32;1m Step File Name : angle_mount_170.step(20886 ents)  Write  Done\u001b[0m\n",
      "angle_mount_172\n",
      "\u001b[32;1m\n",
      "*******************************************************************\n",
      "******        Statistics on Transfer (Write)                 ******\u001b[0m\n",
      "\u001b[32;1m\n",
      "*******************************************************************\n",
      "******        Transfer Mode = 0  I.E.  As Is       ******\u001b[0m\n",
      "\u001b[32;1m******        Transferring Shape, ShapeType = 0                      ******\u001b[0m\n",
      "\u001b[32;1m** WorkSession : Sending all data\u001b[0m\n",
      "\u001b[32;1m Step File Name : angle_mount_172.step(20888 ents)  Write  Done\u001b[0m\n",
      "angle_mount_174\n",
      "\u001b[32;1m\n",
      "*******************************************************************\n",
      "******        Statistics on Transfer (Write)                 ******\u001b[0m\n",
      "\u001b[32;1m\n",
      "*******************************************************************\n",
      "******        Transfer Mode = 0  I.E.  As Is       ******\u001b[0m\n",
      "\u001b[32;1m******        Transferring Shape, ShapeType = 0                      ******\u001b[0m\n",
      "\u001b[32;1m** WorkSession : Sending all data\u001b[0m\n",
      "\u001b[32;1m Step File Name : angle_mount_174.step(19920 ents)  Write  Done\u001b[0m\n",
      "angle_mount_176\n",
      "\u001b[32;1m\n",
      "*******************************************************************\n",
      "******        Statistics on Transfer (Write)                 ******\u001b[0m\n",
      "\u001b[32;1m\n",
      "*******************************************************************\n",
      "******        Transfer Mode = 0  I.E.  As Is       ******\u001b[0m\n",
      "\u001b[32;1m******        Transferring Shape, ShapeType = 0                      ******\u001b[0m\n",
      "\u001b[32;1m** WorkSession : Sending all data\u001b[0m\n",
      "\u001b[32;1m Step File Name : angle_mount_176.step(21581 ents)  Write  Done\u001b[0m\n",
      "angle_mount_178\n",
      "\u001b[32;1m\n",
      "*******************************************************************\n",
      "******        Statistics on Transfer (Write)                 ******\u001b[0m\n",
      "\u001b[32;1m\n",
      "*******************************************************************\n",
      "******        Transfer Mode = 0  I.E.  As Is       ******\u001b[0m\n",
      "\u001b[32;1m******        Transferring Shape, ShapeType = 0                      ******\u001b[0m\n",
      "\u001b[32;1m** WorkSession : Sending all data\u001b[0m\n",
      "\u001b[32;1m Step File Name : angle_mount_178.step(22457 ents)  Write  Done\u001b[0m\n",
      "angle_mount_180\n"
     ]
    },
    {
     "ename": "ValueError",
     "evalue": "Can not return the Nth element of an empty list",
     "output_type": "error",
     "traceback": [
      "\u001b[0;31m---------------------------------------------------------------------------\u001b[0m",
      "\u001b[0;31mValueError\u001b[0m                                Traceback (most recent call last)",
      "Input \u001b[0;32mIn [19]\u001b[0m, in \u001b[0;36m<cell line: 1>\u001b[0;34m()\u001b[0m\n\u001b[1;32m      2\u001b[0m file_name \u001b[38;5;241m=\u001b[39m \u001b[38;5;124m\"\u001b[39m\u001b[38;5;124mangle_mount_\u001b[39m\u001b[38;5;132;01m{0:03}\u001b[39;00m\u001b[38;5;124m\"\u001b[39m\u001b[38;5;241m.\u001b[39mformat(angle)\n\u001b[1;32m      3\u001b[0m \u001b[38;5;28mprint\u001b[39m(file_name)\n\u001b[0;32m----> 4\u001b[0m angle_mount \u001b[38;5;241m=\u001b[39m \u001b[43mcreate_angle_mount\u001b[49m\u001b[43m(\u001b[49m\u001b[43mangle\u001b[49m\u001b[43m)\u001b[49m\n\u001b[1;32m      6\u001b[0m angle_mount\u001b[38;5;241m.\u001b[39msave(file_name \u001b[38;5;241m+\u001b[39m \u001b[38;5;124m\"\u001b[39m\u001b[38;5;124m.step\u001b[39m\u001b[38;5;124m\"\u001b[39m)\n\u001b[1;32m      7\u001b[0m cq\u001b[38;5;241m.\u001b[39mexporters\u001b[38;5;241m.\u001b[39mexport(angle_mount\u001b[38;5;241m.\u001b[39mtoCompound(), file_name \u001b[38;5;241m+\u001b[39m \u001b[38;5;124m\"\u001b[39m\u001b[38;5;124m.stl\u001b[39m\u001b[38;5;124m\"\u001b[39m)\n",
      "Input \u001b[0;32mIn [16]\u001b[0m, in \u001b[0;36mcreate_angle_mount\u001b[0;34m(angle)\u001b[0m\n\u001b[1;32m     30\u001b[0m \u001b[38;5;28;01mdef\u001b[39;00m \u001b[38;5;21mcreate_angle_mount\u001b[39m(angle: \u001b[38;5;28mfloat\u001b[39m):\n\u001b[1;32m     31\u001b[0m     \u001b[38;5;28;01mreturn\u001b[39;00m (\n\u001b[0;32m---> 32\u001b[0m         \u001b[43mWallmount_Constraints\u001b[49m\u001b[43m(\u001b[49m\u001b[43m)\u001b[49m\n\u001b[1;32m     33\u001b[0m \u001b[43m        \u001b[49m\u001b[38;5;241;43m.\u001b[39;49m\u001b[43madd_grip_section\u001b[49m\u001b[43m(\u001b[49m\u001b[38;5;124;43m\"\u001b[39;49m\u001b[38;5;124;43mg0\u001b[39;49m\u001b[38;5;124;43m\"\u001b[39;49m\u001b[43m)\u001b[49m\n\u001b[1;32m     34\u001b[0m \u001b[43m        \u001b[49m\u001b[38;5;241;43m.\u001b[39;49m\u001b[43madd_l_slot_section\u001b[49m\u001b[43m(\u001b[49m\u001b[38;5;124;43m\"\u001b[39;49m\u001b[38;5;124;43ml1\u001b[39;49m\u001b[38;5;124;43m\"\u001b[39;49m\u001b[43m,\u001b[49m\u001b[43m \u001b[49m\u001b[38;5;241;43m18\u001b[39;49m\u001b[43m,\u001b[49m\u001b[43m \u001b[49m\u001b[38;5;241;43m10\u001b[39;49m\u001b[43m,\u001b[49m\u001b[43m \u001b[49m\u001b[38;5;28;43mstr\u001b[39;49m\u001b[43m(\u001b[49m\u001b[43mangle\u001b[49m\u001b[43m)\u001b[49m\u001b[43m \u001b[49m\u001b[38;5;241;43m+\u001b[39;49m\u001b[43m \u001b[49m\u001b[38;5;124;43m\"\u001b[39;49m\u001b[38;5;124;43m°\u001b[39;49m\u001b[38;5;124;43m\"\u001b[39;49m\u001b[43m)\u001b[49m\n\u001b[1;32m     35\u001b[0m \u001b[43m        \u001b[49m\u001b[38;5;241;43m.\u001b[39;49m\u001b[43madd_grip_section\u001b[49m\u001b[43m(\u001b[49m\u001b[38;5;124;43m\"\u001b[39;49m\u001b[38;5;124;43mg1\u001b[39;49m\u001b[38;5;124;43m\"\u001b[39;49m\u001b[43m)\u001b[49m\n\u001b[1;32m     36\u001b[0m \u001b[43m        \u001b[49m\u001b[38;5;241;43m.\u001b[39;49m\u001b[43madd_l_angle\u001b[49m\u001b[43m(\u001b[49m\u001b[38;5;124;43m\"\u001b[39;49m\u001b[38;5;124;43ml0\u001b[39;49m\u001b[38;5;124;43m\"\u001b[39;49m\u001b[43m,\u001b[49m\u001b[43m \u001b[49m\u001b[38;5;241;43m180\u001b[39;49m\u001b[43m \u001b[49m\u001b[38;5;241;43m-\u001b[39;49m\u001b[43m \u001b[49m\u001b[43mangle\u001b[49m\u001b[43m)\u001b[49m\n\u001b[1;32m     37\u001b[0m         \u001b[38;5;241m.\u001b[39madd_grip_section(\u001b[38;5;124m\"\u001b[39m\u001b[38;5;124mg2\u001b[39m\u001b[38;5;124m\"\u001b[39m)\n\u001b[1;32m     38\u001b[0m         \u001b[38;5;241m.\u001b[39madd_l_slot_section(\u001b[38;5;124m\"\u001b[39m\u001b[38;5;124ml2\u001b[39m\u001b[38;5;124m\"\u001b[39m, \u001b[38;5;241m18\u001b[39m, \u001b[38;5;241m10\u001b[39m, \u001b[38;5;124m\"\u001b[39m\u001b[38;5;124mJJ\u001b[39m\u001b[38;5;124m\"\u001b[39m)\n\u001b[1;32m     39\u001b[0m         \u001b[38;5;241m.\u001b[39madd_grip_section(\u001b[38;5;124m\"\u001b[39m\u001b[38;5;124mg3\u001b[39m\u001b[38;5;124m\"\u001b[39m)\n\u001b[1;32m     40\u001b[0m         \u001b[38;5;241m.\u001b[39mmake()\n\u001b[1;32m     41\u001b[0m     )\n",
      "Input \u001b[0;32mIn [15]\u001b[0m, in \u001b[0;36mWallmount_Constraints.add_l_angle\u001b[0;34m(self, name, angle)\u001b[0m\n\u001b[1;32m     50\u001b[0m \u001b[38;5;28;01mdef\u001b[39;00m \u001b[38;5;21madd_l_angle\u001b[39m(\u001b[38;5;28mself\u001b[39m, name: \u001b[38;5;28mstr\u001b[39m, angle):\n\u001b[0;32m---> 51\u001b[0m     \u001b[38;5;28mself\u001b[39m\u001b[38;5;241m.\u001b[39m_add_section(\u001b[43mmake_l_angle\u001b[49m\u001b[43m(\u001b[49m\u001b[43mangle\u001b[49m\u001b[43m)\u001b[49m, name)\n\u001b[1;32m     52\u001b[0m     \u001b[38;5;28;01mreturn\u001b[39;00m \u001b[38;5;28mself\u001b[39m\n",
      "Input \u001b[0;32mIn [11]\u001b[0m, in \u001b[0;36mmake_l_angle\u001b[0;34m(angle)\u001b[0m\n\u001b[1;32m      4\u001b[0m l_section \u001b[38;5;241m=\u001b[39m (\n\u001b[1;32m      5\u001b[0m     cq\u001b[38;5;241m.\u001b[39mWorkplane(\u001b[38;5;124m'\u001b[39m\u001b[38;5;124mZY\u001b[39m\u001b[38;5;124m'\u001b[39m)\n\u001b[1;32m      6\u001b[0m     \u001b[38;5;241m.\u001b[39mplaceSketch(l_sketch)\n\u001b[1;32m      7\u001b[0m     \u001b[38;5;241m.\u001b[39mrevolve(angle, (\u001b[38;5;241m-\u001b[39m\u001b[38;5;241m1\u001b[39m,\u001b[38;5;241m-\u001b[39m\u001b[38;5;241m5\u001b[39m,\u001b[38;5;241m0\u001b[39m),(\u001b[38;5;241m0\u001b[39m,\u001b[38;5;241m-\u001b[39m\u001b[38;5;241m5\u001b[39m,\u001b[38;5;241m0\u001b[39m))\n\u001b[1;32m      8\u001b[0m )\n\u001b[1;32m      9\u001b[0m \u001b[38;5;66;03m# show_object(l_section.faces('#Z').faces('+X'))\u001b[39;00m\n\u001b[1;32m     10\u001b[0m \u001b[38;5;66;03m# show_object(l_section.faces('#Z').faces('+X').vertices('<Z'))\u001b[39;00m\n\u001b[1;32m     11\u001b[0m \u001b[38;5;66;03m# show_object(l_section.faces('#Z').faces('+X').vertices('<Z').vertices('>Y'))\u001b[39;00m\n\u001b[0;32m---> 12\u001b[0m \u001b[43ml_section\u001b[49m\u001b[38;5;241;43m.\u001b[39;49m\u001b[43mfaces\u001b[49m\u001b[43m(\u001b[49m\u001b[38;5;124;43m'\u001b[39;49m\u001b[38;5;124;43m#Z\u001b[39;49m\u001b[38;5;124;43m'\u001b[39;49m\u001b[43m)\u001b[49m\u001b[38;5;241;43m.\u001b[39;49m\u001b[43mfaces\u001b[49m\u001b[43m(\u001b[49m\u001b[38;5;124;43m'\u001b[39;49m\u001b[38;5;124;43m+X\u001b[39;49m\u001b[38;5;124;43m'\u001b[39;49m\u001b[43m)\u001b[49m\u001b[38;5;241;43m.\u001b[39;49m\u001b[43mvertices\u001b[49m\u001b[43m(\u001b[49m\u001b[38;5;124;43m'\u001b[39;49m\u001b[38;5;124;43m<Z\u001b[39;49m\u001b[38;5;124;43m'\u001b[39;49m\u001b[43m)\u001b[49m\u001b[38;5;241m.\u001b[39mvertices(\u001b[38;5;124m'\u001b[39m\u001b[38;5;124m>Y\u001b[39m\u001b[38;5;124m'\u001b[39m)\u001b[38;5;241m.\u001b[39mtag(\u001b[38;5;124m'\u001b[39m\u001b[38;5;124mleft_point_front\u001b[39m\u001b[38;5;124m'\u001b[39m)\u001b[38;5;66;03m# and >Y').tag('left_point'))\u001b[39;00m\n\u001b[1;32m     13\u001b[0m \u001b[38;5;66;03m# show_object(l_section.faces('#Z').faces('+X').vertices('<Z'))\u001b[39;00m\n\u001b[1;32m     14\u001b[0m \u001b[38;5;66;03m# show_object(l_section.faces('#Z').faces('+X').vertices('<Z').vertices('<Y'))\u001b[39;00m\n\u001b[1;32m     15\u001b[0m l_section\u001b[38;5;241m.\u001b[39mfaces(\u001b[38;5;124m'\u001b[39m\u001b[38;5;124m#Z\u001b[39m\u001b[38;5;124m'\u001b[39m)\u001b[38;5;241m.\u001b[39mfaces(\u001b[38;5;124m'\u001b[39m\u001b[38;5;124m+X\u001b[39m\u001b[38;5;124m'\u001b[39m)\u001b[38;5;241m.\u001b[39mvertices(\u001b[38;5;124m'\u001b[39m\u001b[38;5;124m<Z\u001b[39m\u001b[38;5;124m'\u001b[39m)\u001b[38;5;241m.\u001b[39mvertices(\u001b[38;5;124m'\u001b[39m\u001b[38;5;124m<Y\u001b[39m\u001b[38;5;124m'\u001b[39m)\u001b[38;5;241m.\u001b[39mtag(\u001b[38;5;124m'\u001b[39m\u001b[38;5;124mleft_point\u001b[39m\u001b[38;5;124m'\u001b[39m)\u001b[38;5;66;03m# and <Y').tag('left_point_up'))\u001b[39;00m\n",
      "File \u001b[0;32m/opt/conda/envs/cq/lib/python3.9/site-packages/cadquery/cq.py:883\u001b[0m, in \u001b[0;36mWorkplane.vertices\u001b[0;34m(self, selector, tag)\u001b[0m\n\u001b[1;32m    848\u001b[0m \u001b[38;5;28;01mdef\u001b[39;00m \u001b[38;5;21mvertices\u001b[39m(\n\u001b[1;32m    849\u001b[0m     \u001b[38;5;28mself\u001b[39m: T,\n\u001b[1;32m    850\u001b[0m     selector: Optional[Union[Selector, \u001b[38;5;28mstr\u001b[39m]] \u001b[38;5;241m=\u001b[39m \u001b[38;5;28;01mNone\u001b[39;00m,\n\u001b[1;32m    851\u001b[0m     tag: Optional[\u001b[38;5;28mstr\u001b[39m] \u001b[38;5;241m=\u001b[39m \u001b[38;5;28;01mNone\u001b[39;00m,\n\u001b[1;32m    852\u001b[0m ) \u001b[38;5;241m-\u001b[39m\u001b[38;5;241m>\u001b[39m T:\n\u001b[1;32m    853\u001b[0m     \u001b[38;5;124;03m\"\"\"\u001b[39;00m\n\u001b[1;32m    854\u001b[0m \u001b[38;5;124;03m    Select the vertices of objects on the stack, optionally filtering the selection. If there\u001b[39;00m\n\u001b[1;32m    855\u001b[0m \u001b[38;5;124;03m    are multiple objects on the stack, the vertices of all objects are collected and a list of\u001b[39;00m\n\u001b[0;32m   (...)\u001b[0m\n\u001b[1;32m    881\u001b[0m \n\u001b[1;32m    882\u001b[0m \u001b[38;5;124;03m    \"\"\"\u001b[39;00m\n\u001b[0;32m--> 883\u001b[0m     \u001b[38;5;28;01mreturn\u001b[39;00m \u001b[38;5;28;43mself\u001b[39;49m\u001b[38;5;241;43m.\u001b[39;49m\u001b[43m_selectObjects\u001b[49m\u001b[43m(\u001b[49m\u001b[38;5;124;43m\"\u001b[39;49m\u001b[38;5;124;43mVertices\u001b[39;49m\u001b[38;5;124;43m\"\u001b[39;49m\u001b[43m,\u001b[49m\u001b[43m \u001b[49m\u001b[43mselector\u001b[49m\u001b[43m,\u001b[49m\u001b[43m \u001b[49m\u001b[43mtag\u001b[49m\u001b[43m)\u001b[49m\n",
      "File \u001b[0;32m/opt/conda/envs/cq/lib/python3.9/site-packages/cadquery/cq.py:844\u001b[0m, in \u001b[0;36mWorkplane._selectObjects\u001b[0;34m(self, objType, selector, tag)\u001b[0m\n\u001b[1;32m    842\u001b[0m     \u001b[38;5;28;01melse\u001b[39;00m:\n\u001b[1;32m    843\u001b[0m         selectorObj \u001b[38;5;241m=\u001b[39m selector\n\u001b[0;32m--> 844\u001b[0m     toReturn \u001b[38;5;241m=\u001b[39m \u001b[43mselectorObj\u001b[49m\u001b[38;5;241;43m.\u001b[39;49m\u001b[43mfilter\u001b[49m\u001b[43m(\u001b[49m\u001b[43mtoReturn\u001b[49m\u001b[43m)\u001b[49m\n\u001b[1;32m    846\u001b[0m \u001b[38;5;28;01mreturn\u001b[39;00m \u001b[38;5;28mself\u001b[39m\u001b[38;5;241m.\u001b[39mnewObject(toReturn)\n",
      "File \u001b[0;32m/opt/conda/envs/cq/lib/python3.9/site-packages/cadquery/selectors.py:894\u001b[0m, in \u001b[0;36mStringSyntaxSelector.filter\u001b[0;34m(self, objectList)\u001b[0m\n\u001b[1;32m    890\u001b[0m \u001b[38;5;28;01mdef\u001b[39;00m \u001b[38;5;21mfilter\u001b[39m(\u001b[38;5;28mself\u001b[39m, objectList):\n\u001b[1;32m    891\u001b[0m     \u001b[38;5;124;03m\"\"\"\u001b[39;00m\n\u001b[1;32m    892\u001b[0m \u001b[38;5;124;03m    Filter give object list through th already constructed complex selector object\u001b[39;00m\n\u001b[1;32m    893\u001b[0m \u001b[38;5;124;03m    \"\"\"\u001b[39;00m\n\u001b[0;32m--> 894\u001b[0m     \u001b[38;5;28;01mreturn\u001b[39;00m \u001b[38;5;28;43mself\u001b[39;49m\u001b[38;5;241;43m.\u001b[39;49m\u001b[43mmySelector\u001b[49m\u001b[38;5;241;43m.\u001b[39;49m\u001b[43mfilter\u001b[49m\u001b[43m(\u001b[49m\u001b[43mobjectList\u001b[49m\u001b[43m)\u001b[49m\n",
      "File \u001b[0;32m/opt/conda/envs/cq/lib/python3.9/site-packages/cadquery/selectors.py:773\u001b[0m, in \u001b[0;36m_SimpleStringSyntaxSelector.filter\u001b[0;34m(self, objectList)\u001b[0m\n\u001b[1;32m    768\u001b[0m \u001b[38;5;28;01mdef\u001b[39;00m \u001b[38;5;21mfilter\u001b[39m(\u001b[38;5;28mself\u001b[39m, objectList):\n\u001b[1;32m    769\u001b[0m     \u001b[38;5;124mr\u001b[39m\u001b[38;5;124;03m\"\"\"\u001b[39;00m\n\u001b[1;32m    770\u001b[0m \u001b[38;5;124;03m    selects minimum, maximum, positive or negative values relative to a direction\u001b[39;00m\n\u001b[1;32m    771\u001b[0m \u001b[38;5;124;03m    ``[+|-|<|>|] <X|Y|Z>``\u001b[39;00m\n\u001b[1;32m    772\u001b[0m \u001b[38;5;124;03m    \"\"\"\u001b[39;00m\n\u001b[0;32m--> 773\u001b[0m     \u001b[38;5;28;01mreturn\u001b[39;00m \u001b[38;5;28;43mself\u001b[39;49m\u001b[38;5;241;43m.\u001b[39;49m\u001b[43mmySelector\u001b[49m\u001b[38;5;241;43m.\u001b[39;49m\u001b[43mfilter\u001b[49m\u001b[43m(\u001b[49m\u001b[43mobjectList\u001b[49m\u001b[43m)\u001b[49m\n",
      "File \u001b[0;32m/opt/conda/envs/cq/lib/python3.9/site-packages/cadquery/selectors.py:319\u001b[0m, in \u001b[0;36m_NthSelector.filter\u001b[0;34m(self, objectlist)\u001b[0m\n\u001b[1;32m    313\u001b[0m \u001b[38;5;124;03m\"\"\"\u001b[39;00m\n\u001b[1;32m    314\u001b[0m \u001b[38;5;124;03mReturn the nth object in the objectlist sorted by self.key and\u001b[39;00m\n\u001b[1;32m    315\u001b[0m \u001b[38;5;124;03mclustered if within self.tolerance.\u001b[39;00m\n\u001b[1;32m    316\u001b[0m \u001b[38;5;124;03m\"\"\"\u001b[39;00m\n\u001b[1;32m    317\u001b[0m \u001b[38;5;28;01mif\u001b[39;00m \u001b[38;5;28mlen\u001b[39m(objectlist) \u001b[38;5;241m==\u001b[39m \u001b[38;5;241m0\u001b[39m:\n\u001b[1;32m    318\u001b[0m     \u001b[38;5;66;03m# nothing to filter\u001b[39;00m\n\u001b[0;32m--> 319\u001b[0m     \u001b[38;5;28;01mraise\u001b[39;00m \u001b[38;5;167;01mValueError\u001b[39;00m(\u001b[38;5;124m\"\u001b[39m\u001b[38;5;124mCan not return the Nth element of an empty list\u001b[39m\u001b[38;5;124m\"\u001b[39m)\n\u001b[1;32m    320\u001b[0m clustered \u001b[38;5;241m=\u001b[39m \u001b[38;5;28mself\u001b[39m\u001b[38;5;241m.\u001b[39mcluster(objectlist)\n\u001b[1;32m    321\u001b[0m \u001b[38;5;28;01mif\u001b[39;00m \u001b[38;5;129;01mnot\u001b[39;00m \u001b[38;5;28mself\u001b[39m\u001b[38;5;241m.\u001b[39mdirectionMax:\n",
      "\u001b[0;31mValueError\u001b[0m: Can not return the Nth element of an empty list"
     ]
    }
   ],
   "source": [
    "for angle in range(80, 90, 2):\n",
    "    file_name = \"angle_mount_{0:03}\".format(angle)\n",
    "    print(file_name)\n",
    "    angle_mount = create_angle_mount(angle)\n",
    "    \n",
    "    angle_mount.save(file_name + \".step\")\n",
    "    cq.exporters.export(angle_mount.toCompound(), file_name + \".stl\")"
   ]
  },
  {
   "cell_type": "code",
   "execution_count": null,
   "id": "618e2a68-94a8-4597-96a0-42a5f3fdca06",
   "metadata": {},
   "outputs": [],
   "source": [
    "class Wallmount_Singleton:\n",
    "    def __init__(self):\n",
    "        self.mount = None\n",
    "\n",
    "    def add_tags(self):\n",
    "        self.mount.vertices('>X').vertices('>Y').vertices('<Z').tag('left_point_front')\n",
    "        self.mount.vertices('>X').vertices('<Y').vertices('<Z').tag('left_point')\n",
    "        self.mount.vertices('>X').vertices('<Y').vertices('>Z').tag('left_point_up')\n",
    "        self.mount.vertices('<X').vertices('>Y').vertices('<Z').tag('right_point_front')\n",
    "        self.mount.vertices('<X').vertices('<Y').vertices('<Z').tag('right_point')\n",
    "        self.mount.vertices('<X').vertices('<Y').vertices('>Z').tag('right_point_up')\n",
    "        \n",
    "    def add_section(self, section):\n",
    "\n",
    "        if self.mount == None:\n",
    "            self.mount = section\n",
    "        else:\n",
    "            assembly = cq.Assembly()\n",
    "\n",
    "            name = \"new\"\n",
    "            last_name = \"old\"\n",
    "\n",
    "            assembly.add(self.mount, name=name)\n",
    "            assembly.add(section, name=last_name)\n",
    "\n",
    "            (\n",
    "                assembly\n",
    "                .constrain(name + \"?left_point_front\", \"Fixed\")\n",
    "                .constrain(name + \"?left_point\", \"Fixed\")\n",
    "                .constrain(name + \"?left_point_up\", \"Fixed\")\n",
    "                .constrain(last_name + \"?right_point_front\", name + \"?left_point_front\", \"Point\")\n",
    "                .constrain(last_name + \"?right_point\", name + \"?left_point\", \"Point\")\n",
    "                .constrain(last_name + \"?right_point_up\", name + \"?left_point_up\", \"Point\")\n",
    "            )\n",
    "\n",
    "            for _ in range(30):\n",
    "                assembly = assembly.solve()\n",
    "            self.mount = cq.Workplane(assembly.toCompound())\n",
    "            self.add_tags()\n",
    "            # show_object(self.mount)\n",
    "\n",
    "    def add_l_section(self, length: float):\n",
    "        self.add_section(make_l_section(length))\n",
    "        return self\n",
    "    \n",
    "    def add_l_angle(self, angle):\n",
    "        self.add_section(make_l_angle(angle))\n",
    "        return self\n",
    "    \n",
    "    def add_l_csk_section(self, length: float):\n",
    "        self.add_section(make_l_csk_section(length))\n",
    "        return self\n",
    "    \n",
    "    def add_l_slot_section(self, length: float, slot_length: float):\n",
    "        self.add_section(make_l_slot_section(length, slot_length))\n",
    "        return self\n",
    "\n",
    "    def add_grip_section(self):\n",
    "        self.add_section(make_grip_section())\n",
    "        return self\n",
    "    \n",
    "    def make(self):\n",
    "        return self.mount"
   ]
  },
  {
   "cell_type": "code",
   "execution_count": null,
   "id": "1fb82dc0-3f65-4941-9b05-9ec46e4e8bc1",
   "metadata": {},
   "outputs": [],
   "source": [
    "mount = Wallmount_Singleton()\n",
    "\n",
    "(\n",
    "    mount\n",
    "    # .add_grip_section()\n",
    "    # .add_l_section(40)\n",
    "    # .add_grip_section()\n",
    "    # .add_l_slot_section(40, 10)\n",
    "    # .add_grip_section()\n",
    "    # .add_l_csk_section(40)\n",
    "    # .add_grip_section()\n",
    "    .add_l_section(40)\n",
    "    .add_l_angle(80)\n",
    "    .add_l_section(40)\n",
    "    # .add_l_angle(80)\n",
    "    # .add_l_section(40)\n",
    "    # .add_grip_section()\n",
    ")\n",
    "\n",
    "show_object(mount.make())"
   ]
  },
  {
   "cell_type": "code",
   "execution_count": null,
   "id": "ec260339-11cb-40b7-8a5d-29349af3f0e0",
   "metadata": {},
   "outputs": [],
   "source": [
    "result = cq.importers.importStep('mount.step')\n",
    "# cq.Workplane(result.toCompound())\n",
    "\n",
    "cq.exporters.export(result, 'mount.stl')"
   ]
  },
  {
   "cell_type": "code",
   "execution_count": null,
   "id": "0998b7e9-53f4-4435-9571-3ad7481b96d5",
   "metadata": {},
   "outputs": [],
   "source": [
    "cq.Workplane().box(50,50,50).faces(\">Z\").text(\"180g\", 2, 1, cut=True)"
   ]
  },
  {
   "cell_type": "code",
   "execution_count": null,
   "id": "2c2c4751-8f86-462d-bdb6-5d1f6abd170a",
   "metadata": {},
   "outputs": [],
   "source": []
  }
 ],
 "metadata": {
  "kernelspec": {
   "display_name": "Python 3 (ipykernel)",
   "language": "python",
   "name": "python3"
  },
  "language_info": {
   "codemirror_mode": {
    "name": "ipython",
    "version": 3
   },
   "file_extension": ".py",
   "mimetype": "text/x-python",
   "name": "python",
   "nbconvert_exporter": "python",
   "pygments_lexer": "ipython3",
   "version": "3.9.12"
  }
 },
 "nbformat": 4,
 "nbformat_minor": 5
}

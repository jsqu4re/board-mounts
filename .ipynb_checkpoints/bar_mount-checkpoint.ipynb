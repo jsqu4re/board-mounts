{
 "cells": [
  {
   "cell_type": "code",
   "execution_count": 1,
   "id": "9b001879-977d-4161-831d-7f858ea208c3",
   "metadata": {},
   "outputs": [
    {
     "name": "stdout",
     "output_type": "stream",
     "text": [
      "Overwriting auto display for cadquery Workplane and Shape\n",
      "\n",
      "Enabling jupyter_cadquery replay\n",
      "\n",
      "jupyter_cadquery  3.1.0rc4\n",
      "cad_viewer_widget 1.3.2\n",
      "OCP               7.5.3\n"
     ]
    }
   ],
   "source": [
    "import cadquery as cq\n",
    "\n",
    "from jupyter_cadquery import (\n",
    "    versions,\n",
    "    show, PartGroup, Part, \n",
    "    get_viewer, close_viewer, get_viewers, close_viewers, open_viewer, set_defaults, get_defaults, open_viewer,\n",
    "    get_pick,\n",
    ")\n",
    "\n",
    "from jupyter_cadquery.replay import replay, enable_replay, reset_replay, disable_replay\n",
    "\n",
    "enable_replay(False)\n",
    "\n",
    "set_defaults(\n",
    "    cad_width=780,\n",
    "    height=540,\n",
    ")\n",
    "\n",
    "print()\n",
    "versions()"
   ]
  },
  {
   "cell_type": "code",
   "execution_count": 2,
   "id": "3b79384a-a0fb-4e7f-ad1f-2533e3375296",
   "metadata": {},
   "outputs": [
    {
     "name": "stdout",
     "output_type": "stream",
     "text": [
      "\n",
      "Enabling jupyter_cadquery replay\n"
     ]
    }
   ],
   "source": [
    "use_replay = True\n",
    "\n",
    "if use_replay:\n",
    "    enable_replay(False, False)\n",
    "    reset_replay()\n",
    "    show_object = replay\n",
    "else:\n",
    "    disable_replay()\n",
    "    show_object = show"
   ]
  },
  {
   "cell_type": "markdown",
   "id": "2e7cd8de-1a5d-4315-9c65-a6b399bdb8cb",
   "metadata": {},
   "source": [
    "# Bar Mount"
   ]
  },
  {
   "cell_type": "markdown",
   "id": "c8ee73ba-2a9f-40e7-b1b9-92e138997632",
   "metadata": {},
   "source": [
    "## Wall Bar Anchor"
   ]
  },
  {
   "cell_type": "code",
   "execution_count": 3,
   "id": "21e5af19-2ba2-482a-9ec4-30390f16941f",
   "metadata": {},
   "outputs": [],
   "source": [
    "outer_height = 23\n",
    "outer_depth = 20\n",
    "inner_height = 22\n",
    "inner_depth = 15\n",
    "\n",
    "back_spacer = outer_depth - inner_depth\n",
    "ground_spacer = outer_height - inner_height\n",
    "\n",
    "wall_thickness = 2\n",
    "trench_depth = 9\n",
    "trench_gap = 4.5\n",
    "\n",
    "grip_thickness = 1.6\n",
    "grip_mount_height = 6\n",
    "grip_grip = 0.5\n",
    "grip_length = 21\n",
    "\n",
    "l_length = 60 - 2 * grip_length\n",
    "\n",
    "bottom_thickness = 3\n",
    "\n",
    "bottom_bracket_height = 7.2\n",
    "bottom_bracket_indention = 6"
   ]
  },
  {
   "cell_type": "code",
   "execution_count": 4,
   "id": "af662b39-c2a4-4cb3-9e49-9ddd5d056b4b",
   "metadata": {},
   "outputs": [
    {
     "name": "stdout",
     "output_type": "stream",
     "text": [
      "Use the multi select box below to select one or more steps you want to examine\n"
     ]
    },
    {
     "data": {
      "application/vnd.jupyter.widget-view+json": {
       "model_id": "27ae711897e94a07bf7c00eadc011416",
       "version_major": 2,
       "version_minor": 0
      },
      "text/plain": [
       "HBox(children=(SelectMultiple(_dom_classes=('monospace',), index=(18,), layout=Layout(width='600px'), options=…"
      ]
     },
     "metadata": {},
     "output_type": "display_data"
    },
    {
     "data": {
      "text/plain": [
       "<jupyter_cadquery.replay.Replay at 0x7fb1e7e65100>"
      ]
     },
     "execution_count": 4,
     "metadata": {},
     "output_type": "execute_result"
    }
   ],
   "source": [
    "lp00 = (0.,0)\n",
    "lp01 = (inner_height,0.)\n",
    "lp1 = (inner_height,wall_thickness)\n",
    "lp2 = (bottom_thickness,wall_thickness)\n",
    "lp3 = (bottom_thickness,inner_depth)\n",
    "lp4 = (0,inner_depth)\n",
    "\n",
    "grip_sketch = (\n",
    "    cq.Sketch()\n",
    "    .segment(lp00, lp01)\n",
    "    .segment(lp1)\n",
    "    .segment((inner_height - trench_depth,wall_thickness))\n",
    "    .segment((inner_height - trench_depth,wall_thickness + trench_gap + grip_grip))\n",
    "    .segment((inner_height,wall_thickness + trench_gap))\n",
    "    .segment((inner_height,wall_thickness + trench_gap + grip_thickness))\n",
    "    .segment((inner_height - trench_depth,wall_thickness + trench_gap + grip_thickness + grip_grip))\n",
    "    .segment((inner_height - trench_depth - wall_thickness,wall_thickness + trench_gap + grip_thickness))\n",
    "    .segment((grip_mount_height,wall_thickness))\n",
    "    .segment(lp2)\n",
    "    .segment((bottom_thickness,inner_depth - wall_thickness))\n",
    "    .segment((bottom_bracket_height,inner_depth - bottom_bracket_indention))\n",
    "    .segment((bottom_bracket_height,inner_depth - bottom_bracket_indention + wall_thickness))\n",
    "    .segment(lp3)\n",
    "    .segment(lp4)\n",
    "    .close()\n",
    "    .assemble(tag='grip_face')\n",
    "    .edges('%LINE',tag='grip_face')\n",
    "    # .vertices('>X or >Y or <X or <Y')\n",
    "    # .vertices()\n",
    "    # .fillet(0.75)\n",
    "    .reset()\n",
    ")\n",
    "\n",
    "show_object(grip_sketch)"
   ]
  },
  {
   "cell_type": "code",
   "execution_count": 5,
   "id": "0d66809e-6d35-4979-894c-7e5525aa298b",
   "metadata": {},
   "outputs": [
    {
     "name": "stdout",
     "output_type": "stream",
     "text": [
      "Use the multi select box below to select one or more steps you want to examine\n"
     ]
    },
    {
     "data": {
      "application/vnd.jupyter.widget-view+json": {
       "model_id": "96de3b8a934e40e9b6873c597f22d1c2",
       "version_major": 2,
       "version_minor": 0
      },
      "text/plain": [
       "HBox(children=(SelectMultiple(_dom_classes=('monospace',), index=(8,), layout=Layout(width='600px'), options=(…"
      ]
     },
     "metadata": {},
     "output_type": "display_data"
    },
    {
     "data": {
      "text/plain": [
       "<jupyter_cadquery.replay.Replay at 0x7fb242a6fe20>"
      ]
     },
     "execution_count": 5,
     "metadata": {},
     "output_type": "execute_result"
    }
   ],
   "source": [
    "l_sketch = (\n",
    "    cq.Sketch()\n",
    "    .segment(lp00, lp01)\n",
    "    .segment(lp1)\n",
    "    .segment(lp2)\n",
    "    .segment(lp3)\n",
    "    .segment(lp4)\n",
    "    .close()\n",
    "    .assemble(tag='l_face')\n",
    "    .edges('%LINE',tag='l_face')\n",
    "    # .vertices()\n",
    "    # .fillet(0.75)\n",
    "    .reset()\n",
    ")\n",
    "\n",
    "show_object(l_sketch)"
   ]
  },
  {
   "cell_type": "code",
   "execution_count": 6,
   "id": "da4683fc-6a67-443f-9ca0-4bd2fdbcbe2d",
   "metadata": {},
   "outputs": [
    {
     "name": "stdout",
     "output_type": "stream",
     "text": [
      "Use the multi select box below to select one or more steps you want to examine\n"
     ]
    },
    {
     "data": {
      "application/vnd.jupyter.widget-view+json": {
       "model_id": "e00cf3b1b0cc42ae9bf82ec30a78162b",
       "version_major": 2,
       "version_minor": 0
      },
      "text/plain": [
       "HBox(children=(SelectMultiple(_dom_classes=('monospace',), index=(11,), layout=Layout(width='600px'), options=…"
      ]
     },
     "metadata": {},
     "output_type": "display_data"
    },
    {
     "data": {
      "text/plain": [
       "<jupyter_cadquery.replay.Replay at 0x7fb1e7f05a30>"
      ]
     },
     "execution_count": 6,
     "metadata": {},
     "output_type": "execute_result"
    }
   ],
   "source": [
    "spacer_sketch = (\n",
    "    cq.Sketch()\n",
    "    .segment(lp00, lp01)\n",
    "    .segment((inner_height, -back_spacer))\n",
    "    .segment((0, -back_spacer))\n",
    "    .segment((-ground_spacer, 0))\n",
    "    .segment((-ground_spacer, inner_depth))\n",
    "    .segment(lp4)\n",
    "    .close()\n",
    "    .assemble(tag='spacer_face')\n",
    "    .edges('%LINE',tag='spacer_face')\n",
    "    .vertices('<Y or <X')\n",
    "    .chamfer(1)\n",
    "    .reset()\n",
    ")\n",
    "\n",
    "show_object(spacer_sketch)"
   ]
  },
  {
   "cell_type": "code",
   "execution_count": 7,
   "id": "08ee6d06-e3c6-4372-8b45-a82f36a7e06c",
   "metadata": {},
   "outputs": [
    {
     "name": "stdout",
     "output_type": "stream",
     "text": [
      "Use the multi select box below to select one or more steps you want to examine\n"
     ]
    },
    {
     "data": {
      "application/vnd.jupyter.widget-view+json": {
       "model_id": "d75f89b6e3c34f58b77f8ad3a02e4c8f",
       "version_major": 2,
       "version_minor": 0
      },
      "text/plain": [
       "HBox(children=(SelectMultiple(_dom_classes=('monospace',), index=(35,), layout=Layout(width='600px'), options=…"
      ]
     },
     "metadata": {},
     "output_type": "display_data"
    },
    {
     "data": {
      "text/plain": [
       "<jupyter_cadquery.replay.Replay at 0x7fb1e7f8ea30>"
      ]
     },
     "execution_count": 7,
     "metadata": {},
     "output_type": "execute_result"
    }
   ],
   "source": [
    "def make_grip_section():\n",
    "    grip_section = (\n",
    "        cq.Workplane('ZY')\n",
    "        .placeSketch(grip_sketch)\n",
    "        .extrude(grip_length / 2, both=True)\n",
    "        .workplane()\n",
    "        .placeSketch(spacer_sketch)\n",
    "        .extrude(5 / 2, both=True, combine=True)\n",
    "        .consolidateWires()\n",
    "    )\n",
    "\n",
    "    grip_section.vertices('>X').vertices('>Y').vertices('<Z').tag('left_point_front')\n",
    "    grip_section.vertices('>X').vertices('<Y').vertices('<Z').tag('left_point')\n",
    "    grip_section.vertices('>X').vertices('<Y').vertices('>Z').tag('left_point_up')\n",
    "    grip_section.vertices('<X').vertices('>Y').vertices('<Z').tag('right_point_front')\n",
    "    grip_section.vertices('<X').vertices('<Y').vertices('<Z').tag('right_point')\n",
    "    grip_section.vertices('<X').vertices('<Y').vertices('>Z').tag('right_point_up')\n",
    "    return grip_section\n",
    "    \n",
    "show_object(make_grip_section())"
   ]
  },
  {
   "cell_type": "code",
   "execution_count": 8,
   "id": "1e37487d-2d4b-4a3c-af63-dddacd49198c",
   "metadata": {},
   "outputs": [
    {
     "name": "stdout",
     "output_type": "stream",
     "text": [
      "Use the multi select box below to select one or more steps you want to examine\n"
     ]
    },
    {
     "data": {
      "application/vnd.jupyter.widget-view+json": {
       "model_id": "c933b2b74a654fc2b9955a2949466e5d",
       "version_major": 2,
       "version_minor": 0
      },
      "text/plain": [
       "HBox(children=(SelectMultiple(_dom_classes=('monospace',), index=(10,), layout=Layout(width='600px'), options=…"
      ]
     },
     "metadata": {},
     "output_type": "display_data"
    },
    {
     "data": {
      "text/plain": [
       "<jupyter_cadquery.replay.Replay at 0x7fb1e7e7cd30>"
      ]
     },
     "execution_count": 8,
     "metadata": {},
     "output_type": "execute_result"
    }
   ],
   "source": [
    "def make_l_section(length):\n",
    "    inner_bore_height = 14\n",
    "\n",
    "    l_section = (\n",
    "        cq.Workplane('ZY')\n",
    "        .placeSketch(l_sketch)\n",
    "        .extrude(length / 2, both=True)\n",
    "    )\n",
    "    l_section.vertices('>X').vertices('>Y').vertices('<Z').tag('left_point_front')\n",
    "    l_section.vertices('>X').vertices('<Y').vertices('<Z').tag('left_point')\n",
    "    l_section.vertices('>X').vertices('<Y').vertices('>Z').tag('left_point_up')\n",
    "    l_section.vertices('<X').vertices('>Y').vertices('<Z').tag('right_point_front')\n",
    "    l_section.vertices('<X').vertices('<Y').vertices('<Z').tag('right_point')\n",
    "    l_section.vertices('<X').vertices('<Y').vertices('>Z').tag('right_point_up')\n",
    "    return l_section\n",
    "\n",
    "show_object(make_l_section(l_length))"
   ]
  },
  {
   "cell_type": "code",
   "execution_count": 9,
   "id": "2bc657bf-f375-471a-a1a9-69cc2723d9a7",
   "metadata": {},
   "outputs": [
    {
     "name": "stdout",
     "output_type": "stream",
     "text": [
      "Use the multi select box below to select one or more steps you want to examine\n"
     ]
    },
    {
     "data": {
      "application/vnd.jupyter.widget-view+json": {
       "model_id": "3203c300f1144bc88d92627f5093e7b3",
       "version_major": 2,
       "version_minor": 0
      },
      "text/plain": [
       "HBox(children=(SelectMultiple(_dom_classes=('monospace',), index=(14,), layout=Layout(width='600px'), options=…"
      ]
     },
     "metadata": {},
     "output_type": "display_data"
    },
    {
     "data": {
      "text/plain": [
       "<jupyter_cadquery.replay.Replay at 0x7fb1e7ecbd90>"
      ]
     },
     "execution_count": 9,
     "metadata": {},
     "output_type": "execute_result"
    }
   ],
   "source": [
    "def make_l_csk_section(length):\n",
    "    inner_bore_height = 14\n",
    "\n",
    "    l_section = (\n",
    "        cq.Workplane('ZY')\n",
    "        .placeSketch(l_sketch)\n",
    "        .extrude(length / 2, both=True)\n",
    "        .faces(\">Y[-2]\").workplane()\n",
    "        .center(0, inner_bore_height)\n",
    "        .cskHole(4, 8, 100, depth=None)\n",
    "    )\n",
    "    l_section.vertices('>X').vertices('>Y').vertices('<Z').tag('left_point_front')\n",
    "    l_section.vertices('>X').vertices('<Y').vertices('<Z').tag('left_point')\n",
    "    l_section.vertices('>X').vertices('<Y').vertices('>Z').tag('left_point_up')\n",
    "    l_section.vertices('<X').vertices('>Y').vertices('<Z').tag('right_point_front')\n",
    "    l_section.vertices('<X').vertices('<Y').vertices('<Z').tag('right_point')\n",
    "    l_section.vertices('<X').vertices('<Y').vertices('>Z').tag('right_point_up')\n",
    "    return l_section\n",
    "\n",
    "show_object(make_l_csk_section(l_length))"
   ]
  },
  {
   "cell_type": "code",
   "execution_count": 10,
   "id": "68793818-6ef9-45b6-a620-0260e0024e70",
   "metadata": {},
   "outputs": [
    {
     "name": "stdout",
     "output_type": "stream",
     "text": [
      "Use the multi select box below to select one or more steps you want to examine\n"
     ]
    },
    {
     "data": {
      "application/vnd.jupyter.widget-view+json": {
       "model_id": "06e21a211f5246a189c6e4997b8bf2a9",
       "version_major": 2,
       "version_minor": 0
      },
      "text/plain": [
       "HBox(children=(SelectMultiple(_dom_classes=('monospace',), index=(18,), layout=Layout(width='600px'), options=…"
      ]
     },
     "metadata": {},
     "output_type": "display_data"
    },
    {
     "data": {
      "text/plain": [
       "<jupyter_cadquery.replay.Replay at 0x7fb1e920af40>"
      ]
     },
     "execution_count": 10,
     "metadata": {},
     "output_type": "execute_result"
    }
   ],
   "source": [
    "def make_l_slot_section(length, slot):\n",
    "    inner_bore_height = 14\n",
    "\n",
    "    l_section = (\n",
    "        cq.Workplane('ZY')\n",
    "        .placeSketch(l_sketch)\n",
    "        .extrude(length / 2, both=True)\n",
    "        .faces(\">Y[-2]\").workplane()\n",
    "        .center(0, inner_bore_height)\n",
    "        .slot2D(slot, 4).tag('slot')\n",
    "        .cutThruAll()\n",
    "        .faces('<Y[1]')\n",
    "        .edges('not (>X or <X or >Z or <Z)')\n",
    "        .chamfer(1.6)\n",
    "    )\n",
    "    l_section.vertices('>X').vertices('>Y').vertices('<Z').tag('left_point_front')\n",
    "    l_section.vertices('>X').vertices('<Y').vertices('<Z').tag('left_point')\n",
    "    l_section.vertices('>X').vertices('<Y').vertices('>Z').tag('left_point_up')\n",
    "    l_section.vertices('<X').vertices('>Y').vertices('<Z').tag('right_point_front')\n",
    "    l_section.vertices('<X').vertices('<Y').vertices('<Z').tag('right_point')\n",
    "    l_section.vertices('<X').vertices('<Y').vertices('>Z').tag('right_point_up')\n",
    "    return l_section\n",
    "\n",
    "show_object(make_l_slot_section(l_length, 10))"
   ]
  },
  {
   "cell_type": "code",
   "execution_count": 11,
   "id": "da6255ba-a1a7-445b-a5ce-6f81bfcac98f",
   "metadata": {},
   "outputs": [
    {
     "name": "stdout",
     "output_type": "stream",
     "text": [
      "Use the multi select box below to select one or more steps you want to examine\n"
     ]
    },
    {
     "data": {
      "application/vnd.jupyter.widget-view+json": {
       "model_id": "235f177b8aa34045965eda46c94ad24a",
       "version_major": 2,
       "version_minor": 0
      },
      "text/plain": [
       "HBox(children=(SelectMultiple(_dom_classes=('monospace',), index=(10,), layout=Layout(width='600px'), options=…"
      ]
     },
     "metadata": {},
     "output_type": "display_data"
    },
    {
     "data": {
      "text/plain": [
       "<jupyter_cadquery.replay.Replay at 0x7fb1dfac3670>"
      ]
     },
     "execution_count": 11,
     "metadata": {},
     "output_type": "execute_result"
    }
   ],
   "source": [
    "def make_l_angle(angle, inner=True):\n",
    "    inner_bore_height = 14\n",
    "    \n",
    "    if inner:\n",
    "        axis_p1 = (-1,-5,0)\n",
    "        axis_p2 = (0,-5,0)\n",
    "    else:\n",
    "        axis_p1 = (0,20,0)\n",
    "        axis_p2 = (-1,20,0)\n",
    "\n",
    "    l_section = (\n",
    "        cq.Workplane('ZY')\n",
    "        .placeSketch(l_sketch)\n",
    "        .revolve(angle, axis_p1, axis_p2)\n",
    "    )\n",
    "    # show_object(l_section.faces('#Z').faces('+X'))\n",
    "    # show_object(l_section.faces('#Z').faces('+X').vertices('<Z'))\n",
    "    # show_object(l_section.faces('#Z').faces('+X').vertices('<Z').vertices('>Y'))\n",
    "    l_section.faces('#Z').faces('+X').vertices('<Z').vertices('>Y').tag('left_point_front')# and >Y').tag('left_point'))\n",
    "    # show_object(l_section.faces('#Z').faces('+X').vertices('<Z'))\n",
    "    # show_object(l_section.faces('#Z').faces('+X').vertices('<Z').vertices('<Y'))\n",
    "    l_section.faces('#Z').faces('+X').vertices('<Z').vertices('<Y').tag('left_point')# and <Y').tag('left_point_up'))\n",
    "    # show_object(l_section.faces('#Z').faces('+X').vertices('>Z'))\n",
    "    # show_object(l_section.faces('#Z').faces('+X').vertices('>Z').vertices('<Y'))\n",
    "    l_section.faces('#Z').faces('+X').vertices('>Z').vertices('<Y').tag('left_point_up')# and >Y').tag('left_point_front'))\n",
    "    if angle < 90:\n",
    "        # show_object(l_section.faces('#Z').faces('not +X'))\n",
    "        # show_object(l_section.faces('#Z').faces('not +X').vertices('<Z'))\n",
    "        # show_object(l_section.faces('#Z').faces('not +X').vertices('<Z').vertices('<Y'))\n",
    "        l_section.faces('#Z').faces('not +X').vertices('<Z').vertices('<Y').tag('right_point')\n",
    "        # show_object(l_section.faces('#Z').faces('not +X').vertices('>Z'))\n",
    "        # show_object(l_section.faces('#Z').faces('not +X').vertices('>Z').vertices('<Y'))\n",
    "        l_section.faces('#Z').faces('not +X').vertices('>Z').vertices('<Y').tag('right_point_up')\n",
    "        # show_object(l_section.faces('#Z').faces('not +X').vertices('<Z'))\n",
    "        # show_object(l_section.faces('#Z').faces('not +X').vertices('<Z').vertices('>Y'))\n",
    "        l_section.faces('#Z').faces('not +X').vertices('<Z').vertices('>Y').tag('right_point_front')\n",
    "    if angle >= 90:\n",
    "        if inner == True:\n",
    "            # show_object(l_section.faces('#Z').faces('not +X'))\n",
    "            # show_object(l_section.faces('#Z').faces('not +X').vertices('<Z'))\n",
    "            # show_object(l_section.faces('#Z').faces('not +X').vertices('<Z').vertices('>X'))\n",
    "            l_section.faces('#Z').faces('not +X').vertices('<Z').vertices('>X').tag('right_point')\n",
    "            # show_object(l_section.faces('#Z').faces('not +X').vertices('>Z'))\n",
    "            # show_object(l_section.faces('#Z').faces('not +X').vertices('>Z').vertices('>X'))\n",
    "            l_section.faces('#Z').faces('not +X').vertices('>Z').vertices('>X').tag('right_point_up')\n",
    "            # show_object(l_section.faces('#Z').faces('not +X').vertices('<Z'))\n",
    "            # show_object(l_section.faces('#Z').faces('not +X').vertices('<Z').vertices('<X'))\n",
    "            l_section.faces('#Z').faces('not +X').vertices('<Z').vertices('<X').tag('right_point_front')\n",
    "        else:\n",
    "            # show_object(l_section.faces('#Z').faces('not +X'))\n",
    "            # show_object(l_section.faces('#Z').faces('not +X').vertices('<Z'))\n",
    "            # show_object(l_section.faces('#Z').faces('not +X').vertices('<Z').vertices('<X'))\n",
    "            l_section.faces('#Z').faces('not +X').vertices('<Z').vertices('<X').tag('right_point')\n",
    "            # show_object(l_section.faces('#Z').faces('not +X').vertices('>Z'))\n",
    "            # show_object(l_section.faces('#Z').faces('not +X').vertices('>Z').vertices('<X'))\n",
    "            l_section.faces('#Z').faces('not +X').vertices('>Z').vertices('<X').tag('right_point_up')\n",
    "            # show_object(l_section.faces('#Z').faces('not +X').vertices('<Z'))\n",
    "            # show_object(l_section.faces('#Z').faces('not +X').vertices('<Z').vertices('>X'))\n",
    "            l_section.faces('#Z').faces('not +X').vertices('<Z').vertices('>X').tag('right_point_front')\n",
    "            \n",
    "    return l_section\n",
    "\n",
    "show_object(make_l_angle(90, False))"
   ]
  },
  {
   "cell_type": "code",
   "execution_count": 12,
   "id": "b0a1af1e-056b-4203-a5b9-19b97bc95d12",
   "metadata": {},
   "outputs": [
    {
     "name": "stdout",
     "output_type": "stream",
     "text": [
      "Use the multi select box below to select one or more steps you want to examine\n"
     ]
    },
    {
     "data": {
      "application/vnd.jupyter.widget-view+json": {
       "model_id": "524a098076a64e1b923074a28a872dc3",
       "version_major": 2,
       "version_minor": 0
      },
      "text/plain": [
       "HBox(children=(SelectMultiple(_dom_classes=('monospace',), index=(10,), layout=Layout(width='600px'), options=…"
      ]
     },
     "metadata": {},
     "output_type": "display_data"
    },
    {
     "data": {
      "text/plain": [
       "<jupyter_cadquery.replay.Replay at 0x7fb1dfa938e0>"
      ]
     },
     "execution_count": 12,
     "metadata": {},
     "output_type": "execute_result"
    }
   ],
   "source": [
    "show_object(make_l_angle(80))"
   ]
  },
  {
   "cell_type": "code",
   "execution_count": 13,
   "id": "e9f368d3-6da2-4ff5-8c02-2f4cb6283b06",
   "metadata": {},
   "outputs": [
    {
     "name": "stdout",
     "output_type": "stream",
     "text": [
      "Use the multi select box below to select one or more steps you want to examine\n"
     ]
    },
    {
     "data": {
      "application/vnd.jupyter.widget-view+json": {
       "model_id": "7de0cf1acb6d4ec3980599d04fcc053e",
       "version_major": 2,
       "version_minor": 0
      },
      "text/plain": [
       "HBox(children=(SelectMultiple(_dom_classes=('monospace',), index=(10,), layout=Layout(width='600px'), options=…"
      ]
     },
     "metadata": {},
     "output_type": "display_data"
    },
    {
     "data": {
      "text/plain": [
       "<jupyter_cadquery.replay.Replay at 0x7fb1dfa67520>"
      ]
     },
     "execution_count": 13,
     "metadata": {},
     "output_type": "execute_result"
    }
   ],
   "source": [
    "show_object(make_l_angle(85, False))"
   ]
  },
  {
   "cell_type": "markdown",
   "id": "37fdda0b-4c9d-4095-97f9-ed1a746a4d83",
   "metadata": {},
   "source": [
    "## Assamble the parts"
   ]
  },
  {
   "cell_type": "code",
   "execution_count": 14,
   "id": "adf0deb3-cb00-430d-a6d5-7a5623005335",
   "metadata": {},
   "outputs": [
    {
     "name": "stdout",
     "output_type": "stream",
     "text": [
      "Removing replay from cadquery.Workplane (will show a final RuntimeWarning if not suppressed)\n"
     ]
    }
   ],
   "source": [
    "disable_replay()\n",
    "show_object = show"
   ]
  },
  {
   "cell_type": "code",
   "execution_count": 25,
   "id": "35da94af-d206-4446-b3a1-f39dd2c98cd8",
   "metadata": {},
   "outputs": [
    {
     "ename": "AttributeError",
     "evalue": "'Compound' object has no attribute 'removeSplitter'",
     "output_type": "error",
     "traceback": [
      "\u001b[0;31m---------------------------------------------------------------------------\u001b[0m",
      "\u001b[0;31mAttributeError\u001b[0m                            Traceback (most recent call last)",
      "Input \u001b[0;32mIn [25]\u001b[0m, in \u001b[0;36m<cell line: 21>\u001b[0;34m()\u001b[0m\n\u001b[1;32m     18\u001b[0m     basic_mount\u001b[38;5;241m.\u001b[39msolve()\n\u001b[1;32m     19\u001b[0m     \u001b[38;5;28;01mreturn\u001b[39;00m basic_mount\n\u001b[0;32m---> 21\u001b[0m mount \u001b[38;5;241m=\u001b[39m \u001b[43mmake_basic_mount\u001b[49m\u001b[43m(\u001b[49m\u001b[43m)\u001b[49m\u001b[38;5;241;43m.\u001b[39;49m\u001b[43mtoCompound\u001b[49m\u001b[43m(\u001b[49m\u001b[43m)\u001b[49m\u001b[38;5;241;43m.\u001b[39;49m\u001b[43mremoveSplitter\u001b[49m()\u001b[38;5;241m.\u001b[39mfillet(\u001b[38;5;241m1.0\u001b[39m)\n\u001b[1;32m     22\u001b[0m show_object(mount)\n",
      "\u001b[0;31mAttributeError\u001b[0m: 'Compound' object has no attribute 'removeSplitter'"
     ]
    }
   ],
   "source": [
    "def make_basic_mount():\n",
    "    basic_mount = (\n",
    "        cq.Assembly()\n",
    "        .add(make_grip_section(), name=\"g0\")\n",
    "        .add(make_l_section(l_length), name=\"l0\")\n",
    "        .add(make_grip_section(), name=\"g1\")\n",
    "    )\n",
    "    (\n",
    "        basic_mount\n",
    "        .constrain(\"g0?left_point\", \"Fixed\")\n",
    "        .constrain(\"g0?right_point_front\", \"l0?left_point_front\", \"Point\")\n",
    "        .constrain(\"g0?right_point\", \"l0?left_point\", \"Point\")\n",
    "        .constrain(\"g0?right_point_up\", \"l0?left_point_up\", \"Point\")\n",
    "        .constrain(\"l0?right_point_front\", \"g1?left_point_front\", \"Point\")\n",
    "        .constrain(\"l0?right_point\", \"g1?left_point\", \"Point\")\n",
    "        .constrain(\"l0?right_point_up\", \"g1?left_point_up\", \"Point\")\n",
    "    )\n",
    "    basic_mount.solve()\n",
    "    return basic_mount\n",
    "\n",
    "mount = make_basic_mount().toCompound().fillet(1.0)\n",
    "show_object(mount)"
   ]
  },
  {
   "cell_type": "code",
   "execution_count": 16,
   "id": "be1e21f2-18ab-4829-9cde-d599a5942b2b",
   "metadata": {},
   "outputs": [
    {
     "name": "stdout",
     "output_type": "stream",
     "text": [
      "100% ⋮————————————————————————————————————————————————————————————⋮ (6/6)  0.06s\n"
     ]
    },
    {
     "data": {
      "application/vnd.jupyter.widget-view+json": {
       "model_id": "4f02cab2ca0e4d62a453510cc7a2d0aa",
       "version_major": 2,
       "version_minor": 0
      },
      "text/plain": [
       "CadViewerWidget(anchor=None, cad_width=780, glass=False, height=540, pinning=False, theme='light', title=None,…"
      ]
     },
     "metadata": {},
     "output_type": "display_data"
    },
    {
     "data": {
      "text/html": [
       "<div></div>"
      ],
      "text/plain": [
       "<IPython.core.display.HTML object>"
      ]
     },
     "metadata": {},
     "output_type": "display_data"
    },
    {
     "data": {
      "text/plain": [
       "<cad_viewer_widget.widget.CadViewer at 0x7fb7f4b417f0>"
      ]
     },
     "execution_count": 16,
     "metadata": {},
     "output_type": "execute_result"
    }
   ],
   "source": [
    "def make_mount():\n",
    "    mount = (\n",
    "        cq.Assembly()\n",
    "        .add(make_basic_mount(), name=\"m0\")\n",
    "        .add(make_basic_mount(), name=\"m1\")\n",
    "    )\n",
    "    (\n",
    "        mount\n",
    "        # .constrain(\"m0@g0?left_point\", \"Fixed\")\n",
    "        # .constrain(\"m0@g0?right_plane\", \"m1@l0?left_plane\", \"PointInPlane\")\n",
    "        # .constrain(\"m0@g0?right_point\", \"m1@l0?left_point\", \"Point\")\n",
    "        # .constrain(\"m0@g0?right_point_up\", \"m1@l0?left_point_up\", \"Point\")\n",
    "    )\n",
    "    # mount.solve()\n",
    "    return mount\n",
    "show_object(make_mount())"
   ]
  },
  {
   "cell_type": "code",
   "execution_count": 17,
   "id": "e79baf36-709c-42f4-8929-e9ace36f7c65",
   "metadata": {},
   "outputs": [],
   "source": [
    "class Wallmount_Constraints:\n",
    "    def __init__(self):\n",
    "        self.assembly = cq.Assembly()\n",
    "        self.names = []\n",
    "\n",
    "    def _add_text_section(self, section, name: str, text: str):\n",
    "        # show_object(section.faces(\"<Z[-2]\").workplane(centerOption=\"CenterOfBoundBox\").text(text, 8, -4, combine='cut'))\n",
    "        if text != \"\":\n",
    "            section = section.faces(\"<Z[-2]\").workplane(centerOption=\"CenterOfBoundBox\").text(text, 8, -4, combine='cut', fontPath='/home/cq/Stencil_Regular.ttf')\n",
    "        self._add_section(section, name)\n",
    "        \n",
    "    def _add_section(self, section, name: str):\n",
    "        self.assembly.add(section, name=name)\n",
    "        if len(self.names) == 0:\n",
    "            (\n",
    "                self.assembly\n",
    "                .constrain(name + \"?left_point_front\", \"Fixed\")\n",
    "                .constrain(name + \"?left_point\", \"Fixed\")\n",
    "                .constrain(name + \"?left_point_up\", \"Fixed\")\n",
    "            )\n",
    "        else:\n",
    "            last_name = self.names[-1]\n",
    "            (\n",
    "                self.assembly\n",
    "                .constrain(last_name + \"?right_point_front\", name + \"?left_point_front\", \"Point\")\n",
    "                .constrain(last_name + \"?right_point\", name + \"?left_point\", \"Point\")\n",
    "                .constrain(last_name + \"?right_point_up\", name + \"?left_point_up\", \"Point\")\n",
    "            )\n",
    "            for _ in range(10):\n",
    "                self.assembly = self.assembly.solve()\n",
    "            # show_object(self.assembly)\n",
    "        self.names.append(name)\n",
    "\n",
    "    def add_l_section(self, name: str, length: float, text: str=\"\"):\n",
    "        self._add_text_section(make_l_section(length), name, text)\n",
    "        return self\n",
    "    \n",
    "    def add_l_csk_section(self, name: str, length: float, text: str=\"\"):\n",
    "        self._add_text_section(make_l_csk_section(length), name, text)\n",
    "        return self\n",
    "    \n",
    "    def add_l_slot_section(self, name: str, length: float, slot_length: float, text: str=\"\"):\n",
    "        self._add_text_section(make_l_slot_section(length, slot_length), name, text)\n",
    "        return self\n",
    "\n",
    "    def add_grip_section(self, name: str):\n",
    "        self._add_section(make_grip_section(), name)\n",
    "        return self\n",
    "    \n",
    "    def add_l_angle(self, name: str, angle):\n",
    "        self._add_section(make_l_angle(angle), name)\n",
    "        return self\n",
    "    \n",
    "    def add_l_angle_outer(self, name: str, angle):\n",
    "        self._add_section(make_l_angle(angle, False), name)\n",
    "        return self\n",
    "\n",
    "    def make(self):\n",
    "        self.assembly.solve()\n",
    "        return self.assembly"
   ]
  },
  {
   "cell_type": "code",
   "execution_count": 18,
   "id": "a6e5edc7-d15f-4309-8d97-8bf8e51b1186",
   "metadata": {},
   "outputs": [],
   "source": [
    "mount = Wallmount_Constraints()\n",
    "\n",
    "angle = 132\n",
    "\n",
    "(\n",
    "    mount\n",
    "    # .add_grip_section(\"g0\")\n",
    "    # .add_l_slot_section(\"l1\", 18, 10, str(angle) + \"°\")\n",
    "    # .add_grip_section(\"g1\")\n",
    "    # .add_l_angle(\"l0\", 180 - angle)\n",
    "    .add_grip_section(\"g2\")\n",
    "    .add_l_slot_section(\"l2\", 18, 10)\n",
    "    .add_grip_section(\"g3\")\n",
    "    # .add_l_section(\"l1\", 40)\n",
    "    # .add_grip_section(\"g2\")\n",
    "    # .add_l_section(\"l2\", 40)\n",
    "    # .add_grip_section(\"g3\")\n",
    "    .make()\n",
    ")# .save('mount.step')\n",
    "\n",
    "def create_straight_mount():\n",
    "    return (\n",
    "        Wallmount_Constraints()\n",
    "        .add_grip_section(\"g0\")\n",
    "        .add_l_slot_section(\"l1\", 18, 10, \"JJ\")\n",
    "        .add_grip_section(\"g1\")\n",
    "        .make()\n",
    "    )\n",
    "\n",
    "def create_angle_mount(angle: float):\n",
    "    return (\n",
    "        Wallmount_Constraints()\n",
    "        .add_grip_section(\"g0\")\n",
    "        .add_l_slot_section(\"l1\", 18, 10, str(angle) + \"°\")\n",
    "        .add_grip_section(\"g1\")\n",
    "        .add_l_angle(\"l0\", 180 - angle)\n",
    "        .add_grip_section(\"g2\")\n",
    "        .add_l_slot_section(\"l2\", 18, 10, \"JJ\")\n",
    "        .add_grip_section(\"g3\")\n",
    "        .make()\n",
    "    )\n",
    "\n",
    "\n",
    "def create_outer_angle_mount(angle: float):\n",
    "    return (\n",
    "        Wallmount_Constraints()\n",
    "        .add_grip_section(\"g0\")\n",
    "        .add_l_slot_section(\"l1\", 18, 10, str(angle) + \"°\")\n",
    "        .add_grip_section(\"g1\")\n",
    "        .add_l_angle_outer(\"l0\", 180 - angle)\n",
    "        .add_grip_section(\"g2\")\n",
    "        .add_l_slot_section(\"l2\", 18, 10, \"JJ\")\n",
    "        .add_grip_section(\"g3\")\n",
    "        .make()\n",
    "    )"
   ]
  },
  {
   "cell_type": "code",
   "execution_count": 19,
   "id": "de96695a-84a1-41b7-8210-b922ced07159",
   "metadata": {},
   "outputs": [
    {
     "name": "stderr",
     "output_type": "stream",
     "text": [
      "/opt/conda/envs/cq/lib/python3.9/site-packages/cadquery/utils.py:65: FutureWarning: Kwarg <cut> will be removed. Plase use <combine='cut'>\n",
      "  warn(\n"
     ]
    },
    {
     "name": "stdout",
     "output_type": "stream",
     "text": [
      "100% ⋮————————————————————————————————————————————————————————————⋮ (7/7)  0.21s\n"
     ]
    },
    {
     "data": {
      "application/vnd.jupyter.widget-view+json": {
       "model_id": "bfd91725553b49c38b782f2d9403d1fe",
       "version_major": 2,
       "version_minor": 0
      },
      "text/plain": [
       "CadViewerWidget(anchor=None, cad_width=780, glass=False, height=540, pinning=False, theme='light', title=None,…"
      ]
     },
     "metadata": {},
     "output_type": "display_data"
    },
    {
     "data": {
      "text/html": [
       "<div></div>"
      ],
      "text/plain": [
       "<IPython.core.display.HTML object>"
      ]
     },
     "metadata": {},
     "output_type": "display_data"
    }
   ],
   "source": [
    "create_angle_mount(85)"
   ]
  },
  {
   "cell_type": "code",
   "execution_count": 20,
   "id": "c0911433-a0df-4854-9b0a-2ab2eb08b37b",
   "metadata": {},
   "outputs": [
    {
     "name": "stdout",
     "output_type": "stream",
     "text": [
      "100% ⋮————————————————————————————————————————————————————————————⋮ (7/7)  0.21s\n"
     ]
    },
    {
     "data": {
      "application/vnd.jupyter.widget-view+json": {
       "model_id": "c71df03f0f8245ac91d224621d880502",
       "version_major": 2,
       "version_minor": 0
      },
      "text/plain": [
       "CadViewerWidget(anchor=None, cad_width=780, glass=False, height=540, pinning=False, theme='light', title=None,…"
      ]
     },
     "metadata": {},
     "output_type": "display_data"
    },
    {
     "data": {
      "text/html": [
       "<div></div>"
      ],
      "text/plain": [
       "<IPython.core.display.HTML object>"
      ]
     },
     "metadata": {},
     "output_type": "display_data"
    }
   ],
   "source": [
    "create_angle_mount(95)"
   ]
  },
  {
   "cell_type": "code",
   "execution_count": 21,
   "id": "3124a0e9-8c58-4cdd-80ae-ddfd8279dc23",
   "metadata": {},
   "outputs": [
    {
     "name": "stdout",
     "output_type": "stream",
     "text": [
      "100% ⋮————————————————————————————————————————————————————————————⋮ (7/7)  0.22s\n"
     ]
    },
    {
     "data": {
      "application/vnd.jupyter.widget-view+json": {
       "model_id": "39e1293fa01947debaccdda262947729",
       "version_major": 2,
       "version_minor": 0
      },
      "text/plain": [
       "CadViewerWidget(anchor=None, cad_width=780, glass=False, height=540, pinning=False, theme='light', title=None,…"
      ]
     },
     "metadata": {},
     "output_type": "display_data"
    },
    {
     "data": {
      "text/html": [
       "<div></div>"
      ],
      "text/plain": [
       "<IPython.core.display.HTML object>"
      ]
     },
     "metadata": {},
     "output_type": "display_data"
    }
   ],
   "source": [
    "create_outer_angle_mount(85)"
   ]
  },
  {
   "cell_type": "code",
   "execution_count": 22,
   "id": "aff8fb90-52a2-4e7f-9078-38beb0f28b1f",
   "metadata": {},
   "outputs": [
    {
     "name": "stdout",
     "output_type": "stream",
     "text": [
      "100% ⋮————————————————————————————————————————————————————————————⋮ (7/7)  0.21s\n"
     ]
    },
    {
     "data": {
      "application/vnd.jupyter.widget-view+json": {
       "model_id": "0f42fcdcf6914c2ea7c0604853064f07",
       "version_major": 2,
       "version_minor": 0
      },
      "text/plain": [
       "CadViewerWidget(anchor=None, cad_width=780, glass=False, height=540, pinning=False, theme='light', title=None,…"
      ]
     },
     "metadata": {},
     "output_type": "display_data"
    },
    {
     "data": {
      "text/html": [
       "<div></div>"
      ],
      "text/plain": [
       "<IPython.core.display.HTML object>"
      ]
     },
     "metadata": {},
     "output_type": "display_data"
    }
   ],
   "source": [
    "create_outer_angle_mount(95)"
   ]
  },
  {
   "cell_type": "code",
   "execution_count": 23,
   "id": "172df738-f515-4c32-94fc-208febaf9b21",
   "metadata": {},
   "outputs": [
    {
     "name": "stdout",
     "output_type": "stream",
     "text": [
      "\u001b[32;1m\n",
      "*******************************************************************\n",
      "******        Statistics on Transfer (Write)                 ******\u001b[0m\n",
      "\u001b[32;1m\n",
      "*******************************************************************\n",
      "******        Transfer Mode = 0  I.E.  As Is       ******\u001b[0m\n",
      "\u001b[32;1m******        Transferring Shape, ShapeType = 0                      ******\u001b[0m\n",
      "\u001b[32;1m** WorkSession : Sending all data\u001b[0m\n",
      "\u001b[32;1m Step File Name : mount/mount.step(11222 ents)  Write  Done\u001b[0m\n"
     ]
    }
   ],
   "source": [
    "mount = create_straight_mount()\n",
    "\n",
    "file_name = \"mount/mount\"\n",
    "mount.save(file_name + \".step\")\n",
    "cq.exporters.export(mount.toCompound(), file_name + \".stl\")"
   ]
  },
  {
   "cell_type": "code",
   "execution_count": 24,
   "id": "567b7e62-7632-4c4a-bc76-f772bc286cba",
   "metadata": {},
   "outputs": [
    {
     "name": "stdout",
     "output_type": "stream",
     "text": [
      "angle_mount/angle_mount_outer_078\n",
      "\u001b[32;1m\n",
      "*******************************************************************\n",
      "******        Statistics on Transfer (Write)                 ******\u001b[0m\n",
      "\u001b[32;1m\n",
      "*******************************************************************\n",
      "******        Transfer Mode = 0  I.E.  As Is       ******\u001b[0m\n",
      "\u001b[32;1m******        Transferring Shape, ShapeType = 0                      ******\u001b[0m\n",
      "\u001b[32;1m** WorkSession : Sending all data\u001b[0m\n",
      "\u001b[32;1m Step File Name : angle_mount/angle_mount_outer_078.step(27948 ents)  Write  Done\u001b[0m\n",
      "angle_mount/angle_mount_outer_080\n",
      "\u001b[32;1m\n",
      "*******************************************************************\n",
      "******        Statistics on Transfer (Write)                 ******\u001b[0m\n",
      "\u001b[32;1m\n",
      "*******************************************************************\n",
      "******        Transfer Mode = 0  I.E.  As Is       ******\u001b[0m\n",
      "\u001b[32;1m******        Transferring Shape, ShapeType = 0                      ******\u001b[0m\n",
      "\u001b[32;1m** WorkSession : Sending all data\u001b[0m\n",
      "\u001b[32;1m Step File Name : angle_mount/angle_mount_outer_080.step(26279 ents)  Write  Done\u001b[0m\n",
      "angle_mount/angle_mount_outer_082\n",
      "\u001b[32;1m\n",
      "*******************************************************************\n",
      "******        Statistics on Transfer (Write)                 ******\u001b[0m\n",
      "\u001b[32;1m\n",
      "*******************************************************************\n",
      "******        Transfer Mode = 0  I.E.  As Is       ******\u001b[0m\n",
      "\u001b[32;1m******        Transferring Shape, ShapeType = 0                      ******\u001b[0m\n",
      "\u001b[32;1m** WorkSession : Sending all data\u001b[0m\n",
      "\u001b[32;1m Step File Name : angle_mount/angle_mount_outer_082.step(29115 ents)  Write  Done\u001b[0m\n",
      "angle_mount/angle_mount_outer_084\n",
      "\u001b[32;1m\n",
      "*******************************************************************\n",
      "******        Statistics on Transfer (Write)                 ******\u001b[0m\n",
      "\u001b[32;1m\n",
      "*******************************************************************\n",
      "******        Transfer Mode = 0  I.E.  As Is       ******\u001b[0m\n",
      "\u001b[32;1m******        Transferring Shape, ShapeType = 0                      ******\u001b[0m\n",
      "\u001b[32;1m** WorkSession : Sending all data\u001b[0m\n",
      "\u001b[32;1m Step File Name : angle_mount/angle_mount_outer_084.step(26960 ents)  Write  Done\u001b[0m\n",
      "angle_mount/angle_mount_outer_086\n",
      "\u001b[32;1m\n",
      "*******************************************************************\n",
      "******        Statistics on Transfer (Write)                 ******\u001b[0m\n",
      "\u001b[32;1m\n",
      "*******************************************************************\n",
      "******        Transfer Mode = 0  I.E.  As Is       ******\u001b[0m\n",
      "\u001b[32;1m******        Transferring Shape, ShapeType = 0                      ******\u001b[0m\n",
      "\u001b[32;1m** WorkSession : Sending all data\u001b[0m\n",
      "\u001b[32;1m Step File Name : angle_mount/angle_mount_outer_086.step(27626 ents)  Write  Done\u001b[0m\n",
      "angle_mount/angle_mount_outer_088\n",
      "\u001b[32;1m\n",
      "*******************************************************************\n",
      "******        Statistics on Transfer (Write)                 ******\u001b[0m\n",
      "\u001b[32;1m\n",
      "*******************************************************************\n",
      "******        Transfer Mode = 0  I.E.  As Is       ******\u001b[0m\n",
      "\u001b[32;1m******        Transferring Shape, ShapeType = 0                      ******\u001b[0m\n",
      "\u001b[32;1m** WorkSession : Sending all data\u001b[0m\n",
      "\u001b[32;1m Step File Name : angle_mount/angle_mount_outer_088.step(28350 ents)  Write  Done\u001b[0m\n",
      "angle_mount/angle_mount_outer_090\n",
      "\u001b[32;1m\n",
      "*******************************************************************\n",
      "******        Statistics on Transfer (Write)                 ******\u001b[0m\n",
      "\u001b[32;1m\n",
      "*******************************************************************\n",
      "******        Transfer Mode = 0  I.E.  As Is       ******\u001b[0m\n",
      "\u001b[32;1m******        Transferring Shape, ShapeType = 0                      ******\u001b[0m\n",
      "\u001b[32;1m** WorkSession : Sending all data\u001b[0m\n",
      "\u001b[32;1m Step File Name : angle_mount/angle_mount_outer_090.step(25445 ents)  Write  Done\u001b[0m\n",
      "angle_mount/angle_mount_outer_092\n",
      "\u001b[32;1m\n",
      "*******************************************************************\n",
      "******        Statistics on Transfer (Write)                 ******\u001b[0m\n",
      "\u001b[32;1m\n",
      "*******************************************************************\n",
      "******        Transfer Mode = 0  I.E.  As Is       ******\u001b[0m\n",
      "\u001b[32;1m******        Transferring Shape, ShapeType = 0                      ******\u001b[0m\n",
      "\u001b[32;1m** WorkSession : Sending all data\u001b[0m\n",
      "\u001b[32;1m Step File Name : angle_mount/angle_mount_outer_092.step(28281 ents)  Write  Done\u001b[0m\n",
      "angle_mount/angle_mount_outer_094\n",
      "\u001b[32;1m\n",
      "*******************************************************************\n",
      "******        Statistics on Transfer (Write)                 ******\u001b[0m\n",
      "\u001b[32;1m\n",
      "*******************************************************************\n",
      "******        Transfer Mode = 0  I.E.  As Is       ******\u001b[0m\n",
      "\u001b[32;1m******        Transferring Shape, ShapeType = 0                      ******\u001b[0m\n",
      "\u001b[32;1m** WorkSession : Sending all data\u001b[0m\n",
      "\u001b[32;1m Step File Name : angle_mount/angle_mount_outer_094.step(26126 ents)  Write  Done\u001b[0m\n",
      "angle_mount/angle_mount_outer_096\n",
      "\u001b[32;1m\n",
      "*******************************************************************\n",
      "******        Statistics on Transfer (Write)                 ******\u001b[0m\n",
      "\u001b[32;1m\n",
      "*******************************************************************\n",
      "******        Transfer Mode = 0  I.E.  As Is       ******\u001b[0m\n",
      "\u001b[32;1m******        Transferring Shape, ShapeType = 0                      ******\u001b[0m\n",
      "\u001b[32;1m** WorkSession : Sending all data\u001b[0m\n",
      "\u001b[32;1m Step File Name : angle_mount/angle_mount_outer_096.step(26792 ents)  Write  Done\u001b[0m\n",
      "angle_mount/angle_mount_outer_098\n",
      "\u001b[32;1m\n",
      "*******************************************************************\n",
      "******        Statistics on Transfer (Write)                 ******\u001b[0m\n",
      "\u001b[32;1m\n",
      "*******************************************************************\n",
      "******        Transfer Mode = 0  I.E.  As Is       ******\u001b[0m\n",
      "\u001b[32;1m******        Transferring Shape, ShapeType = 0                      ******\u001b[0m\n",
      "\u001b[32;1m** WorkSession : Sending all data\u001b[0m\n",
      "\u001b[32;1m Step File Name : angle_mount/angle_mount_outer_098.step(27516 ents)  Write  Done\u001b[0m\n",
      "angle_mount/angle_mount_outer_100\n",
      "\u001b[32;1m\n",
      "*******************************************************************\n",
      "******        Statistics on Transfer (Write)                 ******\u001b[0m\n",
      "\u001b[32;1m\n",
      "*******************************************************************\n",
      "******        Transfer Mode = 0  I.E.  As Is       ******\u001b[0m\n",
      "\u001b[32;1m******        Transferring Shape, ShapeType = 0                      ******\u001b[0m\n",
      "\u001b[32;1m** WorkSession : Sending all data\u001b[0m\n",
      "\u001b[32;1m Step File Name : angle_mount/angle_mount_outer_100.step(25720 ents)  Write  Done\u001b[0m\n",
      "angle_mount/angle_mount_outer_102\n",
      "\u001b[32;1m\n",
      "*******************************************************************\n",
      "******        Statistics on Transfer (Write)                 ******\u001b[0m\n",
      "\u001b[32;1m\n",
      "*******************************************************************\n",
      "******        Transfer Mode = 0  I.E.  As Is       ******\u001b[0m\n",
      "\u001b[32;1m******        Transferring Shape, ShapeType = 0                      ******\u001b[0m\n",
      "\u001b[32;1m** WorkSession : Sending all data\u001b[0m\n",
      "\u001b[32;1m Step File Name : angle_mount/angle_mount_outer_102.step(28556 ents)  Write  Done\u001b[0m\n",
      "angle_mount/angle_mount_outer_104\n",
      "\u001b[32;1m\n",
      "*******************************************************************\n",
      "******        Statistics on Transfer (Write)                 ******\u001b[0m\n",
      "\u001b[32;1m\n",
      "*******************************************************************\n",
      "******        Transfer Mode = 0  I.E.  As Is       ******\u001b[0m\n",
      "\u001b[32;1m******        Transferring Shape, ShapeType = 0                      ******\u001b[0m\n",
      "\u001b[32;1m** WorkSession : Sending all data\u001b[0m\n",
      "\u001b[32;1m Step File Name : angle_mount/angle_mount_outer_104.step(26401 ents)  Write  Done\u001b[0m\n",
      "angle_mount/angle_mount_outer_106\n",
      "\u001b[32;1m\n",
      "*******************************************************************\n",
      "******        Statistics on Transfer (Write)                 ******\u001b[0m\n",
      "\u001b[32;1m\n",
      "*******************************************************************\n",
      "******        Transfer Mode = 0  I.E.  As Is       ******\u001b[0m\n",
      "\u001b[32;1m******        Transferring Shape, ShapeType = 0                      ******\u001b[0m\n",
      "\u001b[32;1m** WorkSession : Sending all data\u001b[0m\n",
      "\u001b[32;1m Step File Name : angle_mount/angle_mount_outer_106.step(27067 ents)  Write  Done\u001b[0m\n",
      "angle_mount/angle_mount_outer_108\n",
      "\u001b[32;1m\n",
      "*******************************************************************\n",
      "******        Statistics on Transfer (Write)                 ******\u001b[0m\n",
      "\u001b[32;1m\n",
      "*******************************************************************\n",
      "******        Transfer Mode = 0  I.E.  As Is       ******\u001b[0m\n",
      "\u001b[32;1m******        Transferring Shape, ShapeType = 0                      ******\u001b[0m\n",
      "\u001b[32;1m** WorkSession : Sending all data\u001b[0m\n",
      "\u001b[32;1m Step File Name : angle_mount/angle_mount_outer_108.step(27791 ents)  Write  Done\u001b[0m\n",
      "angle_mount/angle_mount_outer_110\n",
      "\u001b[32;1m\n",
      "*******************************************************************\n",
      "******        Statistics on Transfer (Write)                 ******\u001b[0m\n",
      "\u001b[32;1m\n",
      "*******************************************************************\n",
      "******        Transfer Mode = 0  I.E.  As Is       ******\u001b[0m\n",
      "\u001b[32;1m******        Transferring Shape, ShapeType = 0                      ******\u001b[0m\n",
      "\u001b[32;1m** WorkSession : Sending all data\u001b[0m\n",
      "\u001b[32;1m Step File Name : angle_mount/angle_mount_outer_110.step(25136 ents)  Write  Done\u001b[0m\n",
      "angle_mount/angle_mount_outer_112\n",
      "\u001b[32;1m\n",
      "*******************************************************************\n",
      "******        Statistics on Transfer (Write)                 ******\u001b[0m\n",
      "\u001b[32;1m\n",
      "*******************************************************************\n",
      "******        Transfer Mode = 0  I.E.  As Is       ******\u001b[0m\n",
      "\u001b[32;1m******        Transferring Shape, ShapeType = 0                      ******\u001b[0m\n",
      "\u001b[32;1m** WorkSession : Sending all data\u001b[0m\n",
      "\u001b[32;1m Step File Name : angle_mount/angle_mount_outer_112.step(27972 ents)  Write  Done\u001b[0m\n",
      "angle_mount/angle_mount_outer_114\n",
      "\u001b[32;1m\n",
      "*******************************************************************\n",
      "******        Statistics on Transfer (Write)                 ******\u001b[0m\n",
      "\u001b[32;1m\n",
      "*******************************************************************\n",
      "******        Transfer Mode = 0  I.E.  As Is       ******\u001b[0m\n",
      "\u001b[32;1m******        Transferring Shape, ShapeType = 0                      ******\u001b[0m\n",
      "\u001b[32;1m** WorkSession : Sending all data\u001b[0m\n",
      "\u001b[32;1m Step File Name : angle_mount/angle_mount_outer_114.step(25817 ents)  Write  Done\u001b[0m\n",
      "angle_mount/angle_mount_outer_116\n",
      "\u001b[32;1m\n",
      "*******************************************************************\n",
      "******        Statistics on Transfer (Write)                 ******\u001b[0m\n",
      "\u001b[32;1m\n",
      "*******************************************************************\n",
      "******        Transfer Mode = 0  I.E.  As Is       ******\u001b[0m\n",
      "\u001b[32;1m******        Transferring Shape, ShapeType = 0                      ******\u001b[0m\n",
      "\u001b[32;1m** WorkSession : Sending all data\u001b[0m\n",
      "\u001b[32;1m Step File Name : angle_mount/angle_mount_outer_116.step(26483 ents)  Write  Done\u001b[0m\n",
      "angle_mount/angle_mount_outer_118\n",
      "\u001b[32;1m\n",
      "*******************************************************************\n",
      "******        Statistics on Transfer (Write)                 ******\u001b[0m\n",
      "\u001b[32;1m\n",
      "*******************************************************************\n",
      "******        Transfer Mode = 0  I.E.  As Is       ******\u001b[0m\n",
      "\u001b[32;1m******        Transferring Shape, ShapeType = 0                      ******\u001b[0m\n",
      "\u001b[32;1m** WorkSession : Sending all data\u001b[0m\n",
      "\u001b[32;1m Step File Name : angle_mount/angle_mount_outer_118.step(27207 ents)  Write  Done\u001b[0m\n",
      "angle_mount/angle_mount_outer_120\n",
      "\u001b[32;1m\n",
      "*******************************************************************\n",
      "******        Statistics on Transfer (Write)                 ******\u001b[0m\n",
      "\u001b[32;1m\n",
      "*******************************************************************\n",
      "******        Transfer Mode = 0  I.E.  As Is       ******\u001b[0m\n",
      "\u001b[32;1m******        Transferring Shape, ShapeType = 0                      ******\u001b[0m\n",
      "\u001b[32;1m** WorkSession : Sending all data\u001b[0m\n",
      "\u001b[32;1m Step File Name : angle_mount/angle_mount_outer_120.step(28556 ents)  Write  Done\u001b[0m\n",
      "angle_mount/angle_mount_outer_122\n",
      "\u001b[32;1m\n",
      "*******************************************************************\n",
      "******        Statistics on Transfer (Write)                 ******\u001b[0m\n",
      "\u001b[32;1m\n",
      "*******************************************************************\n",
      "******        Transfer Mode = 0  I.E.  As Is       ******\u001b[0m\n",
      "\u001b[32;1m******        Transferring Shape, ShapeType = 0                      ******\u001b[0m\n",
      "\u001b[32;1m** WorkSession : Sending all data\u001b[0m\n",
      "\u001b[32;1m Step File Name : angle_mount/angle_mount_outer_122.step(31392 ents)  Write  Done\u001b[0m\n",
      "angle_mount/angle_mount_outer_124\n",
      "\u001b[32;1m\n",
      "*******************************************************************\n",
      "******        Statistics on Transfer (Write)                 ******\u001b[0m\n",
      "\u001b[32;1m\n",
      "*******************************************************************\n",
      "******        Transfer Mode = 0  I.E.  As Is       ******\u001b[0m\n",
      "\u001b[32;1m******        Transferring Shape, ShapeType = 0                      ******\u001b[0m\n",
      "\u001b[32;1m** WorkSession : Sending all data\u001b[0m\n",
      "\u001b[32;1m Step File Name : angle_mount/angle_mount_outer_124.step(29237 ents)  Write  Done\u001b[0m\n",
      "angle_mount/angle_mount_outer_126\n",
      "\u001b[32;1m\n",
      "*******************************************************************\n",
      "******        Statistics on Transfer (Write)                 ******\u001b[0m\n",
      "\u001b[32;1m\n",
      "*******************************************************************\n",
      "******        Transfer Mode = 0  I.E.  As Is       ******\u001b[0m\n",
      "\u001b[32;1m******        Transferring Shape, ShapeType = 0                      ******\u001b[0m\n",
      "\u001b[32;1m** WorkSession : Sending all data\u001b[0m\n",
      "\u001b[32;1m Step File Name : angle_mount/angle_mount_outer_126.step(29903 ents)  Write  Done\u001b[0m\n",
      "angle_mount/angle_mount_outer_128\n",
      "\u001b[32;1m\n",
      "*******************************************************************\n",
      "******        Statistics on Transfer (Write)                 ******\u001b[0m\n",
      "\u001b[32;1m\n",
      "*******************************************************************\n",
      "******        Transfer Mode = 0  I.E.  As Is       ******\u001b[0m\n",
      "\u001b[32;1m******        Transferring Shape, ShapeType = 0                      ******\u001b[0m\n",
      "\u001b[32;1m** WorkSession : Sending all data\u001b[0m\n",
      "\u001b[32;1m Step File Name : angle_mount/angle_mount_outer_128.step(30627 ents)  Write  Done\u001b[0m\n",
      "angle_mount/angle_mount_outer_130\n",
      "\u001b[32;1m\n",
      "*******************************************************************\n",
      "******        Statistics on Transfer (Write)                 ******\u001b[0m\n",
      "\u001b[32;1m\n",
      "*******************************************************************\n",
      "******        Transfer Mode = 0  I.E.  As Is       ******\u001b[0m\n",
      "\u001b[32;1m******        Transferring Shape, ShapeType = 0                      ******\u001b[0m\n",
      "\u001b[32;1m** WorkSession : Sending all data\u001b[0m\n",
      "\u001b[32;1m Step File Name : angle_mount/angle_mount_outer_130.step(28278 ents)  Write  Done\u001b[0m\n",
      "angle_mount/angle_mount_outer_132\n",
      "\u001b[32;1m\n",
      "*******************************************************************\n",
      "******        Statistics on Transfer (Write)                 ******\u001b[0m\n",
      "\u001b[32;1m\n",
      "*******************************************************************\n",
      "******        Transfer Mode = 0  I.E.  As Is       ******\u001b[0m\n",
      "\u001b[32;1m******        Transferring Shape, ShapeType = 0                      ******\u001b[0m\n",
      "\u001b[32;1m** WorkSession : Sending all data\u001b[0m\n",
      "\u001b[32;1m Step File Name : angle_mount/angle_mount_outer_132.step(31114 ents)  Write  Done\u001b[0m\n",
      "angle_mount/angle_mount_outer_134\n",
      "\u001b[32;1m\n",
      "*******************************************************************\n",
      "******        Statistics on Transfer (Write)                 ******\u001b[0m\n",
      "\u001b[32;1m\n",
      "*******************************************************************\n",
      "******        Transfer Mode = 0  I.E.  As Is       ******\u001b[0m\n",
      "\u001b[32;1m******        Transferring Shape, ShapeType = 0                      ******\u001b[0m\n",
      "\u001b[32;1m** WorkSession : Sending all data\u001b[0m\n",
      "\u001b[32;1m Step File Name : angle_mount/angle_mount_outer_134.step(28959 ents)  Write  Done\u001b[0m\n",
      "angle_mount/angle_mount_outer_136\n",
      "\u001b[32;1m\n",
      "*******************************************************************\n",
      "******        Statistics on Transfer (Write)                 ******\u001b[0m\n",
      "\u001b[32;1m\n",
      "*******************************************************************\n",
      "******        Transfer Mode = 0  I.E.  As Is       ******\u001b[0m\n",
      "\u001b[32;1m******        Transferring Shape, ShapeType = 0                      ******\u001b[0m\n",
      "\u001b[32;1m** WorkSession : Sending all data\u001b[0m\n",
      "\u001b[32;1m Step File Name : angle_mount/angle_mount_outer_136.step(29625 ents)  Write  Done\u001b[0m\n",
      "angle_mount/angle_mount_outer_138\n",
      "\u001b[32;1m\n",
      "*******************************************************************\n",
      "******        Statistics on Transfer (Write)                 ******\u001b[0m\n",
      "\u001b[32;1m\n",
      "*******************************************************************\n",
      "******        Transfer Mode = 0  I.E.  As Is       ******\u001b[0m\n",
      "\u001b[32;1m******        Transferring Shape, ShapeType = 0                      ******\u001b[0m\n",
      "\u001b[32;1m** WorkSession : Sending all data\u001b[0m\n",
      "\u001b[32;1m Step File Name : angle_mount/angle_mount_outer_138.step(30349 ents)  Write  Done\u001b[0m\n",
      "angle_mount/angle_mount_outer_140\n",
      "\u001b[32;1m\n",
      "*******************************************************************\n",
      "******        Statistics on Transfer (Write)                 ******\u001b[0m\n",
      "\u001b[32;1m\n",
      "*******************************************************************\n",
      "******        Transfer Mode = 0  I.E.  As Is       ******\u001b[0m\n",
      "\u001b[32;1m******        Transferring Shape, ShapeType = 0                      ******\u001b[0m\n",
      "angle_mount/angle_mount_outer_142\n",
      "\u001b[32;1m** WorkSession : Sending all data\u001b[0m\n",
      "\u001b[32;1m Step File Name : angle_mount/angle_mount_outer_140.step(26401 ents)  Write  Done\u001b[0m\n",
      "\u001b[32;1m\n",
      "*******************************************************************\n",
      "******        Statistics on Transfer (Write)                 ******\u001b[0m\n",
      "\u001b[32;1m\n",
      "*******************************************************************\n",
      "******        Transfer Mode = 0  I.E.  As Is       ******\u001b[0m\n",
      "\u001b[32;1m******        Transferring Shape, ShapeType = 0                      ******\u001b[0m\n",
      "\u001b[32;1m** WorkSession : Sending all data\u001b[0m\n",
      "\u001b[32;1m Step File Name : angle_mount/angle_mount_outer_142.step(29237 ents)  Write  Done\u001b[0m\n",
      "angle_mount/angle_mount_outer_144\n",
      "\u001b[32;1m\n",
      "*******************************************************************\n",
      "******        Statistics on Transfer (Write)                 ******\u001b[0m\n",
      "\u001b[32;1m\n",
      "*******************************************************************\n",
      "******        Transfer Mode = 0  I.E.  As Is       ******\u001b[0m\n",
      "\u001b[32;1m******        Transferring Shape, ShapeType = 0                      ******\u001b[0m\n",
      "\u001b[32;1m** WorkSession : Sending all data\u001b[0m\n",
      "\u001b[32;1m Step File Name : angle_mount/angle_mount_outer_144.step(27082 ents)  Write  Done\u001b[0m\n",
      "angle_mount/angle_mount_outer_146\n",
      "\u001b[32;1m\n",
      "*******************************************************************\n",
      "******        Statistics on Transfer (Write)                 ******\u001b[0m\n",
      "\u001b[32;1m\n",
      "*******************************************************************\n",
      "******        Transfer Mode = 0  I.E.  As Is       ******\u001b[0m\n",
      "\u001b[32;1m******        Transferring Shape, ShapeType = 0                      ******\u001b[0m\n",
      "\u001b[32;1m** WorkSession : Sending all data\u001b[0m\n",
      "\u001b[32;1m Step File Name : angle_mount/angle_mount_outer_146.step(27748 ents)  Write  Done\u001b[0m\n",
      "angle_mount/angle_mount_outer_148\n",
      "\u001b[32;1m\n",
      "*******************************************************************\n",
      "******        Statistics on Transfer (Write)                 ******\u001b[0m\n",
      "angle_mount/angle_mount_outer_150\n",
      "\u001b[32;1m\n",
      "*******************************************************************\n",
      "******        Transfer Mode = 0  I.E.  As Is       ******\u001b[0m\n",
      "\u001b[32;1m******        Transferring Shape, ShapeType = 0                      ******\u001b[0m\n",
      "\u001b[32;1m** WorkSession : Sending all data\u001b[0m\n",
      "\u001b[32;1m Step File Name : angle_mount/angle_mount_outer_148.step(28472 ents)  Write  Done\u001b[0m\n",
      "\u001b[32;1m\n",
      "*******************************************************************\n",
      "******        Statistics on Transfer (Write)                 ******\u001b[0m\n",
      "\u001b[32;1m\n",
      "*******************************************************************\n",
      "******        Transfer Mode = 0  I.E.  As Is       ******\u001b[0m\n",
      "\u001b[32;1m******        Transferring Shape, ShapeType = 0                      ******\u001b[0m\n",
      "\u001b[32;1m** WorkSession : Sending all data\u001b[0m\n",
      "\u001b[32;1m Step File Name : angle_mount/angle_mount_outer_150.step(27797 ents)  Write  Done\u001b[0m\n",
      "angle_mount/angle_mount_outer_152\n",
      "\u001b[32;1m\n",
      "*******************************************************************\n",
      "******        Statistics on Transfer (Write)                 ******\u001b[0m\n",
      "\u001b[32;1m\n",
      "*******************************************************************\n",
      "******        Transfer Mode = 0  I.E.  As Is       ******\u001b[0m\n",
      "\u001b[32;1m******        Transferring Shape, ShapeType = 0                      ******\u001b[0m\n",
      "\u001b[32;1m** WorkSession : Sending all data\u001b[0m\n",
      "\u001b[32;1m Step File Name : angle_mount/angle_mount_outer_152.step(30633 ents)  Write  Done\u001b[0m\n",
      "angle_mount/angle_mount_outer_154\n",
      "\u001b[32;1m\n",
      "*******************************************************************\n",
      "******        Statistics on Transfer (Write)                 ******\u001b[0m\n",
      "\u001b[32;1m\n",
      "*******************************************************************\n",
      "******        Transfer Mode = 0  I.E.  As Is       ******\u001b[0m\n",
      "\u001b[32;1m******        Transferring Shape, ShapeType = 0                      ******\u001b[0m\n",
      "\u001b[32;1m** WorkSession : Sending all data\u001b[0m\n",
      "\u001b[32;1m Step File Name : angle_mount/angle_mount_outer_154.step(28478 ents)  Write  Done\u001b[0m\n",
      "angle_mount/angle_mount_outer_156\n",
      "\u001b[32;1m\n",
      "*******************************************************************\n",
      "******        Statistics on Transfer (Write)                 ******\u001b[0m\n",
      "\u001b[32;1m\n",
      "*******************************************************************\n",
      "******        Transfer Mode = 0  I.E.  As Is       ******\u001b[0m\n",
      "\u001b[32;1m******        Transferring Shape, ShapeType = 0                      ******\u001b[0m\n",
      "\u001b[32;1m** WorkSession : Sending all data\u001b[0m\n",
      "\u001b[32;1m Step File Name : angle_mount/angle_mount_outer_156.step(29144 ents)  Write  Done\u001b[0m\n",
      "angle_mount/angle_mount_outer_158\n",
      "\u001b[32;1m\n",
      "*******************************************************************\n",
      "******        Statistics on Transfer (Write)                 ******\u001b[0m\n",
      "\u001b[32;1m\n",
      "*******************************************************************\n",
      "******        Transfer Mode = 0  I.E.  As Is       ******\u001b[0m\n",
      "\u001b[32;1m******        Transferring Shape, ShapeType = 0                      ******\u001b[0m\n",
      "\u001b[32;1m** WorkSession : Sending all data\u001b[0m\n",
      "\u001b[32;1m Step File Name : angle_mount/angle_mount_outer_158.step(29868 ents)  Write  Done\u001b[0m\n",
      "angle_mount/angle_mount_outer_160\n",
      "\u001b[32;1m\n",
      "*******************************************************************\n",
      "******        Statistics on Transfer (Write)                 ******\u001b[0m\n",
      "\u001b[32;1m\n",
      "*******************************************************************\n",
      "******        Transfer Mode = 0  I.E.  As Is       ******\u001b[0m\n",
      "\u001b[32;1m******        Transferring Shape, ShapeType = 0                      ******\u001b[0m\n",
      "\u001b[32;1m** WorkSession : Sending all data\u001b[0m\n",
      "\u001b[32;1m Step File Name : angle_mount/angle_mount_outer_160.step(27067 ents)  Write  Done\u001b[0m\n",
      "angle_mount/angle_mount_outer_162\n",
      "\u001b[32;1m\n",
      "*******************************************************************\n",
      "******        Statistics on Transfer (Write)                 ******\u001b[0m\n",
      "\u001b[32;1m\n",
      "*******************************************************************\n",
      "******        Transfer Mode = 0  I.E.  As Is       ******\u001b[0m\n",
      "\u001b[32;1m******        Transferring Shape, ShapeType = 0                      ******\u001b[0m\n",
      "\u001b[32;1m** WorkSession : Sending all data\u001b[0m\n",
      "\u001b[32;1m Step File Name : angle_mount/angle_mount_outer_162.step(29903 ents)  Write  Done\u001b[0m\n",
      "angle_mount/angle_mount_outer_164\n",
      "\u001b[32;1m\n",
      "*******************************************************************\n",
      "******        Statistics on Transfer (Write)                 ******\u001b[0m\n",
      "\u001b[32;1m\n",
      "*******************************************************************\n",
      "******        Transfer Mode = 0  I.E.  As Is       ******\u001b[0m\n",
      "\u001b[32;1m******        Transferring Shape, ShapeType = 0                      ******\u001b[0m\n",
      "\u001b[32;1m** WorkSession : Sending all data\u001b[0m\n",
      "\u001b[32;1m Step File Name : angle_mount/angle_mount_outer_164.step(27748 ents)  Write  Done\u001b[0m\n",
      "angle_mount/angle_mount_outer_166\n",
      "\u001b[32;1m\n",
      "*******************************************************************\n",
      "******        Statistics on Transfer (Write)                 ******\u001b[0m\n",
      "\u001b[32;1m\n",
      "*******************************************************************\n",
      "******        Transfer Mode = 0  I.E.  As Is       ******\u001b[0m\n",
      "\u001b[32;1m******        Transferring Shape, ShapeType = 0                      ******\u001b[0m\n",
      "\u001b[32;1m** WorkSession : Sending all data\u001b[0m\n",
      "\u001b[32;1m Step File Name : angle_mount/angle_mount_outer_166.step(28414 ents)  Write  Done\u001b[0m\n",
      "angle_mount/angle_mount_outer_168\n",
      "\u001b[32;1m\n",
      "*******************************************************************\n",
      "******        Statistics on Transfer (Write)                 ******\u001b[0m\n",
      "\u001b[32;1m\n",
      "*******************************************************************\n",
      "******        Transfer Mode = 0  I.E.  As Is       ******\u001b[0m\n",
      "\u001b[32;1m******        Transferring Shape, ShapeType = 0                      ******\u001b[0m\n",
      "\u001b[32;1m** WorkSession : Sending all data\u001b[0m\n",
      "\u001b[32;1m Step File Name : angle_mount/angle_mount_outer_168.step(29138 ents)  Write  Done\u001b[0m\n",
      "angle_mount/angle_mount_outer_170\n",
      "\u001b[32;1m\n",
      "*******************************************************************\n",
      "******        Statistics on Transfer (Write)                 ******\u001b[0m\n",
      "\u001b[32;1m\n",
      "*******************************************************************\n",
      "******        Transfer Mode = 0  I.E.  As Is       ******\u001b[0m\n",
      "\u001b[32;1m******        Transferring Shape, ShapeType = 0                      ******\u001b[0m\n",
      "\u001b[32;1m** WorkSession : Sending all data\u001b[0m\n",
      "\u001b[32;1m Step File Name : angle_mount/angle_mount_outer_170.step(27389 ents)  Write  Done\u001b[0m\n",
      "angle_mount/angle_mount_outer_172\n",
      "\u001b[32;1m\n",
      "*******************************************************************\n",
      "******        Statistics on Transfer (Write)                 ******\u001b[0m\n",
      "\u001b[32;1m\n",
      "*******************************************************************\n",
      "******        Transfer Mode = 0  I.E.  As Is       ******\u001b[0m\n",
      "\u001b[32;1m******        Transferring Shape, ShapeType = 0                      ******\u001b[0m\n",
      "\u001b[32;1m** WorkSession : Sending all data\u001b[0m\n",
      "\u001b[32;1m Step File Name : angle_mount/angle_mount_outer_172.step(30225 ents)  Write  Done\u001b[0m\n",
      "angle_mount/angle_mount_outer_174\n",
      "\u001b[32;1m\n",
      "*******************************************************************\n",
      "******        Statistics on Transfer (Write)                 ******\u001b[0m\n",
      "\u001b[32;1m\n",
      "*******************************************************************\n",
      "******        Transfer Mode = 0  I.E.  As Is       ******\u001b[0m\n",
      "\u001b[32;1m******        Transferring Shape, ShapeType = 0                      ******\u001b[0m\n",
      "\u001b[32;1m** WorkSession : Sending all data\u001b[0m\n",
      "\u001b[32;1m Step File Name : angle_mount/angle_mount_outer_174.step(28070 ents)  Write  Done\u001b[0m\n",
      "angle_mount/angle_mount_outer_176\n",
      "\u001b[32;1m\n",
      "*******************************************************************\n",
      "******        Statistics on Transfer (Write)                 ******\u001b[0m\n",
      "\u001b[32;1m\n",
      "*******************************************************************\n",
      "******        Transfer Mode = 0  I.E.  As Is       ******\u001b[0m\n",
      "\u001b[32;1m******        Transferring Shape, ShapeType = 0                      ******\u001b[0m\n",
      "\u001b[32;1m** WorkSession : Sending all data\u001b[0m\n",
      "\u001b[32;1m Step File Name : angle_mount/angle_mount_outer_176.step(28736 ents)  Write  Done\u001b[0m\n",
      "angle_mount/angle_mount_inner_078\n",
      "\u001b[32;1m\n",
      "*******************************************************************\n",
      "******        Statistics on Transfer (Write)                 ******\u001b[0m\n",
      "\u001b[32;1m\n",
      "*******************************************************************\n",
      "******        Transfer Mode = 0  I.E.  As Is       ******\u001b[0m\n",
      "\u001b[32;1m******        Transferring Shape, ShapeType = 0                      ******\u001b[0m\n",
      "\u001b[32;1m** WorkSession : Sending all data\u001b[0m\n",
      "\u001b[32;1m Step File Name : angle_mount/angle_mount_inner_078.step(27948 ents)  Write  Done\u001b[0m\n",
      "angle_mount/angle_mount_inner_080\n",
      "\u001b[32;1m\n",
      "*******************************************************************\n",
      "******        Statistics on Transfer (Write)                 ******\u001b[0m\n",
      "\u001b[32;1m\n",
      "*******************************************************************\n",
      "******        Transfer Mode = 0  I.E.  As Is       ******\u001b[0m\n",
      "\u001b[32;1m******        Transferring Shape, ShapeType = 0                      ******\u001b[0m\n",
      "\u001b[32;1m** WorkSession : Sending all data\u001b[0m\n",
      "\u001b[32;1m Step File Name : angle_mount/angle_mount_inner_080.step(26279 ents)  Write  Done\u001b[0m\n",
      "angle_mount/angle_mount_inner_082\n",
      "\u001b[32;1m\n",
      "*******************************************************************\n",
      "******        Statistics on Transfer (Write)                 ******\u001b[0m\n",
      "\u001b[32;1m\n",
      "*******************************************************************\n",
      "******        Transfer Mode = 0  I.E.  As Is       ******\u001b[0m\n",
      "\u001b[32;1m******        Transferring Shape, ShapeType = 0                      ******\u001b[0m\n",
      "\u001b[32;1m** WorkSession : Sending all data\u001b[0m\n",
      "\u001b[32;1m Step File Name : angle_mount/angle_mount_inner_082.step(29115 ents)  Write  Done\u001b[0m\n",
      "angle_mount/angle_mount_inner_084\n",
      "\u001b[32;1m\n",
      "*******************************************************************\n",
      "******        Statistics on Transfer (Write)                 ******\u001b[0m\n",
      "\u001b[32;1m\n",
      "*******************************************************************\n",
      "******        Transfer Mode = 0  I.E.  As Is       ******\u001b[0m\n",
      "\u001b[32;1m******        Transferring Shape, ShapeType = 0                      ******\u001b[0m\n",
      "\u001b[32;1m** WorkSession : Sending all data\u001b[0m\n",
      "\u001b[32;1m Step File Name : angle_mount/angle_mount_inner_084.step(26960 ents)  Write  Done\u001b[0m\n",
      "angle_mount/angle_mount_inner_086\n",
      "\u001b[32;1m\n",
      "*******************************************************************\n",
      "******        Statistics on Transfer (Write)                 ******\u001b[0m\n",
      "\u001b[32;1m\n",
      "*******************************************************************\n",
      "******        Transfer Mode = 0  I.E.  As Is       ******\u001b[0m\n",
      "\u001b[32;1m******        Transferring Shape, ShapeType = 0                      ******\u001b[0m\n",
      "\u001b[32;1m** WorkSession : Sending all data\u001b[0m\n",
      "\u001b[32;1m Step File Name : angle_mount/angle_mount_inner_086.step(27626 ents)  Write  Done\u001b[0m\n",
      "angle_mount/angle_mount_inner_088\n",
      "\u001b[32;1m\n",
      "*******************************************************************\n",
      "******        Statistics on Transfer (Write)                 ******\u001b[0m\n",
      "\u001b[32;1m\n",
      "*******************************************************************\n",
      "******        Transfer Mode = 0  I.E.  As Is       ******\u001b[0m\n",
      "\u001b[32;1m******        Transferring Shape, ShapeType = 0                      ******\u001b[0m\n",
      "\u001b[32;1m** WorkSession : Sending all data\u001b[0m\n",
      "\u001b[32;1m Step File Name : angle_mount/angle_mount_inner_088.step(28350 ents)  Write  Done\u001b[0m\n",
      "angle_mount/angle_mount_inner_090\n",
      "\u001b[32;1m\n",
      "*******************************************************************\n",
      "******        Statistics on Transfer (Write)                 ******\u001b[0m\n",
      "\u001b[32;1m\n",
      "*******************************************************************\n",
      "******        Transfer Mode = 0  I.E.  As Is       ******\u001b[0m\n",
      "\u001b[32;1m******        Transferring Shape, ShapeType = 0                      ******\u001b[0m\n",
      "\u001b[32;1m** WorkSession : Sending all data\u001b[0m\n",
      "\u001b[32;1m Step File Name : angle_mount/angle_mount_inner_090.step(25445 ents)  Write  Done\u001b[0m\n",
      "angle_mount/angle_mount_inner_092\n",
      "\u001b[32;1m\n",
      "*******************************************************************\n",
      "******        Statistics on Transfer (Write)                 ******\u001b[0m\n",
      "\u001b[32;1m\n",
      "*******************************************************************\n",
      "******        Transfer Mode = 0  I.E.  As Is       ******\u001b[0m\n",
      "\u001b[32;1m******        Transferring Shape, ShapeType = 0                      ******\u001b[0m\n",
      "\u001b[32;1m** WorkSession : Sending all data\u001b[0m\n",
      "\u001b[32;1m Step File Name : angle_mount/angle_mount_inner_092.step(28281 ents)  Write  Done\u001b[0m\n",
      "angle_mount/angle_mount_inner_094\n",
      "\u001b[32;1m\n",
      "*******************************************************************\n",
      "******        Statistics on Transfer (Write)                 ******\u001b[0m\n",
      "\u001b[32;1m\n",
      "*******************************************************************\n",
      "******        Transfer Mode = 0  I.E.  As Is       ******\u001b[0m\n",
      "\u001b[32;1m******        Transferring Shape, ShapeType = 0                      ******\u001b[0m\n",
      "\u001b[32;1m** WorkSession : Sending all data\u001b[0m\n",
      "\u001b[32;1m Step File Name : angle_mount/angle_mount_inner_094.step(26126 ents)  Write  Done\u001b[0m\n",
      "angle_mount/angle_mount_inner_096\n",
      "\u001b[32;1m\n",
      "*******************************************************************\n",
      "******        Statistics on Transfer (Write)                 ******\u001b[0m\n",
      "\u001b[32;1m\n",
      "*******************************************************************\n",
      "******        Transfer Mode = 0  I.E.  As Is       ******\u001b[0m\n",
      "\u001b[32;1m******        Transferring Shape, ShapeType = 0                      ******\u001b[0m\n",
      "\u001b[32;1m** WorkSession : Sending all data\u001b[0m\n",
      "\u001b[32;1m Step File Name : angle_mount/angle_mount_inner_096.step(26792 ents)  Write  Done\u001b[0m\n",
      "angle_mount/angle_mount_inner_098\n",
      "\u001b[32;1m\n",
      "*******************************************************************\n",
      "******        Statistics on Transfer (Write)                 ******\u001b[0m\n",
      "\u001b[32;1m\n",
      "*******************************************************************\n",
      "******        Transfer Mode = 0  I.E.  As Is       ******\u001b[0m\n",
      "\u001b[32;1m******        Transferring Shape, ShapeType = 0                      ******\u001b[0m\n",
      "\u001b[32;1m** WorkSession : Sending all data\u001b[0m\n",
      "\u001b[32;1m Step File Name : angle_mount/angle_mount_inner_098.step(27516 ents)  Write  Done\u001b[0m\n",
      "angle_mount/angle_mount_inner_100\n",
      "\u001b[32;1m\n",
      "*******************************************************************\n",
      "******        Statistics on Transfer (Write)                 ******\u001b[0m\n",
      "\u001b[32;1m\n",
      "*******************************************************************\n",
      "******        Transfer Mode = 0  I.E.  As Is       ******\u001b[0m\n",
      "\u001b[32;1m******        Transferring Shape, ShapeType = 0                      ******\u001b[0m\n",
      "\u001b[32;1m** WorkSession : Sending all data\u001b[0m\n",
      "\u001b[32;1m Step File Name : angle_mount/angle_mount_inner_100.step(25720 ents)  Write  Done\u001b[0m\n",
      "angle_mount/angle_mount_inner_102\n",
      "\u001b[32;1m\n",
      "*******************************************************************\n",
      "******        Statistics on Transfer (Write)                 ******\u001b[0m\n",
      "\u001b[32;1m\n",
      "*******************************************************************\n",
      "******        Transfer Mode = 0  I.E.  As Is       ******\u001b[0m\n",
      "\u001b[32;1m******        Transferring Shape, ShapeType = 0                      ******\u001b[0m\n",
      "\u001b[32;1m** WorkSession : Sending all data\u001b[0m\n",
      "\u001b[32;1m Step File Name : angle_mount/angle_mount_inner_102.step(28556 ents)  Write  Done\u001b[0m\n",
      "angle_mount/angle_mount_inner_104\n",
      "\u001b[32;1m\n",
      "*******************************************************************\n",
      "******        Statistics on Transfer (Write)                 ******\u001b[0m\n",
      "\u001b[32;1m\n",
      "*******************************************************************\n",
      "******        Transfer Mode = 0  I.E.  As Is       ******\u001b[0m\n",
      "\u001b[32;1m******        Transferring Shape, ShapeType = 0                      ******\u001b[0m\n",
      "\u001b[32;1m** WorkSession : Sending all data\u001b[0m\n",
      "\u001b[32;1m Step File Name : angle_mount/angle_mount_inner_104.step(26401 ents)  Write  Done\u001b[0m\n",
      "angle_mount/angle_mount_inner_106\n",
      "\u001b[32;1m\n",
      "*******************************************************************\n",
      "******        Statistics on Transfer (Write)                 ******\u001b[0m\n",
      "\u001b[32;1m\n",
      "*******************************************************************\n",
      "******        Transfer Mode = 0  I.E.  As Is       ******\u001b[0m\n",
      "\u001b[32;1m******        Transferring Shape, ShapeType = 0                      ******\u001b[0m\n",
      "\u001b[32;1m** WorkSession : Sending all data\u001b[0m\n",
      "\u001b[32;1m Step File Name : angle_mount/angle_mount_inner_106.step(27067 ents)  Write  Done\u001b[0m\n",
      "angle_mount/angle_mount_inner_108\n",
      "\u001b[32;1m\n",
      "*******************************************************************\n",
      "******        Statistics on Transfer (Write)                 ******\u001b[0m\n",
      "\u001b[32;1m\n",
      "*******************************************************************\n",
      "******        Transfer Mode = 0  I.E.  As Is       ******\u001b[0m\n",
      "\u001b[32;1m******        Transferring Shape, ShapeType = 0                      ******\u001b[0m\n",
      "\u001b[32;1m** WorkSession : Sending all data\u001b[0m\n",
      "\u001b[32;1m Step File Name : angle_mount/angle_mount_inner_108.step(27791 ents)  Write  Done\u001b[0m\n",
      "angle_mount/angle_mount_inner_110\n",
      "\u001b[32;1m\n",
      "*******************************************************************\n",
      "******        Statistics on Transfer (Write)                 ******\u001b[0m\n",
      "\u001b[32;1m\n",
      "*******************************************************************\n",
      "******        Transfer Mode = 0  I.E.  As Is       ******\u001b[0m\n",
      "\u001b[32;1m******        Transferring Shape, ShapeType = 0                      ******\u001b[0m\n",
      "\u001b[32;1m** WorkSession : Sending all data\u001b[0m\n",
      "\u001b[32;1m Step File Name : angle_mount/angle_mount_inner_110.step(25136 ents)  Write  Done\u001b[0m\n",
      "angle_mount/angle_mount_inner_112\n",
      "\u001b[32;1m\n",
      "*******************************************************************\n",
      "******        Statistics on Transfer (Write)                 ******\u001b[0m\n",
      "\u001b[32;1m\n",
      "*******************************************************************\n",
      "******        Transfer Mode = 0  I.E.  As Is       ******\u001b[0m\n",
      "\u001b[32;1m******        Transferring Shape, ShapeType = 0                      ******\u001b[0m\n",
      "\u001b[32;1m** WorkSession : Sending all data\u001b[0m\n",
      "\u001b[32;1m Step File Name : angle_mount/angle_mount_inner_112.step(27972 ents)  Write  Done\u001b[0m\n",
      "angle_mount/angle_mount_inner_114\n",
      "\u001b[32;1m\n",
      "*******************************************************************\n",
      "******        Statistics on Transfer (Write)                 ******\u001b[0m\n",
      "\u001b[32;1m\n",
      "*******************************************************************\n",
      "******        Transfer Mode = 0  I.E.  As Is       ******\u001b[0m\n",
      "\u001b[32;1m******        Transferring Shape, ShapeType = 0                      ******\u001b[0m\n",
      "\u001b[32;1m** WorkSession : Sending all data\u001b[0m\n",
      "\u001b[32;1m Step File Name : angle_mount/angle_mount_inner_114.step(25817 ents)  Write  Done\u001b[0m\n",
      "angle_mount/angle_mount_inner_116\n",
      "\u001b[32;1m\n",
      "*******************************************************************\n",
      "******        Statistics on Transfer (Write)                 ******\u001b[0m\n",
      "\u001b[32;1m\n",
      "*******************************************************************\n",
      "******        Transfer Mode = 0  I.E.  As Is       ******\u001b[0m\n",
      "\u001b[32;1m******        Transferring Shape, ShapeType = 0                      ******\u001b[0m\n",
      "\u001b[32;1m** WorkSession : Sending all data\u001b[0m\n",
      "\u001b[32;1m Step File Name : angle_mount/angle_mount_inner_116.step(26483 ents)  Write  Done\u001b[0m\n",
      "angle_mount/angle_mount_inner_118\n",
      "\u001b[32;1m\n",
      "*******************************************************************\n",
      "******        Statistics on Transfer (Write)                 ******\u001b[0m\n",
      "\u001b[32;1m\n",
      "*******************************************************************\n",
      "******        Transfer Mode = 0  I.E.  As Is       ******\u001b[0m\n",
      "\u001b[32;1m******        Transferring Shape, ShapeType = 0                      ******\u001b[0m\n",
      "\u001b[32;1m** WorkSession : Sending all data\u001b[0m\n",
      "\u001b[32;1m Step File Name : angle_mount/angle_mount_inner_118.step(27207 ents)  Write  Done\u001b[0m\n",
      "angle_mount/angle_mount_inner_120\n",
      "\u001b[32;1m\n",
      "*******************************************************************\n",
      "******        Statistics on Transfer (Write)                 ******\u001b[0m\n",
      "\u001b[32;1m\n",
      "*******************************************************************\n",
      "******        Transfer Mode = 0  I.E.  As Is       ******\u001b[0m\n",
      "\u001b[32;1m******        Transferring Shape, ShapeType = 0                      ******\u001b[0m\n",
      "\u001b[32;1m** WorkSession : Sending all data\u001b[0m\n",
      "\u001b[32;1m Step File Name : angle_mount/angle_mount_inner_120.step(28556 ents)  Write  Done\u001b[0m\n",
      "angle_mount/angle_mount_inner_122\n",
      "\u001b[32;1m\n",
      "*******************************************************************\n",
      "******        Statistics on Transfer (Write)                 ******\u001b[0m\n",
      "\u001b[32;1m\n",
      "*******************************************************************\n",
      "******        Transfer Mode = 0  I.E.  As Is       ******\u001b[0m\n",
      "\u001b[32;1m******        Transferring Shape, ShapeType = 0                      ******\u001b[0m\n",
      "\u001b[32;1m** WorkSession : Sending all data\u001b[0m\n",
      "\u001b[32;1m Step File Name : angle_mount/angle_mount_inner_122.step(31392 ents)  Write  Done\u001b[0m\n",
      "angle_mount/angle_mount_inner_124\n",
      "\u001b[32;1m\n",
      "*******************************************************************\n",
      "******        Statistics on Transfer (Write)                 ******\u001b[0m\n",
      "\u001b[32;1m\n",
      "*******************************************************************\n",
      "******        Transfer Mode = 0  I.E.  As Is       ******\u001b[0m\n",
      "\u001b[32;1m******        Transferring Shape, ShapeType = 0                      ******\u001b[0m\n",
      "\u001b[32;1m** WorkSession : Sending all data\u001b[0m\n",
      "\u001b[32;1m Step File Name : angle_mount/angle_mount_inner_124.step(29237 ents)  Write  Done\u001b[0m\n",
      "angle_mount/angle_mount_inner_126\n",
      "\u001b[32;1m\n",
      "*******************************************************************\n",
      "******        Statistics on Transfer (Write)                 ******\u001b[0m\n",
      "\u001b[32;1m\n",
      "*******************************************************************\n",
      "******        Transfer Mode = 0  I.E.  As Is       ******\u001b[0m\n",
      "\u001b[32;1m******        Transferring Shape, ShapeType = 0                      ******\u001b[0m\n",
      "\u001b[32;1m** WorkSession : Sending all data\u001b[0m\n",
      "\u001b[32;1m Step File Name : angle_mount/angle_mount_inner_126.step(29903 ents)  Write  Done\u001b[0m\n",
      "angle_mount/angle_mount_inner_128\n",
      "\u001b[32;1m\n",
      "*******************************************************************\n",
      "******        Statistics on Transfer (Write)                 ******\u001b[0m\n",
      "\u001b[32;1m\n",
      "*******************************************************************\n",
      "******        Transfer Mode = 0  I.E.  As Is       ******\u001b[0m\n",
      "\u001b[32;1m******        Transferring Shape, ShapeType = 0                      ******\u001b[0m\n",
      "\u001b[32;1m** WorkSession : Sending all data\u001b[0m\n",
      "\u001b[32;1m Step File Name : angle_mount/angle_mount_inner_128.step(30627 ents)  Write  Done\u001b[0m\n",
      "angle_mount/angle_mount_inner_130\n",
      "\u001b[32;1m\n",
      "*******************************************************************\n",
      "******        Statistics on Transfer (Write)                 ******\u001b[0m\n",
      "\u001b[32;1m\n",
      "*******************************************************************\n",
      "******        Transfer Mode = 0  I.E.  As Is       ******\u001b[0m\n",
      "\u001b[32;1m******        Transferring Shape, ShapeType = 0                      ******\u001b[0m\n",
      "\u001b[32;1m** WorkSession : Sending all data\u001b[0m\n",
      "\u001b[32;1m Step File Name : angle_mount/angle_mount_inner_130.step(28278 ents)  Write  Done\u001b[0m\n",
      "angle_mount/angle_mount_inner_132\n",
      "\u001b[32;1m\n",
      "*******************************************************************\n",
      "******        Statistics on Transfer (Write)                 ******\u001b[0m\n",
      "\u001b[32;1m\n",
      "*******************************************************************\n",
      "******        Transfer Mode = 0  I.E.  As Is       ******\u001b[0m\n",
      "\u001b[32;1m******        Transferring Shape, ShapeType = 0                      ******\u001b[0m\n",
      "\u001b[32;1m** WorkSession : Sending all data\u001b[0m\n",
      "\u001b[32;1m Step File Name : angle_mount/angle_mount_inner_132.step(31114 ents)  Write  Done\u001b[0m\n",
      "angle_mount/angle_mount_inner_134\n",
      "\u001b[32;1m\n",
      "*******************************************************************\n",
      "******        Statistics on Transfer (Write)                 ******\u001b[0m\n",
      "\u001b[32;1m\n",
      "*******************************************************************\n",
      "******        Transfer Mode = 0  I.E.  As Is       ******\u001b[0m\n",
      "\u001b[32;1m******        Transferring Shape, ShapeType = 0                      ******\u001b[0m\n",
      "\u001b[32;1m** WorkSession : Sending all data\u001b[0m\n",
      "\u001b[32;1m Step File Name : angle_mount/angle_mount_inner_134.step(28959 ents)  Write  Done\u001b[0m\n",
      "angle_mount/angle_mount_inner_136\n",
      "\u001b[32;1m\n",
      "*******************************************************************\n",
      "******        Statistics on Transfer (Write)                 ******\u001b[0m\n",
      "\u001b[32;1m\n",
      "*******************************************************************\n",
      "******        Transfer Mode = 0  I.E.  As Is       ******\u001b[0m\n",
      "\u001b[32;1m******        Transferring Shape, ShapeType = 0                      ******\u001b[0m\n",
      "\u001b[32;1m** WorkSession : Sending all data\u001b[0m\n",
      "\u001b[32;1m Step File Name : angle_mount/angle_mount_inner_136.step(29625 ents)  Write  Done\u001b[0m\n",
      "angle_mount/angle_mount_inner_138\n",
      "\u001b[32;1m\n",
      "*******************************************************************\n",
      "******        Statistics on Transfer (Write)                 ******\u001b[0m\n",
      "\u001b[32;1m\n",
      "*******************************************************************\n",
      "******        Transfer Mode = 0  I.E.  As Is       ******\u001b[0m\n",
      "\u001b[32;1m******        Transferring Shape, ShapeType = 0                      ******\u001b[0m\n",
      "\u001b[32;1m** WorkSession : Sending all data\u001b[0m\n",
      "\u001b[32;1m Step File Name : angle_mount/angle_mount_inner_138.step(30349 ents)  Write  Done\u001b[0m\n",
      "angle_mount/angle_mount_inner_140\n",
      "\u001b[32;1m\n",
      "*******************************************************************\n",
      "******        Statistics on Transfer (Write)                 ******\u001b[0m\n",
      "\u001b[32;1m\n",
      "*******************************************************************\n",
      "******        Transfer Mode = 0  I.E.  As Is       ******\u001b[0m\n",
      "\u001b[32;1m******        Transferring Shape, ShapeType = 0                      ******\u001b[0m\n",
      "\u001b[32;1m** WorkSession : Sending all data\u001b[0m\n",
      "\u001b[32;1m Step File Name : angle_mount/angle_mount_inner_140.step(26401 ents)  Write  Done\u001b[0m\n",
      "angle_mount/angle_mount_inner_142\n",
      "\u001b[32;1m\n",
      "*******************************************************************\n",
      "******        Statistics on Transfer (Write)                 ******\u001b[0m\n",
      "\u001b[32;1m\n",
      "*******************************************************************\n",
      "******        Transfer Mode = 0  I.E.  As Is       ******\u001b[0m\n",
      "\u001b[32;1m******        Transferring Shape, ShapeType = 0                      ******\u001b[0m\n",
      "\u001b[32;1m** WorkSession : Sending all data\u001b[0m\n",
      "\u001b[32;1m Step File Name : angle_mount/angle_mount_inner_142.step(29237 ents)  Write  Done\u001b[0m\n",
      "angle_mount/angle_mount_inner_144\n",
      "\u001b[32;1m\n",
      "*******************************************************************\n",
      "******        Statistics on Transfer (Write)                 ******\u001b[0m\n",
      "\u001b[32;1m\n",
      "*******************************************************************\n",
      "******        Transfer Mode = 0  I.E.  As Is       ******\u001b[0m\n",
      "\u001b[32;1m******        Transferring Shape, ShapeType = 0                      ******\u001b[0m\n",
      "\u001b[32;1m** WorkSession : Sending all data\u001b[0m\n",
      "\u001b[32;1m Step File Name : angle_mount/angle_mount_inner_144.step(27082 ents)  Write  Done\u001b[0m\n",
      "angle_mount/angle_mount_inner_146\n",
      "\u001b[32;1m\n",
      "*******************************************************************\n",
      "******        Statistics on Transfer (Write)                 ******\u001b[0m\n",
      "\u001b[32;1m\n",
      "*******************************************************************\n",
      "******        Transfer Mode = 0  I.E.  As Is       ******\u001b[0m\n",
      "\u001b[32;1m******        Transferring Shape, ShapeType = 0                      ******\u001b[0m\n",
      "\u001b[32;1m** WorkSession : Sending all data\u001b[0m\n",
      "\u001b[32;1m Step File Name : angle_mount/angle_mount_inner_146.step(27748 ents)  Write  Done\u001b[0m\n",
      "angle_mount/angle_mount_inner_148\n",
      "\u001b[32;1m\n",
      "*******************************************************************\n",
      "******        Statistics on Transfer (Write)                 ******\u001b[0m\n",
      "\u001b[32;1m\n",
      "*******************************************************************\n",
      "******        Transfer Mode = 0  I.E.  As Is       ******\u001b[0m\n",
      "\u001b[32;1m******        Transferring Shape, ShapeType = 0                      ******\u001b[0m\n",
      "\u001b[32;1m** WorkSession : Sending all data\u001b[0m\n",
      "\u001b[32;1m Step File Name : angle_mount/angle_mount_inner_148.step(28472 ents)  Write  Done\u001b[0m\n",
      "angle_mount/angle_mount_inner_150\n",
      "\u001b[32;1m\n",
      "*******************************************************************\n",
      "******        Statistics on Transfer (Write)                 ******\u001b[0m\n",
      "\u001b[32;1m\n",
      "*******************************************************************\n",
      "******        Transfer Mode = 0  I.E.  As Is       ******\u001b[0m\n",
      "\u001b[32;1m******        Transferring Shape, ShapeType = 0                      ******\u001b[0m\n",
      "\u001b[32;1m** WorkSession : Sending all data\u001b[0m\n",
      "\u001b[32;1m Step File Name : angle_mount/angle_mount_inner_150.step(27797 ents)  Write  Done\u001b[0m\n",
      "angle_mount/angle_mount_inner_152\n",
      "\u001b[32;1m\n",
      "*******************************************************************\n",
      "******        Statistics on Transfer (Write)                 ******\u001b[0m\n",
      "\u001b[32;1m\n",
      "*******************************************************************\n",
      "******        Transfer Mode = 0  I.E.  As Is       ******\u001b[0m\n",
      "\u001b[32;1m******        Transferring Shape, ShapeType = 0                      ******\u001b[0m\n",
      "\u001b[32;1m** WorkSession : Sending all data\u001b[0m\n",
      "\u001b[32;1m Step File Name : angle_mount/angle_mount_inner_152.step(30633 ents)  Write  Done\u001b[0m\n",
      "angle_mount/angle_mount_inner_154\n",
      "\u001b[32;1m\n",
      "*******************************************************************\n",
      "******        Statistics on Transfer (Write)                 ******\u001b[0m\n",
      "\u001b[32;1m\n",
      "*******************************************************************\n",
      "******        Transfer Mode = 0  I.E.  As Is       ******\u001b[0m\n",
      "\u001b[32;1m******        Transferring Shape, ShapeType = 0                      ******\u001b[0m\n",
      "\u001b[32;1m** WorkSession : Sending all data\u001b[0m\n",
      "\u001b[32;1m Step File Name : angle_mount/angle_mount_inner_154.step(28478 ents)  Write  Done\u001b[0m\n",
      "angle_mount/angle_mount_inner_156\n",
      "\u001b[32;1m\n",
      "*******************************************************************\n",
      "******        Statistics on Transfer (Write)                 ******\u001b[0m\n",
      "\u001b[32;1m\n",
      "*******************************************************************\n",
      "******        Transfer Mode = 0  I.E.  As Is       ******\u001b[0m\n",
      "\u001b[32;1m******        Transferring Shape, ShapeType = 0                      ******\u001b[0m\n",
      "\u001b[32;1m** WorkSession : Sending all data\u001b[0m\n",
      "\u001b[32;1m Step File Name : angle_mount/angle_mount_inner_156.step(29144 ents)  Write  Done\u001b[0m\n",
      "angle_mount/angle_mount_inner_158\n",
      "\u001b[32;1m\n",
      "*******************************************************************\n",
      "******        Statistics on Transfer (Write)                 ******\u001b[0m\n",
      "\u001b[32;1m\n",
      "*******************************************************************\n",
      "******        Transfer Mode = 0  I.E.  As Is       ******\u001b[0m\n",
      "\u001b[32;1m******        Transferring Shape, ShapeType = 0                      ******\u001b[0m\n",
      "\u001b[32;1m** WorkSession : Sending all data\u001b[0m\n",
      "\u001b[32;1m Step File Name : angle_mount/angle_mount_inner_158.step(29868 ents)  Write  Done\u001b[0m\n",
      "angle_mount/angle_mount_inner_160\n",
      "\u001b[32;1m\n",
      "*******************************************************************\n",
      "******        Statistics on Transfer (Write)                 ******\u001b[0m\n",
      "\u001b[32;1m\n",
      "*******************************************************************\n",
      "******        Transfer Mode = 0  I.E.  As Is       ******\u001b[0m\n",
      "\u001b[32;1m******        Transferring Shape, ShapeType = 0                      ******\u001b[0m\n",
      "\u001b[32;1m** WorkSession : Sending all data\u001b[0m\n",
      "\u001b[32;1m Step File Name : angle_mount/angle_mount_inner_160.step(27067 ents)  Write  Done\u001b[0m\n",
      "angle_mount/angle_mount_inner_162\n",
      "\u001b[32;1m\n",
      "*******************************************************************\n",
      "******        Statistics on Transfer (Write)                 ******\u001b[0m\n",
      "\u001b[32;1m\n",
      "*******************************************************************\n",
      "******        Transfer Mode = 0  I.E.  As Is       ******\u001b[0m\n",
      "\u001b[32;1m******        Transferring Shape, ShapeType = 0                      ******\u001b[0m\n",
      "\u001b[32;1m** WorkSession : Sending all data\u001b[0m\n",
      "\u001b[32;1m Step File Name : angle_mount/angle_mount_inner_162.step(29903 ents)  Write  Done\u001b[0m\n",
      "angle_mount/angle_mount_inner_164\n",
      "\u001b[32;1m\n",
      "*******************************************************************\n",
      "******        Statistics on Transfer (Write)                 ******\u001b[0m\n",
      "\u001b[32;1m\n",
      "*******************************************************************\n",
      "******        Transfer Mode = 0  I.E.  As Is       ******\u001b[0m\n",
      "\u001b[32;1m******        Transferring Shape, ShapeType = 0                      ******\u001b[0m\n",
      "\u001b[32;1m** WorkSession : Sending all data\u001b[0m\n",
      "\u001b[32;1m Step File Name : angle_mount/angle_mount_inner_164.step(27748 ents)  Write  Done\u001b[0m\n",
      "angle_mount/angle_mount_inner_166\n",
      "\u001b[32;1m\n",
      "*******************************************************************\n",
      "******        Statistics on Transfer (Write)                 ******\u001b[0m\n",
      "\u001b[32;1m\n",
      "*******************************************************************\n",
      "******        Transfer Mode = 0  I.E.  As Is       ******\u001b[0m\n",
      "\u001b[32;1m******        Transferring Shape, ShapeType = 0                      ******\u001b[0m\n",
      "\u001b[32;1m** WorkSession : Sending all data\u001b[0m\n",
      "\u001b[32;1m Step File Name : angle_mount/angle_mount_inner_166.step(28414 ents)  Write  Done\u001b[0m\n",
      "angle_mount/angle_mount_inner_168\n",
      "\u001b[32;1m\n",
      "*******************************************************************\n",
      "******        Statistics on Transfer (Write)                 ******\u001b[0m\n",
      "\u001b[32;1m\n",
      "*******************************************************************\n",
      "******        Transfer Mode = 0  I.E.  As Is       ******\u001b[0m\n",
      "\u001b[32;1m******        Transferring Shape, ShapeType = 0                      ******\u001b[0m\n",
      "\u001b[32;1m** WorkSession : Sending all data\u001b[0m\n",
      "\u001b[32;1m Step File Name : angle_mount/angle_mount_inner_168.step(29138 ents)  Write  Done\u001b[0m\n",
      "angle_mount/angle_mount_inner_170\n",
      "\u001b[32;1m\n",
      "*******************************************************************\n",
      "******        Statistics on Transfer (Write)                 ******\u001b[0m\n",
      "\u001b[32;1m\n",
      "*******************************************************************\n",
      "******        Transfer Mode = 0  I.E.  As Is       ******\u001b[0m\n",
      "\u001b[32;1m******        Transferring Shape, ShapeType = 0                      ******\u001b[0m\n",
      "\u001b[32;1m** WorkSession : Sending all data\u001b[0m\n",
      "\u001b[32;1m Step File Name : angle_mount/angle_mount_inner_170.step(27389 ents)  Write  Done\u001b[0m\n",
      "angle_mount/angle_mount_inner_172\n",
      "\u001b[32;1m\n",
      "*******************************************************************\n",
      "******        Statistics on Transfer (Write)                 ******\u001b[0m\n",
      "\u001b[32;1m\n",
      "*******************************************************************\n",
      "******        Transfer Mode = 0  I.E.  As Is       ******\u001b[0m\n",
      "\u001b[32;1m******        Transferring Shape, ShapeType = 0                      ******\u001b[0m\n",
      "\u001b[32;1m** WorkSession : Sending all data\u001b[0m\n",
      "\u001b[32;1m Step File Name : angle_mount/angle_mount_inner_172.step(30225 ents)  Write  Done\u001b[0m\n",
      "angle_mount/angle_mount_inner_174\n",
      "\u001b[32;1m\n",
      "*******************************************************************\n",
      "******        Statistics on Transfer (Write)                 ******\u001b[0m\n",
      "\u001b[32;1m\n",
      "*******************************************************************\n",
      "******        Transfer Mode = 0  I.E.  As Is       ******\u001b[0m\n",
      "\u001b[32;1m******        Transferring Shape, ShapeType = 0                      ******\u001b[0m\n",
      "\u001b[32;1m** WorkSession : Sending all data\u001b[0m\n",
      "\u001b[32;1m Step File Name : angle_mount/angle_mount_inner_174.step(28070 ents)  Write  Done\u001b[0m\n",
      "angle_mount/angle_mount_inner_176\n",
      "\u001b[32;1m\n",
      "*******************************************************************\n",
      "******        Statistics on Transfer (Write)                 ******\u001b[0m\n",
      "\u001b[32;1m\n",
      "*******************************************************************\n",
      "******        Transfer Mode = 0  I.E.  As Is       ******\u001b[0m\n",
      "\u001b[32;1m******        Transferring Shape, ShapeType = 0                      ******\u001b[0m\n",
      "\u001b[32;1m** WorkSession : Sending all data\u001b[0m\n",
      "\u001b[32;1m Step File Name : angle_mount/angle_mount_inner_176.step(28736 ents)  Write  Done\u001b[0m\n"
     ]
    }
   ],
   "source": [
    "for position in ['outer', 'inner']:\n",
    "    for angle in range(78, 178, 2):\n",
    "        file_name = \"angle_mount/angle_mount_\" + str(position) + \"_{0:03}\".format(angle)\n",
    "        print(file_name)\n",
    "\n",
    "        if position == 'inner':\n",
    "            angle_mount = create_angle_mount(angle)\n",
    "\n",
    "        if position == 'outer':\n",
    "            angle_mount = create_outer_angle_mount(angle)\n",
    "\n",
    "        angle_mount.save(file_name + \".step\")\n",
    "        cq.exporters.export(angle_mount.toCompound(), file_name + \".stl\")"
   ]
  },
  {
   "cell_type": "code",
   "execution_count": 25,
   "id": "618e2a68-94a8-4597-96a0-42a5f3fdca06",
   "metadata": {},
   "outputs": [],
   "source": [
    "class Wallmount_Singleton:\n",
    "    def __init__(self):\n",
    "        self.mount = None\n",
    "\n",
    "    def add_tags(self):\n",
    "        self.mount.vertices('>X').vertices('>Y').vertices('<Z').tag('left_point_front')\n",
    "        self.mount.vertices('>X').vertices('<Y').vertices('<Z').tag('left_point')\n",
    "        self.mount.vertices('>X').vertices('<Y').vertices('>Z').tag('left_point_up')\n",
    "        self.mount.vertices('<X').vertices('>Y').vertices('<Z').tag('right_point_front')\n",
    "        self.mount.vertices('<X').vertices('<Y').vertices('<Z').tag('right_point')\n",
    "        self.mount.vertices('<X').vertices('<Y').vertices('>Z').tag('right_point_up')\n",
    "        \n",
    "    def add_section(self, section):\n",
    "\n",
    "        if self.mount == None:\n",
    "            self.mount = section\n",
    "        else:\n",
    "            assembly = cq.Assembly()\n",
    "\n",
    "            name = \"new\"\n",
    "            last_name = \"old\"\n",
    "\n",
    "            assembly.add(self.mount, name=name)\n",
    "            assembly.add(section, name=last_name)\n",
    "\n",
    "            (\n",
    "                assembly\n",
    "                .constrain(name + \"?left_point_front\", \"Fixed\")\n",
    "                .constrain(name + \"?left_point\", \"Fixed\")\n",
    "                .constrain(name + \"?left_point_up\", \"Fixed\")\n",
    "                .constrain(last_name + \"?right_point_front\", name + \"?left_point_front\", \"Point\")\n",
    "                .constrain(last_name + \"?right_point\", name + \"?left_point\", \"Point\")\n",
    "                .constrain(last_name + \"?right_point_up\", name + \"?left_point_up\", \"Point\")\n",
    "            )\n",
    "\n",
    "            for _ in range(30):\n",
    "                assembly = assembly.solve()\n",
    "            self.mount = cq.Workplane(assembly.toCompound())\n",
    "            self.add_tags()\n",
    "            # show_object(self.mount)\n",
    "\n",
    "    def add_l_section(self, length: float):\n",
    "        self.add_section(make_l_section(length))\n",
    "        return self\n",
    "    \n",
    "    def add_l_angle(self, angle):\n",
    "        self.add_section(make_l_angle(angle))\n",
    "        return self\n",
    "    \n",
    "    def add_l_csk_section(self, length: float):\n",
    "        self.add_section(make_l_csk_section(length))\n",
    "        return self\n",
    "    \n",
    "    def add_l_slot_section(self, length: float, slot_length: float):\n",
    "        self.add_section(make_l_slot_section(length, slot_length))\n",
    "        return self\n",
    "\n",
    "    def add_grip_section(self):\n",
    "        self.add_section(make_grip_section())\n",
    "        return self\n",
    "    \n",
    "    def make(self):\n",
    "        return self.mount"
   ]
  },
  {
   "cell_type": "code",
   "execution_count": 26,
   "id": "1fb82dc0-3f65-4941-9b05-9ec46e4e8bc1",
   "metadata": {},
   "outputs": [
    {
     "data": {
      "application/vnd.jupyter.widget-view+json": {
       "model_id": "a9fd142e6a8b4b7ca2fe512d588fda6d",
       "version_major": 2,
       "version_minor": 0
      },
      "text/plain": [
       "CadViewerWidget(anchor=None, cad_width=780, glass=False, height=540, pinning=False, theme='light', title=None,…"
      ]
     },
     "metadata": {},
     "output_type": "display_data"
    },
    {
     "data": {
      "text/html": [
       "<div></div>"
      ],
      "text/plain": [
       "<IPython.core.display.HTML object>"
      ]
     },
     "metadata": {},
     "output_type": "display_data"
    },
    {
     "data": {
      "text/plain": [
       "<cad_viewer_widget.widget.CadViewer at 0x7fb7f4aceca0>"
      ]
     },
     "execution_count": 26,
     "metadata": {},
     "output_type": "execute_result"
    }
   ],
   "source": [
    "mount = Wallmount_Singleton()\n",
    "\n",
    "(\n",
    "    mount\n",
    "    # .add_grip_section()\n",
    "    # .add_l_section(40)\n",
    "    # .add_grip_section()\n",
    "    # .add_l_slot_section(40, 10)\n",
    "    # .add_grip_section()\n",
    "    # .add_l_csk_section(40)\n",
    "    # .add_grip_section()\n",
    "    .add_l_section(40)\n",
    "    .add_l_angle(80)\n",
    "    .add_l_section(40)\n",
    "    # .add_l_angle(80)\n",
    "    # .add_l_section(40)\n",
    "    # .add_grip_section()\n",
    ")\n",
    "\n",
    "show_object(mount.make())"
   ]
  },
  {
   "cell_type": "code",
   "execution_count": 27,
   "id": "ec260339-11cb-40b7-8a5d-29349af3f0e0",
   "metadata": {},
   "outputs": [],
   "source": [
    "result = cq.importers.importStep('mount.step')\n",
    "# cq.Workplane(result.toCompound())\n",
    "\n",
    "cq.exporters.export(result, 'mount.stl')"
   ]
  },
  {
   "cell_type": "code",
   "execution_count": 28,
   "id": "0998b7e9-53f4-4435-9571-3ad7481b96d5",
   "metadata": {},
   "outputs": [
    {
     "data": {
      "application/vnd.jupyter.widget-view+json": {
       "model_id": "f1df1ff3675a43ffa8fa5e2130aa7213",
       "version_major": 2,
       "version_minor": 0
      },
      "text/plain": [
       "CadViewerWidget(anchor=None, cad_width=780, glass=False, height=540, pinning=False, theme='light', title=None,…"
      ]
     },
     "metadata": {},
     "output_type": "display_data"
    },
    {
     "data": {
      "text/html": [
       "<div></div>"
      ],
      "text/plain": [
       "<IPython.core.display.HTML object>"
      ]
     },
     "metadata": {},
     "output_type": "display_data"
    }
   ],
   "source": [
    "cq.Workplane().box(50,50,50).faces(\">Z\").text(\"180g\", 2, 1, cut=True)"
   ]
  }
 ],
 "metadata": {
  "kernelspec": {
   "display_name": "Python 3 (ipykernel)",
   "language": "python",
   "name": "python3"
  },
  "language_info": {
   "codemirror_mode": {
    "name": "ipython",
    "version": 3
   },
   "file_extension": ".py",
   "mimetype": "text/x-python",
   "name": "python",
   "nbconvert_exporter": "python",
   "pygments_lexer": "ipython3",
   "version": "3.9.12"
  }
 },
 "nbformat": 4,
 "nbformat_minor": 5
}

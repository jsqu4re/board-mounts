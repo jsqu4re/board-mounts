{
 "cells": [
  {
   "cell_type": "code",
   "execution_count": 1,
   "id": "9b001879-977d-4161-831d-7f858ea208c3",
   "metadata": {},
   "outputs": [
    {
     "name": "stdout",
     "output_type": "stream",
     "text": [
      "Overwriting auto display for cadquery Workplane and Shape\n",
      "\n",
      "Enabling jupyter_cadquery replay\n",
      "\n",
      "\n",
      "Versions:\n",
      "- jupyter_cadquery  3.5.2\n",
      "- cad_viewer_widget 1.4.1\n",
      "- open cascade      7.6.3\n",
      "\n",
      "Plugins loaded:\n",
      "- cadquery-massembly\n"
     ]
    }
   ],
   "source": [
    "import cadquery as cq\n",
    "\n",
    "from jupyter_cadquery import (\n",
    "    versions,\n",
    "    show, PartGroup, Part, \n",
    "    get_viewer, close_viewer, get_viewers, close_viewers, open_viewer, set_defaults, get_defaults, open_viewer,\n",
    "    get_pick,\n",
    ")\n",
    "\n",
    "from jupyter_cadquery.replay import replay, enable_replay, reset_replay, disable_replay\n",
    "\n",
    "enable_replay(False)\n",
    "\n",
    "set_defaults(\n",
    "    cad_width=780,\n",
    "    height=540,\n",
    ")\n",
    "\n",
    "print()\n",
    "versions()"
   ]
  },
  {
   "cell_type": "code",
   "execution_count": 2,
   "id": "3b79384a-a0fb-4e7f-ad1f-2533e3375296",
   "metadata": {},
   "outputs": [
    {
     "name": "stdout",
     "output_type": "stream",
     "text": [
      "\n",
      "Enabling jupyter_cadquery replay\n"
     ]
    }
   ],
   "source": [
    "use_replay = True\n",
    "\n",
    "if use_replay:\n",
    "    enable_replay(False, False)\n",
    "    reset_replay()\n",
    "    show_object = replay\n",
    "else:\n",
    "    disable_replay()\n",
    "    show_object = show"
   ]
  },
  {
   "cell_type": "markdown",
   "id": "2e7cd8de-1a5d-4315-9c65-a6b399bdb8cb",
   "metadata": {},
   "source": [
    "# Bar Mount"
   ]
  },
  {
   "cell_type": "markdown",
   "id": "c8ee73ba-2a9f-40e7-b1b9-92e138997632",
   "metadata": {},
   "source": [
    "## Makita Rail Guide"
   ]
  },
  {
   "cell_type": "code",
   "execution_count": 40,
   "id": "21e5af19-2ba2-482a-9ec4-30390f16941f",
   "metadata": {},
   "outputs": [],
   "source": [
    "class makita_rail:\n",
    "    race_track_w = 122.6 # mm\n",
    "    guide_middle_w = 15.95 # mm\n",
    "    guide_down_w = 29.1 # mm\n",
    "    race_track_h = 5.0 # mm\n",
    "    guide_middle_h = 10.7 + 2.0 # mm\n",
    "    guide_down_h = 5.0 # mm\n",
    "\n",
    "class bosch_track_saw:\n",
    "    race_track_w = 103. # mm\n",
    "    race_track_w_total = 140.5 # mm\n",
    "    race_track_l = 151.25 * 2 # mm\n",
    "\n",
    "class magnet:\n",
    "    height = 1.85 + 0.1 # mm\n",
    "    diameter = 4.0 + 0.1 # mm\n",
    "    \n",
    "mr = makita_rail\n",
    "bts = bosch_track_saw\n",
    "\n",
    "def add(point_x, point_y):\n",
    "    return tuple(map(lambda x, y: x + y, point_x, point_y))"
   ]
  },
  {
   "cell_type": "code",
   "execution_count": 4,
   "id": "af662b39-c2a4-4cb3-9e49-9ddd5d056b4b",
   "metadata": {},
   "outputs": [
    {
     "name": "stdout",
     "output_type": "stream",
     "text": [
      "Use the multi select box below to select one or more steps you want to examine\n"
     ]
    },
    {
     "data": {
      "application/vnd.jupyter.widget-view+json": {
       "model_id": "f6afeb2aaee64d119944053637b959d6",
       "version_major": 2,
       "version_minor": 0
      },
      "text/plain": [
       "HBox(children=(SelectMultiple(_dom_classes=('monospace',), index=(8,), layout=Layout(width='600px'), options=(…"
      ]
     },
     "metadata": {},
     "output_type": "display_data"
    },
    {
     "data": {
      "text/plain": [
       "<jupyter_cadquery.replay.Replay at 0x7fa0e5bcab60>"
      ]
     },
     "execution_count": 4,
     "metadata": {},
     "output_type": "execute_result"
    }
   ],
   "source": [
    "start = (0., 0.)\n",
    "racetrack = (mr.race_track_w, 0.)\n",
    "guide_up = add(racetrack, (0., mr.guide_middle_h - mr.guide_down_h))\n",
    "guide_back = add(guide_up, (mr.guide_middle_w, 0.))\n",
    "guide_down = add(guide_back, (0., -1 * (mr.guide_middle_h - mr.guide_down_h)))\n",
    "end_down = add(guide_down, (mr.guide_down_w, 0.))\n",
    "end_up = add(end_down, (0., 20.))\n",
    "start_up = (0., 20.)\n",
    "\n",
    "track_guide_sketch = (\n",
    "    cq.Sketch()\n",
    "    .segment(start, racetrack)\n",
    "    .segment(guide_up)\n",
    "    .segment(guide_back)\n",
    "    .segment(guide_down)\n",
    "    .segment(end_down)\n",
    "    .segment(end_up)\n",
    "    .segment(start_up)\n",
    "    .close()\n",
    "    .assemble(tag='track_side_cut')\n",
    ")\n",
    "\n",
    "show_object(track_guide_sketch)"
   ]
  },
  {
   "cell_type": "code",
   "execution_count": 70,
   "id": "08ee6d06-e3c6-4372-8b45-a82f36a7e06c",
   "metadata": {},
   "outputs": [
    {
     "name": "stdout",
     "output_type": "stream",
     "text": [
      "Use the multi select box below to select one or more steps you want to examine\n"
     ]
    },
    {
     "data": {
      "application/vnd.jupyter.widget-view+json": {
       "model_id": "974cc878543e403d86797ebb98792ecd",
       "version_major": 2,
       "version_minor": 0
      },
      "text/plain": [
       "HBox(children=(SelectMultiple(_dom_classes=('monospace',), index=(39,), layout=Layout(width='600px'), options=…"
      ]
     },
     "metadata": {},
     "output_type": "display_data"
    },
    {
     "data": {
      "text/plain": [
       "<jupyter_cadquery.replay.Replay at 0x7fa07de32920>"
      ]
     },
     "execution_count": 70,
     "metadata": {},
     "output_type": "execute_result"
    }
   ],
   "source": [
    "adapter_length = bts.race_track_l + 20.0\n",
    "saw_cut_width = bts.race_track_w_total - bts.race_track_w\n",
    "\n",
    "def make_adapter():\n",
    "    race_bed = (\n",
    "        cq.Workplane('XY')\n",
    "        .placeSketch(track_guide_sketch)\n",
    "        .extrude(adapter_length, both = False)\n",
    "        .faces(\">>Y\")\n",
    "        .workplane()\n",
    "        .move(0, adapter_length / 2)\n",
    "        .rect(bts.race_track_w * 2, bts.race_track_l)\n",
    "        .extrude(-15, combine=\"cut\")\n",
    "        .faces(\"<<Z\")\n",
    "        .workplane()\n",
    "        .rect(36, 30)\n",
    "        .extrude(-15, combine=\"cut\")\n",
    "        .faces(\">Y[-3]\")\n",
    "        .workplane(centerOption=\"CenterOfBoundBox\")\n",
    "        .rarray(15, 30, 5, 10)\n",
    "        .hole(magnet.diameter, magnet.height)\n",
    "        .faces(\"<<X\")\n",
    "        .workplane()\n",
    "        .rect(10,10)\n",
    "        .extrude(1, combine=\"cut\")\n",
    "        .faces(\"<<X\")\n",
    "        .wires()\n",
    "        .toPending()\n",
    "        .extrude(saw_cut_width)\n",
    "        .faces(\"<<X\")\n",
    "        .workplane(offset=-20)\n",
    "        .rect(10,260)\n",
    "        .extrude(-saw_cut_width + 20, combine=\"cut\")\n",
    "        .faces(\"<<X\")\n",
    "        .workplane()\n",
    "        .move(-5,5)\n",
    "        .rect(20,adapter_length)\n",
    "        .extrude(5)\n",
    "        # .workplane()\n",
    "        # .fillet(1.0)\n",
    "    )\n",
    "    return race_bed\n",
    "\n",
    "adapter = make_adapter()\n",
    "\n",
    "show_object(adapter)"
   ]
  },
  {
   "cell_type": "code",
   "execution_count": null,
   "id": "1e37487d-2d4b-4a3c-af63-dddacd49198c",
   "metadata": {},
   "outputs": [],
   "source": [
    "file_name = \"circular_saw_guide_adapter\"\n",
    "cq.exporters.export(adapter, file_name + \".stl\")\n",
    "cq.exporters.export(adapter, file_name + \".step\")"
   ]
  },
  {
   "cell_type": "code",
   "execution_count": null,
   "id": "5848d19b-8eb4-41f9-9cbc-61a78c1ef305",
   "metadata": {},
   "outputs": [],
   "source": [
    "# devide_sketch = (\n",
    "#     cq.Sketch()\n",
    "#     .segment((adapter_length/2, 0), (adapter_length/2, 100))\n",
    "#     # .close()\n",
    "#     .assemble(tag='devide')\n",
    "# )\n",
    "\n",
    "test_piece = (\n",
    "    make_adapter()\n",
    "    .faces(\">Z\")\n",
    "    .workplane(-adapter_length/8)\n",
    "    .split(keepTop=True, keepBottom=False)\n",
    ")\n",
    "\n",
    "file_name = \"test_circular_saw_guide_adapter\"\n",
    "cq.exporters.export(test_piece, file_name + \".stl\")\n",
    "cq.exporters.export(test_piece, file_name + \".step\")\n",
    "\n",
    "show_object(test_piece)"
   ]
  }
 ],
 "metadata": {
  "kernelspec": {
   "display_name": "Python 3 (ipykernel)",
   "language": "python",
   "name": "python3"
  },
  "language_info": {
   "codemirror_mode": {
    "name": "ipython",
    "version": 3
   },
   "file_extension": ".py",
   "mimetype": "text/x-python",
   "name": "python",
   "nbconvert_exporter": "python",
   "pygments_lexer": "ipython3",
   "version": "3.10.8"
  }
 },
 "nbformat": 4,
 "nbformat_minor": 5
}

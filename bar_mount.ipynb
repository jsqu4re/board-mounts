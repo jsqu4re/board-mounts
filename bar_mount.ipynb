{
 "cells": [
  {
   "cell_type": "code",
   "execution_count": 1,
   "id": "9b001879-977d-4161-831d-7f858ea208c3",
   "metadata": {},
   "outputs": [
    {
     "name": "stdout",
     "output_type": "stream",
     "text": [
      "Overwriting auto display for cadquery Workplane and Shape\n",
      "\n",
      "Enabling jupyter_cadquery replay\n",
      "\n",
      "jupyter_cadquery  3.1.0rc4\n",
      "cad_viewer_widget 1.3.2\n",
      "OCP               7.5.3\n"
     ]
    }
   ],
   "source": [
    "import cadquery as cq\n",
    "\n",
    "from jupyter_cadquery import (\n",
    "    versions,\n",
    "    show, PartGroup, Part, \n",
    "    get_viewer, close_viewer, get_viewers, close_viewers, open_viewer, set_defaults, get_defaults, open_viewer,\n",
    "    get_pick,\n",
    ")\n",
    "\n",
    "from jupyter_cadquery.replay import replay, enable_replay, reset_replay, disable_replay\n",
    "\n",
    "enable_replay(False)\n",
    "\n",
    "set_defaults(\n",
    "    cad_width=780, \n",
    "    height=540, \n",
    ")\n",
    "\n",
    "print()\n",
    "versions()"
   ]
  },
  {
   "cell_type": "code",
   "execution_count": 2,
   "id": "3b79384a-a0fb-4e7f-ad1f-2533e3375296",
   "metadata": {},
   "outputs": [
    {
     "name": "stdout",
     "output_type": "stream",
     "text": [
      "\n",
      "Enabling jupyter_cadquery replay\n"
     ]
    }
   ],
   "source": [
    "use_replay = True\n",
    "\n",
    "if use_replay:\n",
    "    enable_replay(False, False)\n",
    "    reset_replay()\n",
    "    show_object = replay\n",
    "else:\n",
    "    disable_replay()\n",
    "    show_object = show"
   ]
  },
  {
   "cell_type": "markdown",
   "id": "2e7cd8de-1a5d-4315-9c65-a6b399bdb8cb",
   "metadata": {},
   "source": [
    "# Bar Mount"
   ]
  },
  {
   "cell_type": "markdown",
   "id": "c8ee73ba-2a9f-40e7-b1b9-92e138997632",
   "metadata": {},
   "source": [
    "## Wall Bar Anchor"
   ]
  },
  {
   "cell_type": "code",
   "execution_count": 3,
   "id": "21e5af19-2ba2-482a-9ec4-30390f16941f",
   "metadata": {},
   "outputs": [],
   "source": [
    "outer_height = 23\n",
    "outer_depth = 20\n",
    "inner_height = 22\n",
    "inner_depth = 15\n",
    "\n",
    "wall_thickness = 2\n",
    "trench_depth = 9\n",
    "trench_gap = 4.5\n",
    "\n",
    "grip_thickness = 1.6\n",
    "grip_mount_height = 6\n",
    "grip_grip = 0.5\n",
    "grip_length = 21\n",
    "\n",
    "l_length = 60 - 2 * grip_length\n",
    "\n",
    "bottom_thickness = 3\n",
    "\n",
    "bottom_bracket_height = 7.2\n",
    "bottom_bracket_indention = 6"
   ]
  },
  {
   "cell_type": "code",
   "execution_count": 4,
   "id": "af662b39-c2a4-4cb3-9e49-9ddd5d056b4b",
   "metadata": {},
   "outputs": [
    {
     "name": "stdout",
     "output_type": "stream",
     "text": [
      "Use the multi select box below to select one or more steps you want to examine\n"
     ]
    },
    {
     "data": {
      "application/vnd.jupyter.widget-view+json": {
       "model_id": "0332315c458b4435b1804ee6c430c5e6",
       "version_major": 2,
       "version_minor": 0
      },
      "text/plain": [
       "HBox(children=(SelectMultiple(_dom_classes=('monospace',), index=(18,), layout=Layout(width='600px'), options=…"
      ]
     },
     "metadata": {},
     "output_type": "display_data"
    },
    {
     "data": {
      "text/plain": [
       "<jupyter_cadquery.replay.Replay at 0x7f2766ae0a30>"
      ]
     },
     "execution_count": 4,
     "metadata": {},
     "output_type": "execute_result"
    }
   ],
   "source": [
    "lp00 = (0.,0)\n",
    "lp01 = (inner_height,0.)\n",
    "lp1 = (inner_height,wall_thickness)\n",
    "lp2 = (bottom_thickness,wall_thickness)\n",
    "lp3 = (bottom_thickness,inner_depth)\n",
    "lp4 = (0,inner_depth)\n",
    "\n",
    "grip_sketch = (\n",
    "    cq.Sketch()\n",
    "    .segment(lp00, lp01)\n",
    "    .segment(lp1)\n",
    "    .segment((inner_height - trench_depth,wall_thickness))\n",
    "    .segment((inner_height - trench_depth,wall_thickness + trench_gap + grip_grip))\n",
    "    .segment((inner_height,wall_thickness + trench_gap))\n",
    "    .segment((inner_height,wall_thickness + trench_gap + grip_thickness))\n",
    "    .segment((inner_height - trench_depth,wall_thickness + trench_gap + grip_thickness + grip_grip))\n",
    "    .segment((inner_height - trench_depth - wall_thickness,wall_thickness + trench_gap + grip_thickness))\n",
    "    .segment((grip_mount_height,wall_thickness))\n",
    "    .segment(lp2)\n",
    "    .segment((bottom_thickness,inner_depth - wall_thickness))\n",
    "    .segment((bottom_bracket_height,inner_depth - bottom_bracket_indention))\n",
    "    .segment((bottom_bracket_height,inner_depth - bottom_bracket_indention + wall_thickness))\n",
    "    .segment(lp3)\n",
    "    .segment(lp4)\n",
    "    .close()\n",
    "    .assemble(tag='grip_face')\n",
    "    .edges('%LINE',tag='grip_face')\n",
    "    # .vertices('>X or >Y or <X or <Y')\n",
    "    # .vertices()\n",
    "    # .fillet(0.75)\n",
    "    .reset()\n",
    ")\n",
    "\n",
    "show_object(grip_sketch)"
   ]
  },
  {
   "cell_type": "code",
   "execution_count": 5,
   "id": "0d66809e-6d35-4979-894c-7e5525aa298b",
   "metadata": {},
   "outputs": [
    {
     "name": "stdout",
     "output_type": "stream",
     "text": [
      "Use the multi select box below to select one or more steps you want to examine\n"
     ]
    },
    {
     "data": {
      "application/vnd.jupyter.widget-view+json": {
       "model_id": "e2ade42af7544c1f89791f30ac6e3f9c",
       "version_major": 2,
       "version_minor": 0
      },
      "text/plain": [
       "HBox(children=(SelectMultiple(_dom_classes=('monospace',), index=(8,), layout=Layout(width='600px'), options=(…"
      ]
     },
     "metadata": {},
     "output_type": "display_data"
    },
    {
     "data": {
      "text/plain": [
       "<jupyter_cadquery.replay.Replay at 0x7f2766c2c7c0>"
      ]
     },
     "execution_count": 5,
     "metadata": {},
     "output_type": "execute_result"
    }
   ],
   "source": [
    "l_sketch = (\n",
    "    cq.Sketch()\n",
    "    .segment(lp00, lp01)\n",
    "    .segment(lp1)\n",
    "    .segment(lp2)\n",
    "    .segment(lp3)\n",
    "    .segment(lp4)\n",
    "    .close()\n",
    "    .assemble(tag='l_face')\n",
    "    .edges('%LINE',tag='l_face')\n",
    "    # .vertices()\n",
    "    # .fillet(0.75)\n",
    "    .reset()\n",
    ")\n",
    "\n",
    "show_object(l_sketch)"
   ]
  },
  {
   "cell_type": "code",
   "execution_count": 6,
   "id": "08ee6d06-e3c6-4372-8b45-a82f36a7e06c",
   "metadata": {},
   "outputs": [
    {
     "name": "stdout",
     "output_type": "stream",
     "text": [
      "Use the multi select box below to select one or more steps you want to examine\n"
     ]
    },
    {
     "data": {
      "application/vnd.jupyter.widget-view+json": {
       "model_id": "bcba4e4c762044c2b01317cf66b06d3f",
       "version_major": 2,
       "version_minor": 0
      },
      "text/plain": [
       "HBox(children=(SelectMultiple(_dom_classes=('monospace',), index=(20,), layout=Layout(width='600px'), options=…"
      ]
     },
     "metadata": {},
     "output_type": "display_data"
    },
    {
     "data": {
      "text/plain": [
       "<jupyter_cadquery.replay.Replay at 0x7f2766bac370>"
      ]
     },
     "execution_count": 6,
     "metadata": {},
     "output_type": "execute_result"
    }
   ],
   "source": [
    "def make_grip_section():\n",
    "    grip_section = (\n",
    "        cq.Workplane('ZY')\n",
    "        .placeSketch(grip_sketch)\n",
    "        .extrude(grip_length)\n",
    "    )\n",
    "    grip_section.faces('>X').tag('left_plane')\n",
    "    grip_section.vertices('>X and <Y and <Z').tag('left_point')\n",
    "    grip_section.vertices('>X and <Y and >Z').tag('left_point_up')\n",
    "    grip_section.faces('<X').tag('right_plane')\n",
    "    grip_section.vertices('<X and <Y and <Z').tag('right_point')\n",
    "    grip_section.vertices('<X and <Y and >Z').tag('right_point_up')\n",
    "    return grip_section\n",
    "    \n",
    "show_object(make_grip_section())"
   ]
  },
  {
   "cell_type": "code",
   "execution_count": 7,
   "id": "2bc657bf-f375-471a-a1a9-69cc2723d9a7",
   "metadata": {},
   "outputs": [
    {
     "name": "stdout",
     "output_type": "stream",
     "text": [
      "Use the multi select box below to select one or more steps you want to examine\n"
     ]
    },
    {
     "data": {
      "application/vnd.jupyter.widget-view+json": {
       "model_id": "06f07939e4ca4a05b1cc732b0cb76673",
       "version_major": 2,
       "version_minor": 0
      },
      "text/plain": [
       "HBox(children=(SelectMultiple(_dom_classes=('monospace',), index=(14,), layout=Layout(width='600px'), options=…"
      ]
     },
     "metadata": {},
     "output_type": "display_data"
    },
    {
     "data": {
      "text/plain": [
       "<jupyter_cadquery.replay.Replay at 0x7f2766c80370>"
      ]
     },
     "execution_count": 7,
     "metadata": {},
     "output_type": "execute_result"
    }
   ],
   "source": [
    "def make_l_section(length):\n",
    "    inner_bore_height = 14\n",
    "\n",
    "    l_section = (\n",
    "        cq.Workplane('ZY')\n",
    "        .placeSketch(l_sketch)\n",
    "        .extrude(length)\n",
    "        .faces(\">Y[-2]\").workplane()\n",
    "        .center(l_length / 2, inner_bore_height)\n",
    "        .cskHole(4, 8, 100, depth=None)        \n",
    "    )\n",
    "    l_section.faces('>X').tag('left_plane')\n",
    "    l_section.vertices('>X and <Y and <Z').tag('left_point')\n",
    "    l_section.vertices('>X and <Y and >Z').tag('left_point_up')\n",
    "    l_section.faces('<X').tag('right_plane')\n",
    "    l_section.vertices('<X and <Y and <Z').tag('right_point')\n",
    "    l_section.vertices('<X and <Y and >Z').tag('right_point_up')\n",
    "    return l_section\n",
    "\n",
    "show_object(make_l_section(l_length))"
   ]
  },
  {
   "cell_type": "markdown",
   "id": "37fdda0b-4c9d-4095-97f9-ed1a746a4d83",
   "metadata": {},
   "source": [
    "## Assamble the parts"
   ]
  },
  {
   "cell_type": "code",
   "execution_count": 8,
   "id": "adf0deb3-cb00-430d-a6d5-7a5623005335",
   "metadata": {},
   "outputs": [
    {
     "name": "stdout",
     "output_type": "stream",
     "text": [
      "Removing replay from cadquery.Workplane (will show a final RuntimeWarning if not suppressed)\n"
     ]
    }
   ],
   "source": [
    "disable_replay()\n",
    "show_object = show"
   ]
  },
  {
   "cell_type": "code",
   "execution_count": 30,
   "id": "35da94af-d206-4446-b3a1-f39dd2c98cd8",
   "metadata": {},
   "outputs": [
    {
     "name": "stdout",
     "output_type": "stream",
     "text": [
      "100% ⋮————————————————————————————————————————————————————————————⋮ (3/3)  0.03s\n"
     ]
    },
    {
     "data": {
      "application/vnd.jupyter.widget-view+json": {
       "model_id": "0a7f4a7c685944c5ad5599cd3d8dc9ee",
       "version_major": 2,
       "version_minor": 0
      },
      "text/plain": [
       "CadViewerWidget(anchor=None, cad_width=780, glass=False, height=540, pinning=False, theme='light', title=None,…"
      ]
     },
     "metadata": {},
     "output_type": "display_data"
    },
    {
     "data": {
      "text/html": [
       "<div></div>"
      ],
      "text/plain": [
       "<IPython.core.display.HTML object>"
      ]
     },
     "metadata": {},
     "output_type": "display_data"
    },
    {
     "data": {
      "text/plain": [
       "<cad_viewer_widget.widget.CadViewer at 0x7f275c4682b0>"
      ]
     },
     "execution_count": 30,
     "metadata": {},
     "output_type": "execute_result"
    }
   ],
   "source": [
    "L = lambda *args: cq.Location(cq.Vector(*args))\n",
    "C = lambda *args: cq.Color(*args)\n",
    "\n",
    "def make_basic_mount():\n",
    "    basic_mount = (\n",
    "        cq.Assembly()\n",
    "        .add(make_grip_section(), name=\"g0\")\n",
    "        .add(make_l_section(l_length), name=\"l0\")\n",
    "        .add(make_grip_section(), name=\"g1\")\n",
    "    )\n",
    "    (\n",
    "        basic_mount\n",
    "        .constrain(\"g0?left_point\", \"Fixed\")\n",
    "        .constrain(\"g0?right_plane\", \"l0?left_plane\", \"PointInPlane\")\n",
    "        .constrain(\"g0?right_point\", \"l0?left_point\", \"Point\")\n",
    "        .constrain(\"g0?right_point_up\", \"l0?left_point_up\", \"Point\")\n",
    "        .constrain(\"l0?right_plane\", \"g1?left_plane\", \"PointInPlane\")\n",
    "        .constrain(\"l0?right_point\", \"g1?left_point\", \"Point\")\n",
    "        .constrain(\"l0?right_point_up\", \"g1?left_point_up\", \"Point\")\n",
    "    )\n",
    "    basic_mount.solve()\n",
    "    return basic_mount\n",
    "\n",
    "show_object(make_basic_mount())"
   ]
  },
  {
   "cell_type": "code",
   "execution_count": 41,
   "id": "be1e21f2-18ab-4829-9cde-d599a5942b2b",
   "metadata": {},
   "outputs": [
    {
     "ename": "ValueError",
     "evalue": "At least one constraint required",
     "output_type": "error",
     "traceback": [
      "\u001b[0;31m---------------------------------------------------------------------------\u001b[0m",
      "\u001b[0;31mValueError\u001b[0m                                Traceback (most recent call last)",
      "Input \u001b[0;32mIn [41]\u001b[0m, in \u001b[0;36m<cell line: 17>\u001b[0;34m()\u001b[0m\n\u001b[1;32m     14\u001b[0m     mount\u001b[38;5;241m.\u001b[39msolve()\n\u001b[1;32m     15\u001b[0m     \u001b[38;5;28;01mreturn\u001b[39;00m mount\n\u001b[0;32m---> 17\u001b[0m show_object(\u001b[43mmake_mount\u001b[49m\u001b[43m(\u001b[49m\u001b[43m)\u001b[49m)\n",
      "Input \u001b[0;32mIn [41]\u001b[0m, in \u001b[0;36mmake_mount\u001b[0;34m()\u001b[0m\n\u001b[1;32m      2\u001b[0m mount \u001b[38;5;241m=\u001b[39m (\n\u001b[1;32m      3\u001b[0m     cq\u001b[38;5;241m.\u001b[39mAssembly()\n\u001b[1;32m      4\u001b[0m     \u001b[38;5;241m.\u001b[39madd(make_basic_mount(), name\u001b[38;5;241m=\u001b[39m\u001b[38;5;124m\"\u001b[39m\u001b[38;5;124mm0\u001b[39m\u001b[38;5;124m\"\u001b[39m)\n\u001b[1;32m      5\u001b[0m     \u001b[38;5;241m.\u001b[39madd(make_basic_mount(), name\u001b[38;5;241m=\u001b[39m\u001b[38;5;124m\"\u001b[39m\u001b[38;5;124mm1\u001b[39m\u001b[38;5;124m\"\u001b[39m)\n\u001b[1;32m      6\u001b[0m )\n\u001b[1;32m      7\u001b[0m (\n\u001b[1;32m      8\u001b[0m     mount\n\u001b[1;32m      9\u001b[0m     \u001b[38;5;66;03m# .constrain(\"m0@g0?left_point\", \"Fixed\")\u001b[39;00m\n\u001b[0;32m   (...)\u001b[0m\n\u001b[1;32m     12\u001b[0m     \u001b[38;5;66;03m# .constrain(\"m0@g0?right_point_up\", \"m1@l0?left_point_up\", \"Point\")\u001b[39;00m\n\u001b[1;32m     13\u001b[0m )\n\u001b[0;32m---> 14\u001b[0m \u001b[43mmount\u001b[49m\u001b[38;5;241;43m.\u001b[39;49m\u001b[43msolve\u001b[49m\u001b[43m(\u001b[49m\u001b[43m)\u001b[49m\n\u001b[1;32m     15\u001b[0m \u001b[38;5;28;01mreturn\u001b[39;00m mount\n",
      "File \u001b[0;32m/opt/conda/envs/cq/lib/python3.9/site-packages/cadquery/assembly.py:403\u001b[0m, in \u001b[0;36mAssembly.solve\u001b[0;34m(self)\u001b[0m\n\u001b[1;32m    401\u001b[0m \u001b[38;5;66;03m# check if any constraints were specified\u001b[39;00m\n\u001b[1;32m    402\u001b[0m \u001b[38;5;28;01mif\u001b[39;00m \u001b[38;5;129;01mnot\u001b[39;00m constraints:\n\u001b[0;32m--> 403\u001b[0m     \u001b[38;5;28;01mraise\u001b[39;00m \u001b[38;5;167;01mValueError\u001b[39;00m(\u001b[38;5;124m\"\u001b[39m\u001b[38;5;124mAt least one constraint required\u001b[39m\u001b[38;5;124m\"\u001b[39m)\n\u001b[1;32m    405\u001b[0m \u001b[38;5;66;03m# instantiate the solver\u001b[39;00m\n\u001b[1;32m    406\u001b[0m solver \u001b[38;5;241m=\u001b[39m ConstraintSolver(locs, constraints, locked\u001b[38;5;241m=\u001b[39mlocked)\n",
      "\u001b[0;31mValueError\u001b[0m: At least one constraint required"
     ]
    }
   ],
   "source": [
    "def make_mount():\n",
    "    mount = (\n",
    "        cq.Assembly()\n",
    "        .add(make_basic_mount(), name=\"m0\")\n",
    "        .add(make_basic_mount(), name=\"m1\")\n",
    "    )\n",
    "    (\n",
    "        mount\n",
    "        # .constrain(\"m0@g0?left_point\", \"Fixed\")\n",
    "        # .constrain(\"m0@g0?right_plane\", \"m1@l0?left_plane\", \"PointInPlane\")\n",
    "        # .constrain(\"m0@g0?right_point\", \"m1@l0?left_point\", \"Point\")\n",
    "        # .constrain(\"m0@g0?right_point_up\", \"m1@l0?left_point_up\", \"Point\")\n",
    "    )\n",
    "    # mount.solve()\n",
    "    return mount\n",
    "\n",
    "show_object(make_mount())"
   ]
  }
 ],
 "metadata": {
  "kernelspec": {
   "display_name": "Python 3 (ipykernel)",
   "language": "python",
   "name": "python3"
  },
  "language_info": {
   "codemirror_mode": {
    "name": "ipython",
    "version": 3
   },
   "file_extension": ".py",
   "mimetype": "text/x-python",
   "name": "python",
   "nbconvert_exporter": "python",
   "pygments_lexer": "ipython3",
   "version": "3.9.12"
  }
 },
 "nbformat": 4,
 "nbformat_minor": 5
}

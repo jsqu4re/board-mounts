{
 "cells": [
  {
   "cell_type": "code",
   "execution_count": 1,
   "id": "9b001879-977d-4161-831d-7f858ea208c3",
   "metadata": {},
   "outputs": [
    {
     "name": "stdout",
     "output_type": "stream",
     "text": [
      "Overwriting auto display for cadquery Workplane and Shape\n",
      "\n",
      "Enabling jupyter_cadquery replay\n",
      "\n",
      "jupyter_cadquery  3.1.0rc4\n",
      "cad_viewer_widget 1.3.2\n",
      "OCP               7.5.3\n"
     ]
    }
   ],
   "source": [
    "import cadquery as cq\n",
    "\n",
    "from jupyter_cadquery import (\n",
    "    versions,\n",
    "    show, PartGroup, Part, \n",
    "    get_viewer, close_viewer, get_viewers, close_viewers, open_viewer, set_defaults, get_defaults, open_viewer,\n",
    "    get_pick,\n",
    ")\n",
    "\n",
    "from jupyter_cadquery.replay import replay, enable_replay, reset_replay, disable_replay\n",
    "\n",
    "enable_replay(False)\n",
    "\n",
    "set_defaults(\n",
    "    cad_width=780, \n",
    "    height=540, \n",
    ")\n",
    "\n",
    "print()\n",
    "versions()"
   ]
  },
  {
   "cell_type": "code",
   "execution_count": 2,
   "id": "3b79384a-a0fb-4e7f-ad1f-2533e3375296",
   "metadata": {},
   "outputs": [
    {
     "name": "stdout",
     "output_type": "stream",
     "text": [
      "\n",
      "Enabling jupyter_cadquery replay\n"
     ]
    }
   ],
   "source": [
    "use_replay = True\n",
    "\n",
    "if use_replay:\n",
    "    enable_replay(False, False)\n",
    "    reset_replay()\n",
    "    show_object = replay\n",
    "else:\n",
    "    disable_replay()\n",
    "    show_object = show"
   ]
  },
  {
   "cell_type": "markdown",
   "id": "2e7cd8de-1a5d-4315-9c65-a6b399bdb8cb",
   "metadata": {},
   "source": [
    "# Bar Mount"
   ]
  },
  {
   "cell_type": "markdown",
   "id": "c8ee73ba-2a9f-40e7-b1b9-92e138997632",
   "metadata": {},
   "source": [
    "## Wall Bar Anchor"
   ]
  },
  {
   "cell_type": "code",
   "execution_count": 3,
   "id": "21e5af19-2ba2-482a-9ec4-30390f16941f",
   "metadata": {},
   "outputs": [],
   "source": [
    "outer_height = 23\n",
    "outer_depth = 20\n",
    "inner_height = 22\n",
    "inner_depth = 15\n",
    "\n",
    "back_spacer = outer_depth - inner_depth\n",
    "ground_spacer = outer_height - inner_height\n",
    "\n",
    "wall_thickness = 2\n",
    "trench_depth = 9\n",
    "trench_gap = 4.5\n",
    "\n",
    "grip_thickness = 1.6\n",
    "grip_mount_height = 6\n",
    "grip_grip = 0.5\n",
    "grip_length = 21\n",
    "\n",
    "l_length = 60 - 2 * grip_length\n",
    "\n",
    "bottom_thickness = 3\n",
    "\n",
    "bottom_bracket_height = 7.2\n",
    "bottom_bracket_indention = 6"
   ]
  },
  {
   "cell_type": "code",
   "execution_count": 4,
   "id": "af662b39-c2a4-4cb3-9e49-9ddd5d056b4b",
   "metadata": {},
   "outputs": [
    {
     "name": "stdout",
     "output_type": "stream",
     "text": [
      "Use the multi select box below to select one or more steps you want to examine\n"
     ]
    },
    {
     "data": {
      "application/vnd.jupyter.widget-view+json": {
       "model_id": "b668916d2c0e4d6881370c77f9b4343c",
       "version_major": 2,
       "version_minor": 0
      },
      "text/plain": [
       "HBox(children=(SelectMultiple(_dom_classes=('monospace',), index=(18,), layout=Layout(width='600px'), options=…"
      ]
     },
     "metadata": {},
     "output_type": "display_data"
    },
    {
     "data": {
      "text/plain": [
       "<jupyter_cadquery.replay.Replay at 0x7fb64ba3a940>"
      ]
     },
     "execution_count": 4,
     "metadata": {},
     "output_type": "execute_result"
    }
   ],
   "source": [
    "lp00 = (0.,0)\n",
    "lp01 = (inner_height,0.)\n",
    "lp1 = (inner_height,wall_thickness)\n",
    "lp2 = (bottom_thickness,wall_thickness)\n",
    "lp3 = (bottom_thickness,inner_depth)\n",
    "lp4 = (0,inner_depth)\n",
    "\n",
    "grip_sketch = (\n",
    "    cq.Sketch()\n",
    "    .segment(lp00, lp01)\n",
    "    .segment(lp1)\n",
    "    .segment((inner_height - trench_depth,wall_thickness))\n",
    "    .segment((inner_height - trench_depth,wall_thickness + trench_gap + grip_grip))\n",
    "    .segment((inner_height,wall_thickness + trench_gap))\n",
    "    .segment((inner_height,wall_thickness + trench_gap + grip_thickness))\n",
    "    .segment((inner_height - trench_depth,wall_thickness + trench_gap + grip_thickness + grip_grip))\n",
    "    .segment((inner_height - trench_depth - wall_thickness,wall_thickness + trench_gap + grip_thickness))\n",
    "    .segment((grip_mount_height,wall_thickness))\n",
    "    .segment(lp2)\n",
    "    .segment((bottom_thickness,inner_depth - wall_thickness))\n",
    "    .segment((bottom_bracket_height,inner_depth - bottom_bracket_indention))\n",
    "    .segment((bottom_bracket_height,inner_depth - bottom_bracket_indention + wall_thickness))\n",
    "    .segment(lp3)\n",
    "    .segment(lp4)\n",
    "    .close()\n",
    "    .assemble(tag='grip_face')\n",
    "    .edges('%LINE',tag='grip_face')\n",
    "    # .vertices('>X or >Y or <X or <Y')\n",
    "    # .vertices()\n",
    "    # .fillet(0.75)\n",
    "    .reset()\n",
    ")\n",
    "\n",
    "show_object(grip_sketch)"
   ]
  },
  {
   "cell_type": "code",
   "execution_count": 5,
   "id": "0d66809e-6d35-4979-894c-7e5525aa298b",
   "metadata": {},
   "outputs": [
    {
     "name": "stdout",
     "output_type": "stream",
     "text": [
      "Use the multi select box below to select one or more steps you want to examine\n"
     ]
    },
    {
     "data": {
      "application/vnd.jupyter.widget-view+json": {
       "model_id": "5587f31f5d754185b66961e394d14528",
       "version_major": 2,
       "version_minor": 0
      },
      "text/plain": [
       "HBox(children=(SelectMultiple(_dom_classes=('monospace',), index=(8,), layout=Layout(width='600px'), options=(…"
      ]
     },
     "metadata": {},
     "output_type": "display_data"
    },
    {
     "data": {
      "text/plain": [
       "<jupyter_cadquery.replay.Replay at 0x7fb64a5aff70>"
      ]
     },
     "execution_count": 5,
     "metadata": {},
     "output_type": "execute_result"
    }
   ],
   "source": [
    "l_sketch = (\n",
    "    cq.Sketch()\n",
    "    .segment(lp00, lp01)\n",
    "    .segment(lp1)\n",
    "    .segment(lp2)\n",
    "    .segment(lp3)\n",
    "    .segment(lp4)\n",
    "    .close()\n",
    "    .assemble(tag='l_face')\n",
    "    .edges('%LINE',tag='l_face')\n",
    "    # .vertices()\n",
    "    # .fillet(0.75)\n",
    "    .reset()\n",
    ")\n",
    "\n",
    "show_object(l_sketch)"
   ]
  },
  {
   "cell_type": "code",
   "execution_count": 6,
   "id": "da4683fc-6a67-443f-9ca0-4bd2fdbcbe2d",
   "metadata": {},
   "outputs": [
    {
     "name": "stdout",
     "output_type": "stream",
     "text": [
      "Use the multi select box below to select one or more steps you want to examine\n"
     ]
    },
    {
     "data": {
      "application/vnd.jupyter.widget-view+json": {
       "model_id": "2deaeb5320044d608949a02fbed027bd",
       "version_major": 2,
       "version_minor": 0
      },
      "text/plain": [
       "HBox(children=(SelectMultiple(_dom_classes=('monospace',), index=(11,), layout=Layout(width='600px'), options=…"
      ]
     },
     "metadata": {},
     "output_type": "display_data"
    },
    {
     "data": {
      "text/plain": [
       "<jupyter_cadquery.replay.Replay at 0x7fb64a693910>"
      ]
     },
     "execution_count": 6,
     "metadata": {},
     "output_type": "execute_result"
    }
   ],
   "source": [
    "spacer_sketch = (\n",
    "    cq.Sketch()\n",
    "    .segment(lp00, lp01)\n",
    "    .segment((inner_height, -back_spacer))\n",
    "    .segment((0, -back_spacer))\n",
    "    .segment((-ground_spacer, 0))\n",
    "    .segment((-ground_spacer, inner_depth))\n",
    "    .segment(lp4)\n",
    "    .close()\n",
    "    .assemble(tag='spacer_face')\n",
    "    .edges('%LINE',tag='spacer_face')\n",
    "    .vertices('<Y or <X')\n",
    "    .chamfer(1)\n",
    "    .reset()\n",
    ")\n",
    "\n",
    "show_object(spacer_sketch)"
   ]
  },
  {
   "cell_type": "code",
   "execution_count": 7,
   "id": "08ee6d06-e3c6-4372-8b45-a82f36a7e06c",
   "metadata": {},
   "outputs": [
    {
     "name": "stdout",
     "output_type": "stream",
     "text": [
      "Use the multi select box below to select one or more steps you want to examine\n"
     ]
    },
    {
     "data": {
      "application/vnd.jupyter.widget-view+json": {
       "model_id": "00b2e2e5db2a4469ad8e0580cddf7801",
       "version_major": 2,
       "version_minor": 0
      },
      "text/plain": [
       "HBox(children=(SelectMultiple(_dom_classes=('monospace',), index=(35,), layout=Layout(width='600px'), options=…"
      ]
     },
     "metadata": {},
     "output_type": "display_data"
    },
    {
     "data": {
      "text/plain": [
       "<jupyter_cadquery.replay.Replay at 0x7fb64a5a7550>"
      ]
     },
     "execution_count": 7,
     "metadata": {},
     "output_type": "execute_result"
    }
   ],
   "source": [
    "def make_grip_section():\n",
    "    grip_section = (\n",
    "        cq.Workplane('ZY')\n",
    "        .placeSketch(grip_sketch)\n",
    "        .extrude(grip_length / 2, both=True)\n",
    "        .workplane()\n",
    "        .placeSketch(spacer_sketch)\n",
    "        .extrude(5 / 2, both=True, combine=True)\n",
    "        .consolidateWires()\n",
    "    )\n",
    "\n",
    "    grip_section.vertices('>X').vertices('>Y').vertices('<Z').tag('left_point_front')\n",
    "    grip_section.vertices('>X').vertices('<Y').vertices('<Z').tag('left_point')\n",
    "    grip_section.vertices('>X').vertices('<Y').vertices('>Z').tag('left_point_up')\n",
    "    grip_section.vertices('<X').vertices('>Y').vertices('<Z').tag('right_point_front')\n",
    "    grip_section.vertices('<X').vertices('<Y').vertices('<Z').tag('right_point')\n",
    "    grip_section.vertices('<X').vertices('<Y').vertices('>Z').tag('right_point_up')\n",
    "    return grip_section\n",
    "    \n",
    "show_object(make_grip_section())"
   ]
  },
  {
   "cell_type": "code",
   "execution_count": 8,
   "id": "1e37487d-2d4b-4a3c-af63-dddacd49198c",
   "metadata": {},
   "outputs": [
    {
     "name": "stdout",
     "output_type": "stream",
     "text": [
      "Use the multi select box below to select one or more steps you want to examine\n"
     ]
    },
    {
     "data": {
      "application/vnd.jupyter.widget-view+json": {
       "model_id": "f089d620843f4f4baecb8ecd2b4e769d",
       "version_major": 2,
       "version_minor": 0
      },
      "text/plain": [
       "HBox(children=(SelectMultiple(_dom_classes=('monospace',), index=(10,), layout=Layout(width='600px'), options=…"
      ]
     },
     "metadata": {},
     "output_type": "display_data"
    },
    {
     "data": {
      "text/plain": [
       "<jupyter_cadquery.replay.Replay at 0x7fb64a654c40>"
      ]
     },
     "execution_count": 8,
     "metadata": {},
     "output_type": "execute_result"
    }
   ],
   "source": [
    "def make_l_section(length):\n",
    "    inner_bore_height = 14\n",
    "\n",
    "    l_section = (\n",
    "        cq.Workplane('ZY')\n",
    "        .placeSketch(l_sketch)\n",
    "        .extrude(length / 2, both=True)\n",
    "    )\n",
    "    l_section.vertices('>X').vertices('>Y').vertices('<Z').tag('left_point_front')\n",
    "    l_section.vertices('>X').vertices('<Y').vertices('<Z').tag('left_point')\n",
    "    l_section.vertices('>X').vertices('<Y').vertices('>Z').tag('left_point_up')\n",
    "    l_section.vertices('<X').vertices('>Y').vertices('<Z').tag('right_point_front')\n",
    "    l_section.vertices('<X').vertices('<Y').vertices('<Z').tag('right_point')\n",
    "    l_section.vertices('<X').vertices('<Y').vertices('>Z').tag('right_point_up')\n",
    "    return l_section\n",
    "\n",
    "show_object(make_l_section(l_length))"
   ]
  },
  {
   "cell_type": "code",
   "execution_count": 9,
   "id": "2bc657bf-f375-471a-a1a9-69cc2723d9a7",
   "metadata": {},
   "outputs": [
    {
     "name": "stdout",
     "output_type": "stream",
     "text": [
      "Use the multi select box below to select one or more steps you want to examine\n"
     ]
    },
    {
     "data": {
      "application/vnd.jupyter.widget-view+json": {
       "model_id": "34ae9be018594995a60cee5d78d3decd",
       "version_major": 2,
       "version_minor": 0
      },
      "text/plain": [
       "HBox(children=(SelectMultiple(_dom_classes=('monospace',), index=(14,), layout=Layout(width='600px'), options=…"
      ]
     },
     "metadata": {},
     "output_type": "display_data"
    },
    {
     "data": {
      "text/plain": [
       "<jupyter_cadquery.replay.Replay at 0x7fb64a67a5e0>"
      ]
     },
     "execution_count": 9,
     "metadata": {},
     "output_type": "execute_result"
    }
   ],
   "source": [
    "def make_l_csk_section(length):\n",
    "    inner_bore_height = 14\n",
    "\n",
    "    l_section = (\n",
    "        cq.Workplane('ZY')\n",
    "        .placeSketch(l_sketch)\n",
    "        .extrude(length / 2, both=True)\n",
    "        .faces(\">Y[-2]\").workplane()\n",
    "        .center(0, inner_bore_height)\n",
    "        .cskHole(4, 8, 100, depth=None)\n",
    "    )\n",
    "    l_section.vertices('>X').vertices('>Y').vertices('<Z').tag('left_point_front')\n",
    "    l_section.vertices('>X').vertices('<Y').vertices('<Z').tag('left_point')\n",
    "    l_section.vertices('>X').vertices('<Y').vertices('>Z').tag('left_point_up')\n",
    "    l_section.vertices('<X').vertices('>Y').vertices('<Z').tag('right_point_front')\n",
    "    l_section.vertices('<X').vertices('<Y').vertices('<Z').tag('right_point')\n",
    "    l_section.vertices('<X').vertices('<Y').vertices('>Z').tag('right_point_up')\n",
    "    return l_section\n",
    "\n",
    "show_object(make_l_csk_section(l_length))"
   ]
  },
  {
   "cell_type": "code",
   "execution_count": 10,
   "id": "68793818-6ef9-45b6-a620-0260e0024e70",
   "metadata": {},
   "outputs": [
    {
     "name": "stdout",
     "output_type": "stream",
     "text": [
      "Use the multi select box below to select one or more steps you want to examine\n"
     ]
    },
    {
     "data": {
      "application/vnd.jupyter.widget-view+json": {
       "model_id": "e30b036032da459f8f7e812287872e29",
       "version_major": 2,
       "version_minor": 0
      },
      "text/plain": [
       "HBox(children=(SelectMultiple(_dom_classes=('monospace',), index=(18,), layout=Layout(width='600px'), options=…"
      ]
     },
     "metadata": {},
     "output_type": "display_data"
    },
    {
     "data": {
      "text/plain": [
       "<jupyter_cadquery.replay.Replay at 0x7fb642231c10>"
      ]
     },
     "execution_count": 10,
     "metadata": {},
     "output_type": "execute_result"
    }
   ],
   "source": [
    "def make_l_slot_section(length, slot):\n",
    "    inner_bore_height = 14\n",
    "\n",
    "    l_section = (\n",
    "        cq.Workplane('ZY')\n",
    "        .placeSketch(l_sketch)\n",
    "        .extrude(length / 2, both=True)\n",
    "        .faces(\">Y[-2]\").workplane()\n",
    "        .center(0, inner_bore_height)\n",
    "        .slot2D(slot, 4).tag('slot')\n",
    "        .cutThruAll()\n",
    "        .faces('<Y[1]')\n",
    "        .edges('not (>X or <X or >Z or <Z)')\n",
    "        .chamfer(1.6)\n",
    "    )\n",
    "    l_section.vertices('>X').vertices('>Y').vertices('<Z').tag('left_point_front')\n",
    "    l_section.vertices('>X').vertices('<Y').vertices('<Z').tag('left_point')\n",
    "    l_section.vertices('>X').vertices('<Y').vertices('>Z').tag('left_point_up')\n",
    "    l_section.vertices('<X').vertices('>Y').vertices('<Z').tag('right_point_front')\n",
    "    l_section.vertices('<X').vertices('<Y').vertices('<Z').tag('right_point')\n",
    "    l_section.vertices('<X').vertices('<Y').vertices('>Z').tag('right_point_up')\n",
    "    return l_section\n",
    "\n",
    "show_object(make_l_slot_section(l_length, 10))"
   ]
  },
  {
   "cell_type": "code",
   "execution_count": 11,
   "id": "da6255ba-a1a7-445b-a5ce-6f81bfcac98f",
   "metadata": {},
   "outputs": [
    {
     "name": "stdout",
     "output_type": "stream",
     "text": [
      "Use the multi select box below to select one or more steps you want to examine\n"
     ]
    },
    {
     "data": {
      "application/vnd.jupyter.widget-view+json": {
       "model_id": "05a6a177d291471aa0025c6b3c6405bf",
       "version_major": 2,
       "version_minor": 0
      },
      "text/plain": [
       "HBox(children=(SelectMultiple(_dom_classes=('monospace',), index=(10,), layout=Layout(width='600px'), options=…"
      ]
     },
     "metadata": {},
     "output_type": "display_data"
    },
    {
     "data": {
      "text/plain": [
       "<jupyter_cadquery.replay.Replay at 0x7fb6421ce2b0>"
      ]
     },
     "execution_count": 11,
     "metadata": {},
     "output_type": "execute_result"
    }
   ],
   "source": [
    "def make_l_angle(angle):\n",
    "    inner_bore_height = 14\n",
    "\n",
    "    l_section = (\n",
    "        cq.Workplane('ZY')\n",
    "        .placeSketch(l_sketch)\n",
    "        .revolve(angle, (-1,-5,0),(0,-5,0))\n",
    "    )\n",
    "    # show_object(l_section.faces('#Z').faces('+X'))\n",
    "    # show_object(l_section.faces('#Z').faces('+X').vertices('<Z'))\n",
    "    # show_object(l_section.faces('#Z').faces('+X').vertices('<Z').vertices('>Y'))\n",
    "    l_section.faces('#Z').faces('+X').vertices('<Z').vertices('>Y').tag('left_point_front')# and >Y').tag('left_point'))\n",
    "    # show_object(l_section.faces('#Z').faces('+X').vertices('<Z'))\n",
    "    # show_object(l_section.faces('#Z').faces('+X').vertices('<Z').vertices('<Y'))\n",
    "    l_section.faces('#Z').faces('+X').vertices('<Z').vertices('<Y').tag('left_point')# and <Y').tag('left_point_up'))\n",
    "    # show_object(l_section.faces('#Z').faces('+X').vertices('>Z'))\n",
    "    # show_object(l_section.faces('#Z').faces('+X').vertices('>Z').vertices('<Y'))\n",
    "    l_section.faces('#Z').faces('+X').vertices('>Z').vertices('<Y').tag('left_point_up')# and >Y').tag('left_point_front'))\n",
    "    if angle < 90:\n",
    "        # show_object(l_section.faces('#Z').faces('not +X'))\n",
    "        # show_object(l_section.faces('#Z').faces('not +X').vertices('<Z'))\n",
    "        # show_object(l_section.faces('#Z').faces('not +X').vertices('<Z').vertices('<Y'))\n",
    "        l_section.faces('#Z').faces('not +X').vertices('<Z').vertices('<Y').tag('right_point')\n",
    "        # show_object(l_section.faces('#Z').faces('not +X').vertices('>Z'))\n",
    "        # show_object(l_section.faces('#Z').faces('not +X').vertices('>Z').vertices('<Y'))\n",
    "        l_section.faces('#Z').faces('not +X').vertices('>Z').vertices('<Y').tag('right_point_up')\n",
    "        # show_object(l_section.faces('#Z').faces('not +X').vertices('<Z'))\n",
    "        # show_object(l_section.faces('#Z').faces('not +X').vertices('<Z').vertices('>Y'))\n",
    "        l_section.faces('#Z').faces('not +X').vertices('<Z').vertices('>Y').tag('right_point_front')\n",
    "    if angle >= 90:\n",
    "        # show_object(l_section.faces('#Z').faces('not +X'))\n",
    "        # show_object(l_section.faces('#Z').faces('not +X').vertices('<Z'))\n",
    "        # show_object(l_section.faces('#Z').faces('not +X').vertices('<Z').vertices('>X'))\n",
    "        l_section.faces('#Z').faces('not +X').vertices('<Z').vertices('>X').tag('right_point')\n",
    "        # show_object(l_section.faces('#Z').faces('not +X').vertices('>Z'))\n",
    "        # show_object(l_section.faces('#Z').faces('not +X').vertices('>Z').vertices('>X'))\n",
    "        l_section.faces('#Z').faces('not +X').vertices('>Z').vertices('>X').tag('right_point_up')\n",
    "        # show_object(l_section.faces('#Z').faces('not +X').vertices('<Z'))\n",
    "        # show_object(l_section.faces('#Z').faces('not +X').vertices('<Z').vertices('<X'))\n",
    "        l_section.faces('#Z').faces('not +X').vertices('<Z').vertices('<X').tag('right_point_front')\n",
    "    return l_section\n",
    "\n",
    "# for angle in range(1, 90, 10):\n",
    "#     make_l_angle(angle)\n",
    "\n",
    "show_object(make_l_angle(80))"
   ]
  },
  {
   "cell_type": "markdown",
   "id": "37fdda0b-4c9d-4095-97f9-ed1a746a4d83",
   "metadata": {},
   "source": [
    "## Assamble the parts"
   ]
  },
  {
   "cell_type": "code",
   "execution_count": 12,
   "id": "adf0deb3-cb00-430d-a6d5-7a5623005335",
   "metadata": {},
   "outputs": [
    {
     "name": "stdout",
     "output_type": "stream",
     "text": [
      "Removing replay from cadquery.Workplane (will show a final RuntimeWarning if not suppressed)\n"
     ]
    }
   ],
   "source": [
    "disable_replay()\n",
    "show_object = show"
   ]
  },
  {
   "cell_type": "code",
   "execution_count": 13,
   "id": "35da94af-d206-4446-b3a1-f39dd2c98cd8",
   "metadata": {},
   "outputs": [
    {
     "name": "stdout",
     "output_type": "stream",
     "text": [
      "100% ⋮————————————————————————————————————————————————————————————⋮ (3/3)  0.03s\n"
     ]
    },
    {
     "data": {
      "application/vnd.jupyter.widget-view+json": {
       "model_id": "e410c68acd9a444c87c76a7038cba2ee",
       "version_major": 2,
       "version_minor": 0
      },
      "text/plain": [
       "CadViewerWidget(anchor=None, cad_width=780, glass=False, height=540, pinning=False, theme='light', title=None,…"
      ]
     },
     "metadata": {},
     "output_type": "display_data"
    },
    {
     "data": {
      "text/html": [
       "<div></div>"
      ],
      "text/plain": [
       "<IPython.core.display.HTML object>"
      ]
     },
     "metadata": {},
     "output_type": "display_data"
    },
    {
     "data": {
      "text/plain": [
       "<cad_viewer_widget.widget.CadViewer at 0x7fb640e5e940>"
      ]
     },
     "execution_count": 13,
     "metadata": {},
     "output_type": "execute_result"
    }
   ],
   "source": [
    "def make_basic_mount():\n",
    "    basic_mount = (\n",
    "        cq.Assembly()\n",
    "        .add(make_grip_section(), name=\"g0\")\n",
    "        .add(make_l_section(l_length), name=\"l0\")\n",
    "        .add(make_grip_section(), name=\"g1\")\n",
    "    )\n",
    "    (\n",
    "        basic_mount\n",
    "        .constrain(\"g0?left_point\", \"Fixed\")\n",
    "        .constrain(\"g0?right_point_front\", \"l0?left_point_front\", \"Point\")\n",
    "        .constrain(\"g0?right_point\", \"l0?left_point\", \"Point\")\n",
    "        .constrain(\"g0?right_point_up\", \"l0?left_point_up\", \"Point\")\n",
    "        .constrain(\"l0?right_point_front\", \"g1?left_point_front\", \"Point\")\n",
    "        .constrain(\"l0?right_point\", \"g1?left_point\", \"Point\")\n",
    "        .constrain(\"l0?right_point_up\", \"g1?left_point_up\", \"Point\")\n",
    "    )\n",
    "    basic_mount.solve()\n",
    "    return basic_mount\n",
    "\n",
    "show_object(make_basic_mount())"
   ]
  },
  {
   "cell_type": "code",
   "execution_count": 14,
   "id": "be1e21f2-18ab-4829-9cde-d599a5942b2b",
   "metadata": {},
   "outputs": [
    {
     "name": "stdout",
     "output_type": "stream",
     "text": [
      "100% ⋮————————————————————————————————————————————————————————————⋮ (6/6)  0.05s\n"
     ]
    },
    {
     "data": {
      "application/vnd.jupyter.widget-view+json": {
       "model_id": "098dba19304c4cc89974de70aec45297",
       "version_major": 2,
       "version_minor": 0
      },
      "text/plain": [
       "CadViewerWidget(anchor=None, cad_width=780, glass=False, height=540, pinning=False, theme='light', title=None,…"
      ]
     },
     "metadata": {},
     "output_type": "display_data"
    },
    {
     "data": {
      "text/html": [
       "<div></div>"
      ],
      "text/plain": [
       "<IPython.core.display.HTML object>"
      ]
     },
     "metadata": {},
     "output_type": "display_data"
    },
    {
     "data": {
      "text/plain": [
       "<cad_viewer_widget.widget.CadViewer at 0x7fb6409e1d00>"
      ]
     },
     "execution_count": 14,
     "metadata": {},
     "output_type": "execute_result"
    }
   ],
   "source": [
    "def make_mount():\n",
    "    mount = (\n",
    "        cq.Assembly()\n",
    "        .add(make_basic_mount(), name=\"m0\")\n",
    "        .add(make_basic_mount(), name=\"m1\")\n",
    "    )\n",
    "    (\n",
    "        mount\n",
    "        # .constrain(\"m0@g0?left_point\", \"Fixed\")\n",
    "        # .constrain(\"m0@g0?right_plane\", \"m1@l0?left_plane\", \"PointInPlane\")\n",
    "        # .constrain(\"m0@g0?right_point\", \"m1@l0?left_point\", \"Point\")\n",
    "        # .constrain(\"m0@g0?right_point_up\", \"m1@l0?left_point_up\", \"Point\")\n",
    "    )\n",
    "    # mount.solve()\n",
    "    return mount\n",
    "show_object(make_mount())"
   ]
  },
  {
   "cell_type": "code",
   "execution_count": 15,
   "id": "e79baf36-709c-42f4-8929-e9ace36f7c65",
   "metadata": {},
   "outputs": [],
   "source": [
    "class Wallmount_Constraints:\n",
    "    def __init__(self):\n",
    "        self.assembly = cq.Assembly()\n",
    "        self.names = []\n",
    "\n",
    "    def _add_text_section(self, section, name: str, text: str):\n",
    "        # show_object(section.faces(\"<Z[-2]\").workplane(centerOption=\"CenterOfBoundBox\").text(text, 8, -4, combine='cut'))\n",
    "        if text != \"\":\n",
    "            section = section.faces(\"<Z[-2]\").workplane(centerOption=\"CenterOfBoundBox\").text(text, 8, -4, combine='cut')\n",
    "        self._add_section(section, name)\n",
    "        \n",
    "    def _add_section(self, section, name: str):\n",
    "        self.assembly.add(section, name=name)\n",
    "        if len(self.names) == 0:\n",
    "            (\n",
    "                self.assembly\n",
    "                .constrain(name + \"?left_point_front\", \"Fixed\")\n",
    "                .constrain(name + \"?left_point\", \"Fixed\")\n",
    "                .constrain(name + \"?left_point_up\", \"Fixed\")\n",
    "            )\n",
    "        else:\n",
    "            last_name = self.names[-1]\n",
    "            (\n",
    "                self.assembly\n",
    "                .constrain(last_name + \"?right_point_front\", name + \"?left_point_front\", \"Point\")\n",
    "                .constrain(last_name + \"?right_point\", name + \"?left_point\", \"Point\")\n",
    "                .constrain(last_name + \"?right_point_up\", name + \"?left_point_up\", \"Point\")\n",
    "            )\n",
    "            for _ in range(10):\n",
    "                self.assembly = self.assembly.solve()\n",
    "            # show_object(self.assembly)\n",
    "        self.names.append(name)\n",
    "\n",
    "    def add_l_section(self, name: str, length: float, text: str=\"\"):\n",
    "        self._add_text_section(make_l_section(length), name, text)\n",
    "        return self\n",
    "    \n",
    "    def add_l_csk_section(self, name: str, length: float, text: str=\"\"):\n",
    "        self._add_text_section(make_l_csk_section(length), name, text)\n",
    "        return self\n",
    "    \n",
    "    def add_l_slot_section(self, name: str, length: float, slot_length: float, text: str=\"\"):\n",
    "        self._add_text_section(make_l_slot_section(length, slot_length), name, text)\n",
    "        return self\n",
    "\n",
    "    def add_grip_section(self, name: str):\n",
    "        self._add_section(make_grip_section(), name)\n",
    "        return self\n",
    "    \n",
    "    def add_l_angle(self, name: str, angle):\n",
    "        self._add_section(make_l_angle(angle), name)\n",
    "        return self\n",
    "    \n",
    "    def make(self):\n",
    "        self.assembly.solve()\n",
    "        return self.assembly"
   ]
  },
  {
   "cell_type": "code",
   "execution_count": 16,
   "id": "a6e5edc7-d15f-4309-8d97-8bf8e51b1186",
   "metadata": {},
   "outputs": [
    {
     "name": "stdout",
     "output_type": "stream",
     "text": [
      "\u001b[32;1m\n",
      "*******************************************************************\n",
      "******        Statistics on Transfer (Write)                 ******\u001b[0m\n",
      "\u001b[32;1m\n",
      "*******************************************************************\n",
      "******        Transfer Mode = 0  I.E.  As Is       ******\u001b[0m\n",
      "\u001b[32;1m******        Transferring Shape, ShapeType = 0                      ******\u001b[0m\n",
      "\u001b[32;1m** WorkSession : Sending all data\u001b[0m\n",
      "\u001b[32;1m Step File Name : mount.step(6732 ents)  Write  Done\u001b[0m\n"
     ]
    }
   ],
   "source": [
    "mount = Wallmount_Constraints()\n",
    "\n",
    "angle = 132\n",
    "\n",
    "(\n",
    "    mount\n",
    "    # .add_grip_section(\"g0\")\n",
    "    # .add_l_slot_section(\"l1\", 18, 10, str(angle) + \"°\")\n",
    "    # .add_grip_section(\"g1\")\n",
    "    # .add_l_angle(\"l0\", 180 - angle)\n",
    "    .add_grip_section(\"g2\")\n",
    "    .add_l_slot_section(\"l2\", 18, 10)\n",
    "    .add_grip_section(\"g3\")\n",
    "    # .add_l_section(\"l1\", 40)\n",
    "    # .add_grip_section(\"g2\")\n",
    "    # .add_l_section(\"l2\", 40)\n",
    "    # .add_grip_section(\"g3\")\n",
    "    .make()\n",
    ").save('mount.step')\n",
    "\n",
    "def create_straight_mount():\n",
    "    return (\n",
    "        Wallmount_Constraints()\n",
    "        .add_grip_section(\"g0\")\n",
    "        .add_l_slot_section(\"l1\", 18, 10, \"JJ\")\n",
    "        .add_grip_section(\"g1\")\n",
    "        .make()\n",
    "    )\n",
    "\n",
    "def create_angle_mount(angle: float):\n",
    "    return (\n",
    "        Wallmount_Constraints()\n",
    "        .add_grip_section(\"g0\")\n",
    "        .add_l_slot_section(\"l1\", 18, 10, str(angle) + \"°\")\n",
    "        .add_grip_section(\"g1\")\n",
    "        .add_l_angle(\"l0\", 180 - angle)\n",
    "        .add_grip_section(\"g2\")\n",
    "        .add_l_slot_section(\"l2\", 18, 10, \"JJ\")\n",
    "        .add_grip_section(\"g3\")\n",
    "        .make()\n",
    "    )\n",
    "    "
   ]
  },
  {
   "cell_type": "code",
   "execution_count": 17,
   "id": "567b7e62-7632-4c4a-bc76-f772bc286cba",
   "metadata": {},
   "outputs": [
    {
     "name": "stdout",
     "output_type": "stream",
     "text": [
      "angle_mount_080\n"
     ]
    },
    {
     "name": "stderr",
     "output_type": "stream",
     "text": [
      "/opt/conda/envs/cq/lib/python3.9/site-packages/cadquery/utils.py:65: FutureWarning: Kwarg <cut> will be removed. Plase use <combine='cut'>\n",
      "  warn(\n"
     ]
    },
    {
     "name": "stdout",
     "output_type": "stream",
     "text": [
      "\u001b[32;1m\n",
      "*******************************************************************\n",
      "******        Statistics on Transfer (Write)                 ******\u001b[0m\n",
      "\u001b[32;1m\n",
      "*******************************************************************\n",
      "******        Transfer Mode = 0  I.E.  As Is       ******\u001b[0m\n",
      "\u001b[32;1m******        Transferring Shape, ShapeType = 0                      ******\u001b[0m\n",
      "\u001b[32;1m** WorkSession : Sending all data\u001b[0m\n",
      "\u001b[32;1m Step File Name : angle_mount_080.step(23335 ents)  Write  Done\u001b[0m\n",
      "angle_mount_082\n",
      "\u001b[32;1m\n",
      "*******************************************************************\n",
      "******        Statistics on Transfer (Write)                 ******\u001b[0m\n",
      "\u001b[32;1m\n",
      "*******************************************************************\n",
      "******        Transfer Mode = 0  I.E.  As Is       ******\u001b[0m\n",
      "\u001b[32;1m******        Transferring Shape, ShapeType = 0                      ******\u001b[0m\n",
      "\u001b[32;1m** WorkSession : Sending all data\u001b[0m\n",
      "\u001b[32;1m Step File Name : angle_mount_082.step(23337 ents)  Write  Done\u001b[0m\n",
      "angle_mount_084\n",
      "\u001b[32;1m\n",
      "*******************************************************************\n",
      "******        Statistics on Transfer (Write)                 ******\u001b[0m\n",
      "\u001b[32;1m\n",
      "*******************************************************************\n",
      "******        Transfer Mode = 0  I.E.  As Is       ******\u001b[0m\n",
      "\u001b[32;1m******        Transferring Shape, ShapeType = 0                      ******\u001b[0m\n",
      "\u001b[32;1m** WorkSession : Sending all data\u001b[0m\n",
      "\u001b[32;1m Step File Name : angle_mount_084.step(22369 ents)  Write  Done\u001b[0m\n",
      "angle_mount_086\n",
      "\u001b[32;1m\n",
      "*******************************************************************\n",
      "******        Statistics on Transfer (Write)                 ******\u001b[0m\n",
      "\u001b[32;1m\n",
      "*******************************************************************\n",
      "******        Transfer Mode = 0  I.E.  As Is       ******\u001b[0m\n",
      "\u001b[32;1m******        Transferring Shape, ShapeType = 0                      ******\u001b[0m\n",
      "\u001b[32;1m** WorkSession : Sending all data\u001b[0m\n",
      "\u001b[32;1m Step File Name : angle_mount_086.step(24030 ents)  Write  Done\u001b[0m\n",
      "angle_mount_088\n",
      "\u001b[32;1m\n",
      "*******************************************************************\n",
      "******        Statistics on Transfer (Write)                 ******\u001b[0m\n",
      "\u001b[32;1m\n",
      "*******************************************************************\n",
      "******        Transfer Mode = 0  I.E.  As Is       ******\u001b[0m\n",
      "\u001b[32;1m******        Transferring Shape, ShapeType = 0                      ******\u001b[0m\n",
      "\u001b[32;1m** WorkSession : Sending all data\u001b[0m\n",
      "\u001b[32;1m Step File Name : angle_mount_088.step(24906 ents)  Write  Done\u001b[0m\n"
     ]
    }
   ],
   "source": [
    "for angle in range(80, 90, 2):\n",
    "    file_name = \"angle_mount_{0:03}\".format(angle)\n",
    "    print(file_name)\n",
    "    angle_mount = create_angle_mount(angle)\n",
    "    \n",
    "    angle_mount.save(file_name + \".step\")\n",
    "    cq.exporters.export(angle_mount.toCompound(), file_name + \".stl\")"
   ]
  },
  {
   "cell_type": "code",
   "execution_count": 18,
   "id": "618e2a68-94a8-4597-96a0-42a5f3fdca06",
   "metadata": {},
   "outputs": [],
   "source": [
    "class Wallmount_Singleton:\n",
    "    def __init__(self):\n",
    "        self.mount = None\n",
    "\n",
    "    def add_tags(self):\n",
    "        self.mount.vertices('>X').vertices('>Y').vertices('<Z').tag('left_point_front')\n",
    "        self.mount.vertices('>X').vertices('<Y').vertices('<Z').tag('left_point')\n",
    "        self.mount.vertices('>X').vertices('<Y').vertices('>Z').tag('left_point_up')\n",
    "        self.mount.vertices('<X').vertices('>Y').vertices('<Z').tag('right_point_front')\n",
    "        self.mount.vertices('<X').vertices('<Y').vertices('<Z').tag('right_point')\n",
    "        self.mount.vertices('<X').vertices('<Y').vertices('>Z').tag('right_point_up')\n",
    "        \n",
    "    def add_section(self, section):\n",
    "\n",
    "        if self.mount == None:\n",
    "            self.mount = section\n",
    "        else:\n",
    "            assembly = cq.Assembly()\n",
    "\n",
    "            name = \"new\"\n",
    "            last_name = \"old\"\n",
    "\n",
    "            assembly.add(self.mount, name=name)\n",
    "            assembly.add(section, name=last_name)\n",
    "\n",
    "            (\n",
    "                assembly\n",
    "                .constrain(name + \"?left_point_front\", \"Fixed\")\n",
    "                .constrain(name + \"?left_point\", \"Fixed\")\n",
    "                .constrain(name + \"?left_point_up\", \"Fixed\")\n",
    "                .constrain(last_name + \"?right_point_front\", name + \"?left_point_front\", \"Point\")\n",
    "                .constrain(last_name + \"?right_point\", name + \"?left_point\", \"Point\")\n",
    "                .constrain(last_name + \"?right_point_up\", name + \"?left_point_up\", \"Point\")\n",
    "            )\n",
    "\n",
    "            for _ in range(30):\n",
    "                assembly = assembly.solve()\n",
    "            self.mount = cq.Workplane(assembly.toCompound())\n",
    "            self.add_tags()\n",
    "            # show_object(self.mount)\n",
    "\n",
    "    def add_l_section(self, length: float):\n",
    "        self.add_section(make_l_section(length))\n",
    "        return self\n",
    "    \n",
    "    def add_l_angle(self, angle):\n",
    "        self.add_section(make_l_angle(angle))\n",
    "        return self\n",
    "    \n",
    "    def add_l_csk_section(self, length: float):\n",
    "        self.add_section(make_l_csk_section(length))\n",
    "        return self\n",
    "    \n",
    "    def add_l_slot_section(self, length: float, slot_length: float):\n",
    "        self.add_section(make_l_slot_section(length, slot_length))\n",
    "        return self\n",
    "\n",
    "    def add_grip_section(self):\n",
    "        self.add_section(make_grip_section())\n",
    "        return self\n",
    "    \n",
    "    def make(self):\n",
    "        return self.mount"
   ]
  },
  {
   "cell_type": "code",
   "execution_count": 19,
   "id": "1fb82dc0-3f65-4941-9b05-9ec46e4e8bc1",
   "metadata": {},
   "outputs": [
    {
     "data": {
      "application/vnd.jupyter.widget-view+json": {
       "model_id": "2b591180f6044d748c222e87ea1da1e5",
       "version_major": 2,
       "version_minor": 0
      },
      "text/plain": [
       "CadViewerWidget(anchor=None, cad_width=780, glass=False, height=540, pinning=False, theme='light', title=None,…"
      ]
     },
     "metadata": {},
     "output_type": "display_data"
    },
    {
     "data": {
      "text/html": [
       "<div></div>"
      ],
      "text/plain": [
       "<IPython.core.display.HTML object>"
      ]
     },
     "metadata": {},
     "output_type": "display_data"
    },
    {
     "data": {
      "text/plain": [
       "<cad_viewer_widget.widget.CadViewer at 0x7fb6408cb370>"
      ]
     },
     "execution_count": 19,
     "metadata": {},
     "output_type": "execute_result"
    }
   ],
   "source": [
    "mount = Wallmount_Singleton()\n",
    "\n",
    "(\n",
    "    mount\n",
    "    # .add_grip_section()\n",
    "    # .add_l_section(40)\n",
    "    # .add_grip_section()\n",
    "    # .add_l_slot_section(40, 10)\n",
    "    # .add_grip_section()\n",
    "    # .add_l_csk_section(40)\n",
    "    # .add_grip_section()\n",
    "    .add_l_section(40)\n",
    "    .add_l_angle(80)\n",
    "    .add_l_section(40)\n",
    "    # .add_l_angle(80)\n",
    "    # .add_l_section(40)\n",
    "    # .add_grip_section()\n",
    ")\n",
    "\n",
    "show_object(mount.make())"
   ]
  },
  {
   "cell_type": "code",
   "execution_count": null,
   "id": "ec260339-11cb-40b7-8a5d-29349af3f0e0",
   "metadata": {},
   "outputs": [],
   "source": [
    "result = cq.importers.importStep('mount.step')\n",
    "# cq.Workplane(result.toCompound())\n",
    "\n",
    "cq.exporters.export(result, 'mount.stl')"
   ]
  },
  {
   "cell_type": "code",
   "execution_count": null,
   "id": "0998b7e9-53f4-4435-9571-3ad7481b96d5",
   "metadata": {},
   "outputs": [],
   "source": [
    "cq.Workplane().box(50,50,50).faces(\">Z\").text(\"180g\", 2, 1, cut=True)"
   ]
  },
  {
   "cell_type": "code",
   "execution_count": null,
   "id": "2c2c4751-8f86-462d-bdb6-5d1f6abd170a",
   "metadata": {},
   "outputs": [],
   "source": []
  }
 ],
 "metadata": {
  "kernelspec": {
   "display_name": "Python 3 (ipykernel)",
   "language": "python",
   "name": "python3"
  },
  "language_info": {
   "codemirror_mode": {
    "name": "ipython",
    "version": 3
   },
   "file_extension": ".py",
   "mimetype": "text/x-python",
   "name": "python",
   "nbconvert_exporter": "python",
   "pygments_lexer": "ipython3",
   "version": "3.9.12"
  }
 },
 "nbformat": 4,
 "nbformat_minor": 5
}
